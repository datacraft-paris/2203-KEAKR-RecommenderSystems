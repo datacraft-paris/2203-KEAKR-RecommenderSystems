{
 "cells": [
  {
   "cell_type": "markdown",
   "id": "7b89867d",
   "metadata": {},
   "source": [
    "# Atelier Keakr\n",
    "\n",
    "Travail sur un système de recommandation de contenu."
   ]
  },
  {
   "cell_type": "markdown",
   "id": "84a67ccd",
   "metadata": {},
   "source": [
    "Ici, on se connecte à la base."
   ]
  },
  {
   "cell_type": "code",
   "execution_count": 116,
   "id": "083f5eb4",
   "metadata": {},
   "outputs": [],
   "source": [
    "from datetime import datetime, timedelta\n",
    "from pyArango.connection import *\n",
    "conn = Connection(arangoURL=\"https://db-datacraft.staging.keakr.io/\",\n",
    "username=\"root\", password=\"vDWSyr2fPfkaZkUw\")"
   ]
  },
  {
   "cell_type": "markdown",
   "id": "ea0596f4",
   "metadata": {},
   "source": [
    "Ici, on choisit la BDD keakr"
   ]
  },
  {
   "cell_type": "code",
   "execution_count": 3,
   "id": "2768ea2b",
   "metadata": {},
   "outputs": [],
   "source": [
    "db = conn[\"keakr\"]"
   ]
  },
  {
   "cell_type": "markdown",
   "id": "480ae4f8",
   "metadata": {},
   "source": [
    "***"
   ]
  },
  {
   "cell_type": "markdown",
   "id": "087c59a2",
   "metadata": {},
   "source": [
    "***"
   ]
  },
  {
   "cell_type": "markdown",
   "id": "5e166ee8",
   "metadata": {},
   "source": [
    "Données des utilisateurs\n",
    "---\n",
    "\n",
    "Cette fonction permet d'extraire les informations relatives à un ou plusieurs utilisateurs keakr, sur la base de leur individuel.  \n",
    "**Remarque :** Il faut filtrer cette requête sur des utilisateurs donnés pour ne pas surcharger la base de données (par exemple, ceux récupérés via une autre requête, comme les utilisateurs les plus actifs).\n",
    "\n",
    "![exemple de sortie](./utils/Keakr_fct_user.png)"
   ]
  },
  {
   "cell_type": "code",
   "execution_count": 52,
   "id": "3a656803",
   "metadata": {},
   "outputs": [],
   "source": [
    "def get_user_info(user_id):\n",
    "    aql = \"for u in users filter u._id in {}\".format(user_id)+\" return {id: u._key, createdAt: u.createdAt,lastConnectionDate: u.lastConnectionDate,usedGenres: u.profile.genres,preferredGenres: (for p in attributes(u.preferences) for g in attributes(u.preferences[p].genres) collect genreId = g aggregate count = sum(u.preferences[p].genres[g]) sort count desc return {genreId, count}), stats: u.stats, isBeatmaker: u.stats.beatCount > 0, isSinger: u.stats.keakCount > 0}\"\n",
    "    return db.AQLQuery(aql, rawResults=True)\n"
   ]
  },
  {
   "cell_type": "code",
   "execution_count": 200,
   "id": "50ce95db",
   "metadata": {},
   "outputs": [
    {
     "name": "stdout",
     "output_type": "stream",
     "text": [
      "2\n",
      "[{'id': '17301813627868798088', 'createdAt': '2021-04-27T14:29:55.7851529Z', 'lastConnectionDate': '2022-02-09T09:34:27.1083572Z', 'usedGenres': [{'genreId': '12468689066', 'count': 2}, {'genreId': '17301813621692872888', 'count': 31}, {'genreId': '17301813621692872889', 'count': 3}, {'genreId': '17301813621692872891', 'count': 3}, {'genreId': '17301813621692872893', 'count': 1}, {'genreId': '17301813621692872894', 'count': 9}, {'genreId': '17301813621692872896', 'count': 2}, {'genreId': '17301813623043473093', 'count': 60}, {'genreId': '9920897514', 'count': 7}, {'genreId': '9920897516', 'count': 3}, {'genreId': '9920897517', 'count': 16}, {'genreId': '9920897519', 'count': 17}, {'genreId': '9920897520', 'count': 2}, {'genreId': '9920897521', 'count': 2}, {'genreId': '9920897522', 'count': 5}, {'genreId': '9920897523', 'count': 4}, {'genreId': '9920897524', 'count': 2}, {'genreId': '9920897525', 'count': 8}, {'genreId': '9920897526', 'count': 2}, {'genreId': '9920897527', 'count': 2}, {'genreId': '9920897528', 'count': 7}, {'genreId': '9920897529', 'count': 2}, {'genreId': '9920897532', 'count': 12}, {'genreId': '9920897534', 'count': 5}, {'genreId': '9920897535', 'count': 11}, {'genreId': '9920897536', 'count': 4}, {'genreId': '9920897537', 'count': 2}, {'genreId': '9920897543', 'count': 129}, {'genreId': '9920897544', 'count': 1}, {'genreId': '9920897545', 'count': 1}, {'genreId': '9920897546', 'count': 1}], 'preferredGenres': [], 'stats': {'battleCreatedCount': 0, 'battleLostCount': 0, 'battleRespondedCount': 0, 'battleWonCount': 0, 'beatCategoryCount': 0, 'beatCount': 0, 'beatListenedCount': 8541, 'commentCount': 7199, 'followerCount': 540, 'followingCount': 463, 'friendCount': 453, 'keakCount': 568, 'keakrCoinGiven': 50, 'keakrCoinReceived': 190, 'lastImportedVideoUploadedAt': '2022-02-07T10:58:39.8383449Z', 'likeCount': 2862, 'likeGivenCount': 11972, 'mutualFollowCount': 454, 'overallBeatUsage': 0, 'playlistCount': 2, 'prizeMoneyParticipationCount': 0, 'prizeMoneyWinner': False, 'sessionCount': 9780, 'shareCount': 6290, 'viewCount': 21726}, 'isBeatmaker': False, 'isSinger': True}]\n"
     ]
    }
   ],
   "source": [
    "users = [\"users/17301813629699063750\", \"users/17301813627868798088\"] #, \"users/17301813625254286371\", \"users/6132767409\", \"users/17301813629883872232\", \"users/17301813628105104258\", \"users/65324880\", \"users/17301813625444199021\", \"users/17301813629478571151\", \"users/63969001\", \"users/17301813622852507908\", \"users/17301813621614964195\"]\n",
    "\n",
    "query = get_user_info([\"users/17301813629699063750\", \"users/17301813627868798088\"])\n",
    "print(len(query))\n",
    "print(query[:1])"
   ]
  },
  {
   "cell_type": "markdown",
   "id": "633ad4d1",
   "metadata": {},
   "source": [
    "----"
   ]
  },
  {
   "cell_type": "markdown",
   "id": "2770b726",
   "metadata": {},
   "source": [
    "Données d'audience\n",
    "---\n",
    "\n",
    "Cette fonction permet d'obtenir des relevés d'audience : une ligne représente \"tel utilisateur a vu tel contenu tel jour et il en a regardé 0%, 25%, 50%, 75% ou 100%\"\n",
    "\n",
    "![exemple de sortie](./utils/Keakr_fct_audience.png)"
   ]
  },
  {
   "cell_type": "code",
   "execution_count": 191,
   "id": "d2a70e23",
   "metadata": {},
   "outputs": [],
   "source": [
    "def get_audience_info(start_period=None, end_period=None, limit=100):\n",
    "    if end_period is None :\n",
    "        end_period = datetime.today().strftime('%Y-%m-%d')\n",
    "    if start_period is None :\n",
    "        start_period = (datetime.today() - timedelta(days=30)).strftime('%Y-%m-%d')\n",
    "    \n",
    "    aql = \"for v in views filter v.timestamp >= '{}' filter v.timestamp <= '{}'\".format(start_period, end_period)+\" filter PARSE_IDENTIFIER(v.contentId).collection == 'keaks' return {userId: v.userId, contentId: v.contentId, timestamp: v.timestamp, progress: v.progress}\"\n",
    "    return db.AQLQuery(aql, rawResults=True, batchSize=limit)"
   ]
  },
  {
   "cell_type": "code",
   "execution_count": 195,
   "id": "5bf2b551",
   "metadata": {},
   "outputs": [
    {
     "name": "stdout",
     "output_type": "stream",
     "text": [
      "85834\n"
     ]
    }
   ],
   "source": [
    "query = get_audience_info(start_period='2022-02-01', end_period='2022-02-15', limit=100000)\n",
    "\n",
    "print(len(query))"
   ]
  },
  {
   "cell_type": "markdown",
   "id": "4095d3e4",
   "metadata": {},
   "source": [
    "----"
   ]
  },
  {
   "cell_type": "markdown",
   "id": "357a3d17",
   "metadata": {},
   "source": [
    "Données d'engagement sur le contenu\n",
    "---\n",
    "\n",
    "Cette fonction permet d'obtenir des indicateurs relatifs à l'engagement sur les contenu de la part des utilisateurs : nombres de vus, commentaires, 'likes', pourcentage moyen de visionage et des informations sur l'instrumentale.\n",
    "\n",
    "![exemple de sortie](./utils/Keakr_fct_engagement.png)"
   ]
  },
  {
   "cell_type": "code",
   "execution_count": 159,
   "id": "6bc75015",
   "metadata": {},
   "outputs": [],
   "source": [
    "def get_engagement_info(limit=250):\n",
    "    aql = \"\"\"for k in keaks \n",
    "    let basedOn = first(for i in isBasedOn filter i._from == k._id limit 1 return i._to)\n",
    "    filter basedOn\n",
    "    let beat = document(basedOn)\n",
    "    let genres = (for g in beat.genres let genre = document(beatGenres, g) return {genreId: genre._key, name: genre.name})\"\"\"\n",
    "    \n",
    "    aql += \" limit {}\".format(limit)\n",
    "    \n",
    "    aql += \" return {id: k._id, createdAt: k.createdAt, media: k.hlsStreamingUrl, likeCount: k.stats.likeCount, commentCount: k.stats.commentCount, viewCount: k.stats.viewCount, averageProgress: k.averageViewProgress ? k.averageViewProgress : 0, genres: genres}\"\n",
    "\n",
    "    return db.AQLQuery(aql, rawResults=True, batchSize=limit)\n"
   ]
  },
  {
   "cell_type": "code",
   "execution_count": 201,
   "id": "6a6b10f6",
   "metadata": {},
   "outputs": [
    {
     "name": "stdout",
     "output_type": "stream",
     "text": [
      "100\n",
      "{'id': 'keaks/17301813623064450175', 'createdAt': '2019-10-10T21:20:59.2970322Z', 'media': 'https://cdn.keakr.com/media/hls/6678b82d-c7c1-4958-9505-247160a7aeac/master.m3u8', 'likeCount': 4, 'commentCount': 2, 'viewCount': 42, 'averageProgress': '7.80', 'genres': [{'genreId': '9920897543', 'name': 'Trap'}]}\n"
     ]
    }
   ],
   "source": [
    "query = get_engagement_info(limit=100)\n",
    "print(len(query))\n",
    "print(query[0])"
   ]
  },
  {
   "cell_type": "markdown",
   "id": "8b8a3f45",
   "metadata": {},
   "source": [
    "----"
   ]
  },
  {
   "cell_type": "markdown",
   "id": "b89abf5d",
   "metadata": {},
   "source": [
    "Données du graphe social\n",
    "---\n",
    "\n",
    "Cette fonction permet d'obtenir des indicateurs relatifs à l'engagement sur les contenu de la part des utilisateurs : nombres de vus, commentaires, 'likes', pourcentage moyen de visionage et des informations sur l'instrumentale.\n",
    "\n",
    "![exemple de sortie](./utils/Keakr_fct_social_graph.png)"
   ]
  },
  {
   "cell_type": "code",
   "execution_count": 170,
   "id": "43da6eb0",
   "metadata": {},
   "outputs": [],
   "source": [
    "def get_social_graph_info(users, limit):\n",
    "    aql = \"\"\"for f in follows \n",
    "             filter f._from in {}\n",
    "             limit {}\"\"\".format(users, limit)\n",
    "    aql += \" return {from: f._from, to: f._to, since: f.createdAt, mutual: f.isMutual}\"\n",
    "    \n",
    "    return db.AQLQuery(aql, rawResults=True, batchSize=limit)\n"
   ]
  },
  {
   "cell_type": "code",
   "execution_count": 175,
   "id": "24a7d5f9",
   "metadata": {},
   "outputs": [
    {
     "name": "stdout",
     "output_type": "stream",
     "text": [
      "20 12\n"
     ]
    }
   ],
   "source": [
    "users = [\"users/17301813629699063750\", \"users/17301813627868798088\", \"users/17301813625254286371\", \"users/6132767409\", \"users/17301813629883872232\", \"users/17301813628105104258\",\n",
    " \"users/65324880\", \"users/17301813625444199021\", \"users/17301813629478571151\", \"users/63969001\", \"users/17301813622852507908\", \"users/17301813621614964195\"]\n",
    "\n",
    "query = get_social_graph_info(users=users, limit=20)\n",
    "print(len(query), len(users))"
   ]
  },
  {
   "cell_type": "markdown",
   "id": "042e642f",
   "metadata": {},
   "source": [
    "---"
   ]
  },
  {
   "cell_type": "markdown",
   "id": "36e2d140",
   "metadata": {},
   "source": [
    "Vidéos les plus vues\n",
    "---\n",
    "\n",
    "Cette fonction extrait les n vidéos qui comptabilisent le plus grand nombre de vues sur une période de temps donnée.  \n",
    "Si aucun argument ne lui est donnée, elle extrait les 100 vidéos les plus vues sur les trente derniers jours par rapport au moment d'exécution.\n",
    "\n",
    "![exemple de sortie](./utils/Keakr_fct_most_watched_video.png)"
   ]
  },
  {
   "cell_type": "code",
   "execution_count": 188,
   "id": "99ac920f",
   "metadata": {},
   "outputs": [],
   "source": [
    "def get_most_watched_video(start_period=None, end_period=None, limit=100):\n",
    "    if end_period is None :\n",
    "        end_period = datetime.today().strftime('%Y-%m-%d')\n",
    "    if start_period is None :\n",
    "        start_period = (datetime.today() - timedelta(days=30)).strftime('%Y-%m-%d')\n",
    "    \n",
    "    aql = \"for v in views filter v.timestamp >= '{}' filter v.timestamp <= '{}'\".format(start_period, end_period)\n",
    "    aql += \"\"\"collect contentId = v.contentId with count into count\n",
    "            sort count desc\n",
    "            limit {}\"\"\".format(limit)\n",
    "    aql += \"return {contentId, count}\"\n",
    "\n",
    "    return db.AQLQuery(aql, rawResults=True, batchSize=limit)"
   ]
  },
  {
   "cell_type": "code",
   "execution_count": null,
   "id": "f8d16284",
   "metadata": {},
   "outputs": [],
   "source": [
    "query = get_most_watched_video(start_period='2021-01-01', end_period='2022-03-22', limit=10)\n",
    "\n",
    "print(len(query))\n",
    "# print(query[:3])"
   ]
  },
  {
   "cell_type": "code",
   "execution_count": null,
   "id": "af87af5c",
   "metadata": {},
   "outputs": [],
   "source": []
  }
 ],
 "metadata": {
  "kernelspec": {
   "display_name": "Python 3 (ipykernel)",
   "language": "python",
   "name": "python3"
  },
  "language_info": {
   "codemirror_mode": {
    "name": "ipython",
    "version": 3
   },
   "file_extension": ".py",
   "mimetype": "text/x-python",
   "name": "python",
   "nbconvert_exporter": "python",
   "pygments_lexer": "ipython3",
   "version": "3.8.10"
  }
 },
 "nbformat": 4,
 "nbformat_minor": 5
}
