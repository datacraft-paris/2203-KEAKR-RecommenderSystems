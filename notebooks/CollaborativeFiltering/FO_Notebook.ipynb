{
 "cells": [
  {
   "cell_type": "code",
   "execution_count": 1,
   "id": "600bbdfc",
   "metadata": {},
   "outputs": [],
   "source": [
    "import json\n",
    "import numpy as np\n",
    "import pandas as pd\n",
    "import time"
   ]
  },
  {
   "cell_type": "code",
   "execution_count": 2,
   "id": "0b3485b5",
   "metadata": {},
   "outputs": [],
   "source": [
    "def from_jsonl_to_df(path):\n",
    "    t_start = time.time()\n",
    "    with open(path, 'r') as json_file:\n",
    "        json_list = list(json_file)\n",
    "    json_list = [json.loads(json_str) for json_str in json_list]\n",
    "    df = pd.DataFrame.from_dict(json_list, orient='columns')\n",
    "    \n",
    "    print(\"DataFrame of {}\".format(len(df))+\" rows loaded in {:.2f} sec\".format(time.time()-t_start))\n",
    "    return df\n",
    "\n",
    "def from_csv_to_df(path):\n",
    "    t_start=time.time()\n",
    "    if \"followers\" in path:\n",
    "        df=pd.read_csv(path, names=[\"follower\", \"person followed\", \"timestamp\"], header=None)\n",
    "    else:\n",
    "        df=pd.read_csv(path)\n",
    "    print(\"DataFrame of {}\".format(len(df))+\" rows loaded in {:.2f} sec\".format(time.time()-t_start))\n",
    "    return df"
   ]
  },
  {
   "cell_type": "code",
   "execution_count": 3,
   "id": "f6ac7039",
   "metadata": {},
   "outputs": [
    {
     "name": "stdout",
     "output_type": "stream",
     "text": [
      "DataFrame of 274472 rows loaded in 5.21 sec\n"
     ]
    }
   ],
   "source": [
    "df_keaks = from_jsonl_to_df(\"data/full/keaks.jsonl\")"
   ]
  },
  {
   "cell_type": "code",
   "execution_count": 11,
   "id": "6ebf827c",
   "metadata": {},
   "outputs": [
    {
     "name": "stdout",
     "output_type": "stream",
     "text": [
      "DataFrame of 1162572 rows loaded in 33.08 sec\n"
     ]
    }
   ],
   "source": [
    "df_users =from_jsonl_to_df(\"data/full/users.jsonl\")"
   ]
  },
  {
   "cell_type": "code",
   "execution_count": 31,
   "id": "b16766b2",
   "metadata": {},
   "outputs": [
    {
     "name": "stdout",
     "output_type": "stream",
     "text": [
      "DataFrame of 28952275 rows loaded in 32.43 sec\n"
     ]
    }
   ],
   "source": [
    "df_audiences = from_csv_to_df(\"data/full/audiences.csv\")"
   ]
  },
  {
   "cell_type": "markdown",
   "id": "abe0eab4",
   "metadata": {},
   "source": [
    "# preparation dataset"
   ]
  },
  {
   "cell_type": "code",
   "execution_count": 33,
   "id": "37435ab4",
   "metadata": {},
   "outputs": [
    {
     "data": {
      "text/plain": [
       "Index(['keakId', 'createdAt', 'likeCount', 'commentCount', 'viewCount',\n",
       "       'averageViewProgress', 'duration', 'hashtags', 'contentType',\n",
       "       'hasSmallThumbnail', 'link', 'beatId', 'beatGenres'],\n",
       "      dtype='object')"
      ]
     },
     "execution_count": 33,
     "metadata": {},
     "output_type": "execute_result"
    }
   ],
   "source": [
    "df_keaks.columns"
   ]
  },
  {
   "cell_type": "code",
   "execution_count": 34,
   "id": "d95f87e5",
   "metadata": {},
   "outputs": [],
   "source": [
    "df_users_filtered = df_users.loc[df_users.sessionCount > 100,'userId']\n",
    "df_keaks_filtered = df_keaks.loc[df_keaks.viewCount > 300,'keakId']\n",
    "df_audiences['userId'] = df_audiences.userId.str[6:]"
   ]
  },
  {
   "cell_type": "code",
   "execution_count": 40,
   "id": "6914404d",
   "metadata": {},
   "outputs": [
    {
     "data": {
      "text/plain": [
       "28952275"
      ]
     },
     "execution_count": 40,
     "metadata": {},
     "output_type": "execute_result"
    }
   ],
   "source": [
    "len(df_audiences)"
   ]
  },
  {
   "cell_type": "code",
   "execution_count": 41,
   "id": "f5b4d2d1",
   "metadata": {},
   "outputs": [
    {
     "data": {
      "text/plain": [
       "15816501"
      ]
     },
     "execution_count": 41,
     "metadata": {},
     "output_type": "execute_result"
    }
   ],
   "source": [
    "dataset = df_audiences[df_audiences.userId.isin(df_users_filtered)]\n",
    "dataset = dataset[dataset.userId.str.isnumeric()]\n",
    "len(dataset)"
   ]
  },
  {
   "cell_type": "code",
   "execution_count": 42,
   "id": "04df6b89",
   "metadata": {},
   "outputs": [],
   "source": [
    "dataset = dataset[dataset.contentId.str.startswith('keaks/')]\n",
    "dataset['contentId'] = dataset.contentId.str[6:]"
   ]
  },
  {
   "cell_type": "code",
   "execution_count": 50,
   "id": "384c644d",
   "metadata": {},
   "outputs": [],
   "source": [
    "dataset = dataset[dataset.contentId.isin(df_keaks_filtered)]"
   ]
  },
  {
   "cell_type": "code",
   "execution_count": 54,
   "id": "dafe5001",
   "metadata": {},
   "outputs": [
    {
     "name": "stderr",
     "output_type": "stream",
     "text": [
      "/tmp/ipykernel_457/2036099706.py:1: SettingWithCopyWarning: \n",
      "A value is trying to be set on a copy of a slice from a DataFrame.\n",
      "Try using .loc[row_indexer,col_indexer] = value instead\n",
      "\n",
      "See the caveats in the documentation: https://pandas.pydata.org/pandas-docs/stable/user_guide/indexing.html#returning-a-view-versus-a-copy\n",
      "  dataset['userId_float']=dataset['userId'].astype('float')\n"
     ]
    }
   ],
   "source": [
    "dataset['userId_float']=dataset['userId'].astype('float')"
   ]
  },
  {
   "cell_type": "code",
   "execution_count": 56,
   "id": "86e901d8",
   "metadata": {},
   "outputs": [
    {
     "name": "stderr",
     "output_type": "stream",
     "text": [
      "/tmp/ipykernel_457/580284295.py:1: SettingWithCopyWarning: \n",
      "A value is trying to be set on a copy of a slice from a DataFrame.\n",
      "Try using .loc[row_indexer,col_indexer] = value instead\n",
      "\n",
      "See the caveats in the documentation: https://pandas.pydata.org/pandas-docs/stable/user_guide/indexing.html#returning-a-view-versus-a-copy\n",
      "  dataset['contentId_float']=dataset['contentId'].astype('float')\n"
     ]
    }
   ],
   "source": [
    "dataset['contentId_float']=dataset['contentId'].astype('float')"
   ]
  },
  {
   "cell_type": "code",
   "execution_count": 58,
   "id": "25486195",
   "metadata": {},
   "outputs": [
    {
     "data": {
      "text/html": [
       "<div>\n",
       "<style scoped>\n",
       "    .dataframe tbody tr th:only-of-type {\n",
       "        vertical-align: middle;\n",
       "    }\n",
       "\n",
       "    .dataframe tbody tr th {\n",
       "        vertical-align: top;\n",
       "    }\n",
       "\n",
       "    .dataframe thead th {\n",
       "        text-align: right;\n",
       "    }\n",
       "</style>\n",
       "<table border=\"1\" class=\"dataframe\">\n",
       "  <thead>\n",
       "    <tr style=\"text-align: right;\">\n",
       "      <th></th>\n",
       "      <th>userId</th>\n",
       "      <th>contentId</th>\n",
       "      <th>timestamp</th>\n",
       "      <th>progress</th>\n",
       "      <th>liked</th>\n",
       "      <th>commented</th>\n",
       "      <th>shared</th>\n",
       "      <th>userId_float</th>\n",
       "      <th>contentId_float</th>\n",
       "    </tr>\n",
       "  </thead>\n",
       "  <tbody>\n",
       "    <tr>\n",
       "      <th>15</th>\n",
       "      <td>89964254</td>\n",
       "      <td>17301813623703245849</td>\n",
       "      <td>2020-01-01T00:00:27.5855735</td>\n",
       "      <td>0</td>\n",
       "      <td>True</td>\n",
       "      <td>False</td>\n",
       "      <td>False</td>\n",
       "      <td>8.996425e+07</td>\n",
       "      <td>1.730181e+19</td>\n",
       "    </tr>\n",
       "    <tr>\n",
       "      <th>16</th>\n",
       "      <td>17301813623510725018</td>\n",
       "      <td>17301813623692602333</td>\n",
       "      <td>2020-01-01T00:00:31.8108756</td>\n",
       "      <td>0</td>\n",
       "      <td>False</td>\n",
       "      <td>False</td>\n",
       "      <td>False</td>\n",
       "      <td>1.730181e+19</td>\n",
       "      <td>1.730181e+19</td>\n",
       "    </tr>\n",
       "    <tr>\n",
       "      <th>19</th>\n",
       "      <td>17301813623542265754</td>\n",
       "      <td>17301813622904268148</td>\n",
       "      <td>2020-01-01T00:00:34.0563874</td>\n",
       "      <td>0</td>\n",
       "      <td>False</td>\n",
       "      <td>False</td>\n",
       "      <td>False</td>\n",
       "      <td>1.730181e+19</td>\n",
       "      <td>1.730181e+19</td>\n",
       "    </tr>\n",
       "    <tr>\n",
       "      <th>27</th>\n",
       "      <td>17301813621999302890</td>\n",
       "      <td>17301813623678748279</td>\n",
       "      <td>2020-01-01T00:00:53.8744904</td>\n",
       "      <td>0</td>\n",
       "      <td>False</td>\n",
       "      <td>False</td>\n",
       "      <td>False</td>\n",
       "      <td>1.730181e+19</td>\n",
       "      <td>1.730181e+19</td>\n",
       "    </tr>\n",
       "    <tr>\n",
       "      <th>57</th>\n",
       "      <td>5857229166</td>\n",
       "      <td>17301813623705765013</td>\n",
       "      <td>2020-01-01T00:01:53.5960251</td>\n",
       "      <td>0</td>\n",
       "      <td>True</td>\n",
       "      <td>True</td>\n",
       "      <td>True</td>\n",
       "      <td>5.857229e+09</td>\n",
       "      <td>1.730181e+19</td>\n",
       "    </tr>\n",
       "    <tr>\n",
       "      <th>...</th>\n",
       "      <td>...</td>\n",
       "      <td>...</td>\n",
       "      <td>...</td>\n",
       "      <td>...</td>\n",
       "      <td>...</td>\n",
       "      <td>...</td>\n",
       "      <td>...</td>\n",
       "      <td>...</td>\n",
       "      <td>...</td>\n",
       "    </tr>\n",
       "    <tr>\n",
       "      <th>28952255</th>\n",
       "      <td>17301813629487711641</td>\n",
       "      <td>17301813626637661392</td>\n",
       "      <td>2022-02-09T09:20:27.7158182</td>\n",
       "      <td>100</td>\n",
       "      <td>False</td>\n",
       "      <td>False</td>\n",
       "      <td>False</td>\n",
       "      <td>1.730181e+19</td>\n",
       "      <td>1.730181e+19</td>\n",
       "    </tr>\n",
       "    <tr>\n",
       "      <th>28952264</th>\n",
       "      <td>17301813624530994731</td>\n",
       "      <td>10563443112</td>\n",
       "      <td>2022-02-09T09:20:44.9335613</td>\n",
       "      <td>0</td>\n",
       "      <td>False</td>\n",
       "      <td>False</td>\n",
       "      <td>False</td>\n",
       "      <td>1.730181e+19</td>\n",
       "      <td>1.056344e+10</td>\n",
       "    </tr>\n",
       "    <tr>\n",
       "      <th>28952265</th>\n",
       "      <td>17301813629487711641</td>\n",
       "      <td>17301813628946757093</td>\n",
       "      <td>2022-02-09T09:20:48.8339588</td>\n",
       "      <td>100</td>\n",
       "      <td>False</td>\n",
       "      <td>False</td>\n",
       "      <td>False</td>\n",
       "      <td>1.730181e+19</td>\n",
       "      <td>1.730181e+19</td>\n",
       "    </tr>\n",
       "    <tr>\n",
       "      <th>28952266</th>\n",
       "      <td>17301813629487711641</td>\n",
       "      <td>17301813626938593807</td>\n",
       "      <td>2022-02-09T09:21:07.1449812</td>\n",
       "      <td>25</td>\n",
       "      <td>False</td>\n",
       "      <td>False</td>\n",
       "      <td>False</td>\n",
       "      <td>1.730181e+19</td>\n",
       "      <td>1.730181e+19</td>\n",
       "    </tr>\n",
       "    <tr>\n",
       "      <th>28952271</th>\n",
       "      <td>17301813622441019504</td>\n",
       "      <td>11770037098</td>\n",
       "      <td>2022-02-09T09:21:52.7335623</td>\n",
       "      <td>0</td>\n",
       "      <td>False</td>\n",
       "      <td>False</td>\n",
       "      <td>False</td>\n",
       "      <td>1.730181e+19</td>\n",
       "      <td>1.177004e+10</td>\n",
       "    </tr>\n",
       "  </tbody>\n",
       "</table>\n",
       "<p>7237868 rows × 9 columns</p>\n",
       "</div>"
      ],
      "text/plain": [
       "                        userId             contentId  \\\n",
       "15                    89964254  17301813623703245849   \n",
       "16        17301813623510725018  17301813623692602333   \n",
       "19        17301813623542265754  17301813622904268148   \n",
       "27        17301813621999302890  17301813623678748279   \n",
       "57                  5857229166  17301813623705765013   \n",
       "...                        ...                   ...   \n",
       "28952255  17301813629487711641  17301813626637661392   \n",
       "28952264  17301813624530994731           10563443112   \n",
       "28952265  17301813629487711641  17301813628946757093   \n",
       "28952266  17301813629487711641  17301813626938593807   \n",
       "28952271  17301813622441019504           11770037098   \n",
       "\n",
       "                            timestamp  progress  liked  commented  shared  \\\n",
       "15        2020-01-01T00:00:27.5855735         0   True      False   False   \n",
       "16        2020-01-01T00:00:31.8108756         0  False      False   False   \n",
       "19        2020-01-01T00:00:34.0563874         0  False      False   False   \n",
       "27        2020-01-01T00:00:53.8744904         0  False      False   False   \n",
       "57        2020-01-01T00:01:53.5960251         0   True       True    True   \n",
       "...                               ...       ...    ...        ...     ...   \n",
       "28952255  2022-02-09T09:20:27.7158182       100  False      False   False   \n",
       "28952264  2022-02-09T09:20:44.9335613         0  False      False   False   \n",
       "28952265  2022-02-09T09:20:48.8339588       100  False      False   False   \n",
       "28952266  2022-02-09T09:21:07.1449812        25  False      False   False   \n",
       "28952271  2022-02-09T09:21:52.7335623         0  False      False   False   \n",
       "\n",
       "          userId_float  contentId_float  \n",
       "15        8.996425e+07     1.730181e+19  \n",
       "16        1.730181e+19     1.730181e+19  \n",
       "19        1.730181e+19     1.730181e+19  \n",
       "27        1.730181e+19     1.730181e+19  \n",
       "57        5.857229e+09     1.730181e+19  \n",
       "...                ...              ...  \n",
       "28952255  1.730181e+19     1.730181e+19  \n",
       "28952264  1.730181e+19     1.056344e+10  \n",
       "28952265  1.730181e+19     1.730181e+19  \n",
       "28952266  1.730181e+19     1.730181e+19  \n",
       "28952271  1.730181e+19     1.177004e+10  \n",
       "\n",
       "[7237868 rows x 9 columns]"
      ]
     },
     "execution_count": 58,
     "metadata": {},
     "output_type": "execute_result"
    }
   ],
   "source": [
    "dataset"
   ]
  },
  {
   "cell_type": "code",
   "execution_count": 59,
   "id": "d631da62",
   "metadata": {},
   "outputs": [
    {
     "name": "stdout",
     "output_type": "stream",
     "text": [
      "DataFrame of 274472 rows loaded in 5.26 sec\n",
      "DataFrame of 1162572 rows loaded in 32.21 sec\n",
      "DataFrame of 28952275 rows loaded in 30.71 sec\n"
     ]
    }
   ],
   "source": [
    "\n",
    "import json\n",
    "import numpy as np\n",
    "import pandas as pd\n",
    "import time\n",
    "\n",
    "def from_jsonl_to_df(path):\n",
    "    t_start = time.time()\n",
    "    with open(path, 'r') as json_file:\n",
    "        json_list = list(json_file)\n",
    "    json_list = [json.loads(json_str) for json_str in json_list]\n",
    "    df = pd.DataFrame.from_dict(json_list, orient='columns')\n",
    "    \n",
    "    print(\"DataFrame of {}\".format(len(df))+\" rows loaded in {:.2f} sec\".format(time.time()-t_start))\n",
    "    return df\n",
    "\n",
    "def from_csv_to_df(path):\n",
    "    t_start=time.time()\n",
    "    if \"followers\" in path:\n",
    "        df=pd.read_csv(path, names=[\"follower\", \"person followed\", \"timestamp\"], header=None)\n",
    "    else:\n",
    "        df=pd.read_csv(path)\n",
    "    print(\"DataFrame of {}\".format(len(df))+\" rows loaded in {:.2f} sec\".format(time.time()-t_start))\n",
    "    return df\n",
    "\n",
    "df_keaks = from_jsonl_to_df(\"data/full/keaks.jsonl\")\n",
    "df_users =from_jsonl_to_df(\"data/full/users.jsonl\")\n",
    "df_audiences = from_csv_to_df(\"data/full/audiences.csv\")\n",
    "\n",
    "df_users_filtered = df_users.loc[df_users.sessionCount > 100,'userId']\n",
    "df_keaks_filtered = df_keaks.loc[df_keaks.viewCount > 300,'keakId']\n",
    "df_audiences['userId'] = df_audiences.userId.str[6:]\n",
    "\n",
    "dataset = df_audiences[df_audiences.userId.isin(df_users_filtered)]\n",
    "dataset = dataset[dataset.userId.str.isnumeric()]\n",
    "\n",
    "dataset = dataset[dataset.contentId.str.startswith('keaks/')]\n",
    "dataset['contentId'] = dataset.contentId.str[6:]\n",
    "\n",
    "dataset = dataset[dataset.contentId.isin(df_keaks_filtered)]\n",
    "dataset['userId_float']=dataset['userId'].astype('float')\n",
    "dataset['contentId_float']=dataset['contentId'].astype('float')\n"
   ]
  },
  {
   "cell_type": "code",
   "execution_count": 60,
   "id": "827c7e25",
   "metadata": {},
   "outputs": [
    {
     "data": {
      "text/html": [
       "<div>\n",
       "<style scoped>\n",
       "    .dataframe tbody tr th:only-of-type {\n",
       "        vertical-align: middle;\n",
       "    }\n",
       "\n",
       "    .dataframe tbody tr th {\n",
       "        vertical-align: top;\n",
       "    }\n",
       "\n",
       "    .dataframe thead th {\n",
       "        text-align: right;\n",
       "    }\n",
       "</style>\n",
       "<table border=\"1\" class=\"dataframe\">\n",
       "  <thead>\n",
       "    <tr style=\"text-align: right;\">\n",
       "      <th></th>\n",
       "      <th>userId</th>\n",
       "      <th>contentId</th>\n",
       "      <th>timestamp</th>\n",
       "      <th>progress</th>\n",
       "      <th>liked</th>\n",
       "      <th>commented</th>\n",
       "      <th>shared</th>\n",
       "      <th>userId_float</th>\n",
       "      <th>contentId_float</th>\n",
       "    </tr>\n",
       "  </thead>\n",
       "  <tbody>\n",
       "    <tr>\n",
       "      <th>15</th>\n",
       "      <td>89964254</td>\n",
       "      <td>17301813623703245849</td>\n",
       "      <td>2020-01-01T00:00:27.5855735</td>\n",
       "      <td>0</td>\n",
       "      <td>True</td>\n",
       "      <td>False</td>\n",
       "      <td>False</td>\n",
       "      <td>8.996425e+07</td>\n",
       "      <td>1.730181e+19</td>\n",
       "    </tr>\n",
       "    <tr>\n",
       "      <th>16</th>\n",
       "      <td>17301813623510725018</td>\n",
       "      <td>17301813623692602333</td>\n",
       "      <td>2020-01-01T00:00:31.8108756</td>\n",
       "      <td>0</td>\n",
       "      <td>False</td>\n",
       "      <td>False</td>\n",
       "      <td>False</td>\n",
       "      <td>1.730181e+19</td>\n",
       "      <td>1.730181e+19</td>\n",
       "    </tr>\n",
       "    <tr>\n",
       "      <th>19</th>\n",
       "      <td>17301813623542265754</td>\n",
       "      <td>17301813622904268148</td>\n",
       "      <td>2020-01-01T00:00:34.0563874</td>\n",
       "      <td>0</td>\n",
       "      <td>False</td>\n",
       "      <td>False</td>\n",
       "      <td>False</td>\n",
       "      <td>1.730181e+19</td>\n",
       "      <td>1.730181e+19</td>\n",
       "    </tr>\n",
       "    <tr>\n",
       "      <th>27</th>\n",
       "      <td>17301813621999302890</td>\n",
       "      <td>17301813623678748279</td>\n",
       "      <td>2020-01-01T00:00:53.8744904</td>\n",
       "      <td>0</td>\n",
       "      <td>False</td>\n",
       "      <td>False</td>\n",
       "      <td>False</td>\n",
       "      <td>1.730181e+19</td>\n",
       "      <td>1.730181e+19</td>\n",
       "    </tr>\n",
       "    <tr>\n",
       "      <th>57</th>\n",
       "      <td>5857229166</td>\n",
       "      <td>17301813623705765013</td>\n",
       "      <td>2020-01-01T00:01:53.5960251</td>\n",
       "      <td>0</td>\n",
       "      <td>True</td>\n",
       "      <td>True</td>\n",
       "      <td>True</td>\n",
       "      <td>5.857229e+09</td>\n",
       "      <td>1.730181e+19</td>\n",
       "    </tr>\n",
       "    <tr>\n",
       "      <th>...</th>\n",
       "      <td>...</td>\n",
       "      <td>...</td>\n",
       "      <td>...</td>\n",
       "      <td>...</td>\n",
       "      <td>...</td>\n",
       "      <td>...</td>\n",
       "      <td>...</td>\n",
       "      <td>...</td>\n",
       "      <td>...</td>\n",
       "    </tr>\n",
       "    <tr>\n",
       "      <th>28952255</th>\n",
       "      <td>17301813629487711641</td>\n",
       "      <td>17301813626637661392</td>\n",
       "      <td>2022-02-09T09:20:27.7158182</td>\n",
       "      <td>100</td>\n",
       "      <td>False</td>\n",
       "      <td>False</td>\n",
       "      <td>False</td>\n",
       "      <td>1.730181e+19</td>\n",
       "      <td>1.730181e+19</td>\n",
       "    </tr>\n",
       "    <tr>\n",
       "      <th>28952264</th>\n",
       "      <td>17301813624530994731</td>\n",
       "      <td>10563443112</td>\n",
       "      <td>2022-02-09T09:20:44.9335613</td>\n",
       "      <td>0</td>\n",
       "      <td>False</td>\n",
       "      <td>False</td>\n",
       "      <td>False</td>\n",
       "      <td>1.730181e+19</td>\n",
       "      <td>1.056344e+10</td>\n",
       "    </tr>\n",
       "    <tr>\n",
       "      <th>28952265</th>\n",
       "      <td>17301813629487711641</td>\n",
       "      <td>17301813628946757093</td>\n",
       "      <td>2022-02-09T09:20:48.8339588</td>\n",
       "      <td>100</td>\n",
       "      <td>False</td>\n",
       "      <td>False</td>\n",
       "      <td>False</td>\n",
       "      <td>1.730181e+19</td>\n",
       "      <td>1.730181e+19</td>\n",
       "    </tr>\n",
       "    <tr>\n",
       "      <th>28952266</th>\n",
       "      <td>17301813629487711641</td>\n",
       "      <td>17301813626938593807</td>\n",
       "      <td>2022-02-09T09:21:07.1449812</td>\n",
       "      <td>25</td>\n",
       "      <td>False</td>\n",
       "      <td>False</td>\n",
       "      <td>False</td>\n",
       "      <td>1.730181e+19</td>\n",
       "      <td>1.730181e+19</td>\n",
       "    </tr>\n",
       "    <tr>\n",
       "      <th>28952271</th>\n",
       "      <td>17301813622441019504</td>\n",
       "      <td>11770037098</td>\n",
       "      <td>2022-02-09T09:21:52.7335623</td>\n",
       "      <td>0</td>\n",
       "      <td>False</td>\n",
       "      <td>False</td>\n",
       "      <td>False</td>\n",
       "      <td>1.730181e+19</td>\n",
       "      <td>1.177004e+10</td>\n",
       "    </tr>\n",
       "  </tbody>\n",
       "</table>\n",
       "<p>7237868 rows × 9 columns</p>\n",
       "</div>"
      ],
      "text/plain": [
       "                        userId             contentId  \\\n",
       "15                    89964254  17301813623703245849   \n",
       "16        17301813623510725018  17301813623692602333   \n",
       "19        17301813623542265754  17301813622904268148   \n",
       "27        17301813621999302890  17301813623678748279   \n",
       "57                  5857229166  17301813623705765013   \n",
       "...                        ...                   ...   \n",
       "28952255  17301813629487711641  17301813626637661392   \n",
       "28952264  17301813624530994731           10563443112   \n",
       "28952265  17301813629487711641  17301813628946757093   \n",
       "28952266  17301813629487711641  17301813626938593807   \n",
       "28952271  17301813622441019504           11770037098   \n",
       "\n",
       "                            timestamp  progress  liked  commented  shared  \\\n",
       "15        2020-01-01T00:00:27.5855735         0   True      False   False   \n",
       "16        2020-01-01T00:00:31.8108756         0  False      False   False   \n",
       "19        2020-01-01T00:00:34.0563874         0  False      False   False   \n",
       "27        2020-01-01T00:00:53.8744904         0  False      False   False   \n",
       "57        2020-01-01T00:01:53.5960251         0   True       True    True   \n",
       "...                               ...       ...    ...        ...     ...   \n",
       "28952255  2022-02-09T09:20:27.7158182       100  False      False   False   \n",
       "28952264  2022-02-09T09:20:44.9335613         0  False      False   False   \n",
       "28952265  2022-02-09T09:20:48.8339588       100  False      False   False   \n",
       "28952266  2022-02-09T09:21:07.1449812        25  False      False   False   \n",
       "28952271  2022-02-09T09:21:52.7335623         0  False      False   False   \n",
       "\n",
       "          userId_float  contentId_float  \n",
       "15        8.996425e+07     1.730181e+19  \n",
       "16        1.730181e+19     1.730181e+19  \n",
       "19        1.730181e+19     1.730181e+19  \n",
       "27        1.730181e+19     1.730181e+19  \n",
       "57        5.857229e+09     1.730181e+19  \n",
       "...                ...              ...  \n",
       "28952255  1.730181e+19     1.730181e+19  \n",
       "28952264  1.730181e+19     1.056344e+10  \n",
       "28952265  1.730181e+19     1.730181e+19  \n",
       "28952266  1.730181e+19     1.730181e+19  \n",
       "28952271  1.730181e+19     1.177004e+10  \n",
       "\n",
       "[7237868 rows x 9 columns]"
      ]
     },
     "execution_count": 60,
     "metadata": {},
     "output_type": "execute_result"
    }
   ],
   "source": [
    "dataset"
   ]
  },
  {
   "cell_type": "code",
   "execution_count": 84,
   "id": "39864a1d",
   "metadata": {},
   "outputs": [
    {
     "name": "stdout",
     "output_type": "stream",
     "text": [
      "#lignes  1524248\n",
      "#users  204\n"
     ]
    }
   ],
   "source": [
    "df_users_filtered2 = df_users.loc[df_users.sessionCount > 5000,'userId']\n",
    "test = dataset[dataset.userId.isin(df_users_filtered2)]\n",
    "print('#lignes ', len(test))\n",
    "print('#users ', len(test.userId.unique()))\n"
   ]
  },
  {
   "cell_type": "code",
   "execution_count": 85,
   "id": "53240bde",
   "metadata": {},
   "outputs": [
    {
     "data": {
      "text/plain": [
       "7237868"
      ]
     },
     "execution_count": 85,
     "metadata": {},
     "output_type": "execute_result"
    }
   ],
   "source": [
    "len(dataset)"
   ]
  },
  {
   "cell_type": "code",
   "execution_count": null,
   "id": "e1424ffc",
   "metadata": {},
   "outputs": [],
   "source": [
    "dataset[dataset.progress !=0].groupby(['userId','contentId']).max()"
   ]
  },
  {
   "cell_type": "code",
   "execution_count": null,
   "id": "7ff92b19",
   "metadata": {},
   "outputs": [],
   "source": []
  }
 ],
 "metadata": {
  "kernelspec": {
   "display_name": "Python 3 (ipykernel)",
   "language": "python",
   "name": "python3"
  },
  "language_info": {
   "codemirror_mode": {
    "name": "ipython",
    "version": 3
   },
   "file_extension": ".py",
   "mimetype": "text/x-python",
   "name": "python",
   "nbconvert_exporter": "python",
   "pygments_lexer": "ipython3",
   "version": "3.8.10"
  }
 },
 "nbformat": 4,
 "nbformat_minor": 5
}
