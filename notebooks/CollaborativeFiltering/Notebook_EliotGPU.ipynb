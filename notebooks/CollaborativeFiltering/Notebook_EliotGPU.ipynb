{
 "cells": [
  {
   "cell_type": "code",
   "execution_count": 1,
   "id": "3bcedfe7",
   "metadata": {},
   "outputs": [],
   "source": [
    "import json\n",
    "import numpy as np\n",
    "import pandas as pd\n",
    "import time"
   ]
  },
  {
   "cell_type": "code",
   "execution_count": null,
   "id": "48b98f20",
   "metadata": {},
   "outputs": [],
   "source": []
  },
  {
   "cell_type": "code",
   "execution_count": 2,
   "id": "8a68ee14",
   "metadata": {},
   "outputs": [],
   "source": [
    "def from_jsonl_to_df(path):\n",
    "    t_start = time.time()\n",
    "    with open(path, 'r') as json_file:\n",
    "        json_list = list(json_file)\n",
    "    json_list = [json.loads(json_str) for json_str in json_list]\n",
    "    df = pd.DataFrame.from_dict(json_list, orient='columns')\n",
    "    \n",
    "    print(\"DataFrame of {}\".format(len(df))+\" rows loaded in {:.2f} sec\".format(time.time()-t_start))\n",
    "    return df\n",
    "\n",
    "def from_csv_to_df(path):\n",
    "    t_start=time.time()\n",
    "    if \"followers\" in path:\n",
    "        df=pd.read_csv(path, names=[\"follower\", \"person followed\", \"timestamp\"], header=None)\n",
    "    else:\n",
    "        df=pd.read_csv(path)\n",
    "    print(\"DataFrame of {}\".format(len(df))+\" rows loaded in {:.2f} sec\".format(time.time()-t_start))\n",
    "    return df"
   ]
  },
  {
   "cell_type": "code",
   "execution_count": 3,
   "id": "31596442",
   "metadata": {},
   "outputs": [
    {
     "name": "stdout",
     "output_type": "stream",
     "text": [
      "DataFrame of 274472 rows loaded in 4.02 sec\n"
     ]
    }
   ],
   "source": [
    "df_keaks = from_jsonl_to_df(\"data/full/keaks.jsonl\")"
   ]
  },
  {
   "cell_type": "code",
   "execution_count": 4,
   "id": "56c7e1bf",
   "metadata": {},
   "outputs": [
    {
     "name": "stdout",
     "output_type": "stream",
     "text": [
      "DataFrame of 59761 rows loaded in 1.52 sec\n"
     ]
    }
   ],
   "source": [
    "df_beats =from_jsonl_to_df(\"data/full/beats.jsonl\")"
   ]
  },
  {
   "cell_type": "code",
   "execution_count": 5,
   "id": "12f24cba",
   "metadata": {},
   "outputs": [
    {
     "name": "stdout",
     "output_type": "stream",
     "text": [
      "DataFrame of 1162572 rows loaded in 34.34 sec\n"
     ]
    }
   ],
   "source": [
    "df_users =from_jsonl_to_df(\"data/full/users.jsonl\")"
   ]
  },
  {
   "cell_type": "code",
   "execution_count": 6,
   "id": "e163700c",
   "metadata": {},
   "outputs": [
    {
     "name": "stdout",
     "output_type": "stream",
     "text": [
      "DataFrame of 10506442 rows loaded in 13.76 sec\n"
     ]
    }
   ],
   "source": [
    "df_followers = from_csv_to_df(\"data/full/followers.csv\")"
   ]
  },
  {
   "cell_type": "code",
   "execution_count": 7,
   "id": "faea7391",
   "metadata": {},
   "outputs": [
    {
     "name": "stdout",
     "output_type": "stream",
     "text": [
      "DataFrame of 28952275 rows loaded in 36.51 sec\n"
     ]
    }
   ],
   "source": [
    "df_audiences = from_csv_to_df(\"data/full/audiences.csv\")"
   ]
  },
  {
   "cell_type": "code",
   "execution_count": 11,
   "id": "75c4cec5",
   "metadata": {},
   "outputs": [
    {
     "data": {
      "text/html": [
       "<div>\n",
       "<style scoped>\n",
       "    .dataframe tbody tr th:only-of-type {\n",
       "        vertical-align: middle;\n",
       "    }\n",
       "\n",
       "    .dataframe tbody tr th {\n",
       "        vertical-align: top;\n",
       "    }\n",
       "\n",
       "    .dataframe thead th {\n",
       "        text-align: right;\n",
       "    }\n",
       "</style>\n",
       "<table border=\"1\" class=\"dataframe\">\n",
       "  <thead>\n",
       "    <tr style=\"text-align: right;\">\n",
       "      <th></th>\n",
       "      <th>keakId</th>\n",
       "      <th>createdAt</th>\n",
       "      <th>likeCount</th>\n",
       "      <th>commentCount</th>\n",
       "      <th>viewCount</th>\n",
       "      <th>averageViewProgress</th>\n",
       "      <th>duration</th>\n",
       "      <th>hashtags</th>\n",
       "      <th>contentType</th>\n",
       "      <th>hasSmallThumbnail</th>\n",
       "      <th>lien</th>\n",
       "    </tr>\n",
       "  </thead>\n",
       "  <tbody>\n",
       "    <tr>\n",
       "      <th>0</th>\n",
       "      <td>17301813623064450175</td>\n",
       "      <td>2019-10-10T21:20:59.2970322Z</td>\n",
       "      <td>4</td>\n",
       "      <td>2</td>\n",
       "      <td>42</td>\n",
       "      <td>7.80</td>\n",
       "      <td>107.0</td>\n",
       "      <td>[91, 1, Rap, Pen, freestyle2019, Trap2K19]</td>\n",
       "      <td>freestyle</td>\n",
       "      <td>True</td>\n",
       "      <td>https://www.keakr.com/fr/keak/mon-mec-rap-1</td>\n",
       "    </tr>\n",
       "    <tr>\n",
       "      <th>1</th>\n",
       "      <td>6202649352</td>\n",
       "      <td>2018-04-02T15:06:34.9851924Z</td>\n",
       "      <td>2</td>\n",
       "      <td>2</td>\n",
       "      <td>53</td>\n",
       "      <td>0.00</td>\n",
       "      <td>68.0</td>\n",
       "      <td>[]</td>\n",
       "      <td>freestyle</td>\n",
       "      <td>True</td>\n",
       "      <td>https://www.keakr.com/fr/keak/petit-salaire</td>\n",
       "    </tr>\n",
       "  </tbody>\n",
       "</table>\n",
       "</div>"
      ],
      "text/plain": [
       "                 keakId                     createdAt  likeCount  \\\n",
       "0  17301813623064450175  2019-10-10T21:20:59.2970322Z          4   \n",
       "1            6202649352  2018-04-02T15:06:34.9851924Z          2   \n",
       "\n",
       "   commentCount  viewCount averageViewProgress  duration  \\\n",
       "0             2         42                7.80     107.0   \n",
       "1             2         53                0.00      68.0   \n",
       "\n",
       "                                     hashtags contentType hasSmallThumbnail  \\\n",
       "0  [91, 1, Rap, Pen, freestyle2019, Trap2K19]   freestyle              True   \n",
       "1                                          []   freestyle              True   \n",
       "\n",
       "                                          lien  \n",
       "0  https://www.keakr.com/fr/keak/mon-mec-rap-1  \n",
       "1  https://www.keakr.com/fr/keak/petit-salaire  "
      ]
     },
     "execution_count": 11,
     "metadata": {},
     "output_type": "execute_result"
    }
   ],
   "source": [
    "df_keaks.head(2)"
   ]
  },
  {
   "cell_type": "code",
   "execution_count": 8,
   "id": "41c0c99d",
   "metadata": {},
   "outputs": [
    {
     "data": {
      "text/html": [
       "<div>\n",
       "<style scoped>\n",
       "    .dataframe tbody tr th:only-of-type {\n",
       "        vertical-align: middle;\n",
       "    }\n",
       "\n",
       "    .dataframe tbody tr th {\n",
       "        vertical-align: top;\n",
       "    }\n",
       "\n",
       "    .dataframe thead th {\n",
       "        text-align: right;\n",
       "    }\n",
       "</style>\n",
       "<table border=\"1\" class=\"dataframe\">\n",
       "  <thead>\n",
       "    <tr style=\"text-align: right;\">\n",
       "      <th></th>\n",
       "      <th>userId</th>\n",
       "      <th>contentId</th>\n",
       "      <th>timestamp</th>\n",
       "      <th>progress</th>\n",
       "      <th>liked</th>\n",
       "      <th>commented</th>\n",
       "      <th>shared</th>\n",
       "    </tr>\n",
       "  </thead>\n",
       "  <tbody>\n",
       "    <tr>\n",
       "      <th>0</th>\n",
       "      <td>users/6512051967</td>\n",
       "      <td>keaks/17301813623657913783</td>\n",
       "      <td>2020-01-01T00:00:00.4081666</td>\n",
       "      <td>0</td>\n",
       "      <td>True</td>\n",
       "      <td>True</td>\n",
       "      <td>True</td>\n",
       "    </tr>\n",
       "    <tr>\n",
       "      <th>1</th>\n",
       "      <td>users/17301813623701852659</td>\n",
       "      <td>keaks/17301813623464753700</td>\n",
       "      <td>2020-01-01T00:00:00.8245932</td>\n",
       "      <td>0</td>\n",
       "      <td>False</td>\n",
       "      <td>False</td>\n",
       "      <td>False</td>\n",
       "    </tr>\n",
       "  </tbody>\n",
       "</table>\n",
       "</div>"
      ],
      "text/plain": [
       "                       userId                   contentId  \\\n",
       "0            users/6512051967  keaks/17301813623657913783   \n",
       "1  users/17301813623701852659  keaks/17301813623464753700   \n",
       "\n",
       "                     timestamp  progress  liked  commented  shared  \n",
       "0  2020-01-01T00:00:00.4081666         0   True       True    True  \n",
       "1  2020-01-01T00:00:00.8245932         0  False      False   False  "
      ]
     },
     "execution_count": 8,
     "metadata": {},
     "output_type": "execute_result"
    }
   ],
   "source": [
    "df_audiences.head(2)"
   ]
  },
  {
   "cell_type": "code",
   "execution_count": 13,
   "id": "36893894",
   "metadata": {},
   "outputs": [
    {
     "data": {
      "text/html": [
       "<div>\n",
       "<style scoped>\n",
       "    .dataframe tbody tr th:only-of-type {\n",
       "        vertical-align: middle;\n",
       "    }\n",
       "\n",
       "    .dataframe tbody tr th {\n",
       "        vertical-align: top;\n",
       "    }\n",
       "\n",
       "    .dataframe thead th {\n",
       "        text-align: right;\n",
       "    }\n",
       "</style>\n",
       "<table border=\"1\" class=\"dataframe\">\n",
       "  <thead>\n",
       "    <tr style=\"text-align: right;\">\n",
       "      <th></th>\n",
       "      <th>follower</th>\n",
       "      <th>person followed</th>\n",
       "      <th>timestamp</th>\n",
       "    </tr>\n",
       "  </thead>\n",
       "  <tbody>\n",
       "    <tr>\n",
       "      <th>0</th>\n",
       "      <td>users/17301813624860662494</td>\n",
       "      <td>users/17301813625195354624</td>\n",
       "      <td>2020-06-13T16:53:19.7077441Z</td>\n",
       "    </tr>\n",
       "    <tr>\n",
       "      <th>1</th>\n",
       "      <td>users/11928492392</td>\n",
       "      <td>users/12680019689</td>\n",
       "      <td>2019-04-11T22:23:51.9010202Z</td>\n",
       "    </tr>\n",
       "  </tbody>\n",
       "</table>\n",
       "</div>"
      ],
      "text/plain": [
       "                     follower             person followed  \\\n",
       "0  users/17301813624860662494  users/17301813625195354624   \n",
       "1           users/11928492392           users/12680019689   \n",
       "\n",
       "                      timestamp  \n",
       "0  2020-06-13T16:53:19.7077441Z  \n",
       "1  2019-04-11T22:23:51.9010202Z  "
      ]
     },
     "execution_count": 13,
     "metadata": {},
     "output_type": "execute_result"
    }
   ],
   "source": [
    "df_followers.head(2)"
   ]
  },
  {
   "cell_type": "code",
   "execution_count": 14,
   "id": "dd67d54e",
   "metadata": {},
   "outputs": [
    {
     "data": {
      "text/html": [
       "<div>\n",
       "<style scoped>\n",
       "    .dataframe tbody tr th:only-of-type {\n",
       "        vertical-align: middle;\n",
       "    }\n",
       "\n",
       "    .dataframe tbody tr th {\n",
       "        vertical-align: top;\n",
       "    }\n",
       "\n",
       "    .dataframe thead th {\n",
       "        text-align: right;\n",
       "    }\n",
       "</style>\n",
       "<table border=\"1\" class=\"dataframe\">\n",
       "  <thead>\n",
       "    <tr style=\"text-align: right;\">\n",
       "      <th></th>\n",
       "      <th>beatId</th>\n",
       "      <th>genres</th>\n",
       "      <th>moods</th>\n",
       "      <th>nbKeaks</th>\n",
       "      <th>nbLikes</th>\n",
       "      <th>beatmakerId</th>\n",
       "      <th>duration</th>\n",
       "      <th>bpm</th>\n",
       "      <th>createdAt</th>\n",
       "      <th>updatedAt</th>\n",
       "      <th>link</th>\n",
       "      <th>licenceType</th>\n",
       "    </tr>\n",
       "  </thead>\n",
       "  <tbody>\n",
       "    <tr>\n",
       "      <th>0</th>\n",
       "      <td>17301813628927249101</td>\n",
       "      <td>[{'id': '9920897543', 'name': 'Trap'}]</td>\n",
       "      <td>[{'id': '17301813622132424287', 'name': 'Dark'...</td>\n",
       "      <td>7</td>\n",
       "      <td>4</td>\n",
       "      <td>17301813625134492069</td>\n",
       "      <td>121.0</td>\n",
       "      <td>102.0</td>\n",
       "      <td>2021-09-20T18:16:47.1420645Z</td>\n",
       "      <td>2021-09-20T18:17:00.2684235Z</td>\n",
       "      <td>https://keakr.com/fr/beat/turquoiz</td>\n",
       "      <td>[free]</td>\n",
       "    </tr>\n",
       "    <tr>\n",
       "      <th>1</th>\n",
       "      <td>17301813627622625982</td>\n",
       "      <td>[{'id': '9920897543', 'name': 'Trap'}]</td>\n",
       "      <td>[]</td>\n",
       "      <td>1</td>\n",
       "      <td>5</td>\n",
       "      <td>17301813627622569830</td>\n",
       "      <td>163.0</td>\n",
       "      <td>125.0</td>\n",
       "      <td>2021-03-31T15:20:10.726762Z</td>\n",
       "      <td>2021-03-31T15:20:26.5760601Z</td>\n",
       "      <td>https://keakr.com/fr/beat/moula-i</td>\n",
       "      <td>[free]</td>\n",
       "    </tr>\n",
       "  </tbody>\n",
       "</table>\n",
       "</div>"
      ],
      "text/plain": [
       "                 beatId                                  genres  \\\n",
       "0  17301813628927249101  [{'id': '9920897543', 'name': 'Trap'}]   \n",
       "1  17301813627622625982  [{'id': '9920897543', 'name': 'Trap'}]   \n",
       "\n",
       "                                               moods  nbKeaks  nbLikes  \\\n",
       "0  [{'id': '17301813622132424287', 'name': 'Dark'...        7        4   \n",
       "1                                                 []        1        5   \n",
       "\n",
       "            beatmakerId  duration    bpm                     createdAt  \\\n",
       "0  17301813625134492069     121.0  102.0  2021-09-20T18:16:47.1420645Z   \n",
       "1  17301813627622569830     163.0  125.0   2021-03-31T15:20:10.726762Z   \n",
       "\n",
       "                      updatedAt                                link  \\\n",
       "0  2021-09-20T18:17:00.2684235Z  https://keakr.com/fr/beat/turquoiz   \n",
       "1  2021-03-31T15:20:26.5760601Z   https://keakr.com/fr/beat/moula-i   \n",
       "\n",
       "  licenceType  \n",
       "0      [free]  \n",
       "1      [free]  "
      ]
     },
     "execution_count": 14,
     "metadata": {},
     "output_type": "execute_result"
    }
   ],
   "source": [
    "df_beats.head(2)"
   ]
  },
  {
   "cell_type": "code",
   "execution_count": 15,
   "id": "693180c4",
   "metadata": {},
   "outputs": [
    {
     "data": {
      "text/html": [
       "<div>\n",
       "<style scoped>\n",
       "    .dataframe tbody tr th:only-of-type {\n",
       "        vertical-align: middle;\n",
       "    }\n",
       "\n",
       "    .dataframe tbody tr th {\n",
       "        vertical-align: top;\n",
       "    }\n",
       "\n",
       "    .dataframe thead th {\n",
       "        text-align: right;\n",
       "    }\n",
       "</style>\n",
       "<table border=\"1\" class=\"dataframe\">\n",
       "  <thead>\n",
       "    <tr style=\"text-align: right;\">\n",
       "      <th></th>\n",
       "      <th>userId</th>\n",
       "      <th>createdAt</th>\n",
       "      <th>lastConnection</th>\n",
       "      <th>usedGenres</th>\n",
       "      <th>listenedGenres</th>\n",
       "      <th>battleCreatedCount</th>\n",
       "      <th>battleLostCount</th>\n",
       "      <th>battleRespondedCount</th>\n",
       "      <th>battleWonCount</th>\n",
       "      <th>friendCount</th>\n",
       "      <th>...</th>\n",
       "      <th>mutualFollowCount</th>\n",
       "      <th>overallBeatUsage</th>\n",
       "      <th>PlaylistCount</th>\n",
       "      <th>prizeMoneyParticipationCount</th>\n",
       "      <th>prizeMoneyWinner</th>\n",
       "      <th>sessionCount</th>\n",
       "      <th>shareCount</th>\n",
       "      <th>viewCount</th>\n",
       "      <th>isBeatmaker</th>\n",
       "      <th>isSinger</th>\n",
       "    </tr>\n",
       "  </thead>\n",
       "  <tbody>\n",
       "    <tr>\n",
       "      <th>0</th>\n",
       "      <td>12354401148</td>\n",
       "      <td>2019-03-02T10:23:33.0903001Z</td>\n",
       "      <td>2019-03-02T10:23:44.3283191Z</td>\n",
       "      <td>[]</td>\n",
       "      <td>[]</td>\n",
       "      <td>0</td>\n",
       "      <td>0</td>\n",
       "      <td>0</td>\n",
       "      <td>0</td>\n",
       "      <td>0</td>\n",
       "      <td>...</td>\n",
       "      <td>0.0</td>\n",
       "      <td>0.0</td>\n",
       "      <td>NaN</td>\n",
       "      <td>0</td>\n",
       "      <td>False</td>\n",
       "      <td>2.0</td>\n",
       "      <td>NaN</td>\n",
       "      <td>0</td>\n",
       "      <td>False</td>\n",
       "      <td>False</td>\n",
       "    </tr>\n",
       "    <tr>\n",
       "      <th>1</th>\n",
       "      <td>12354411487</td>\n",
       "      <td>2019-03-02T10:26:23.9016307Z</td>\n",
       "      <td>2020-09-24T06:16:46.8631984Z</td>\n",
       "      <td>[]</td>\n",
       "      <td>[]</td>\n",
       "      <td>0</td>\n",
       "      <td>0</td>\n",
       "      <td>0</td>\n",
       "      <td>0</td>\n",
       "      <td>0</td>\n",
       "      <td>...</td>\n",
       "      <td>NaN</td>\n",
       "      <td>0.0</td>\n",
       "      <td>NaN</td>\n",
       "      <td>0</td>\n",
       "      <td>False</td>\n",
       "      <td>8.0</td>\n",
       "      <td>NaN</td>\n",
       "      <td>0</td>\n",
       "      <td>False</td>\n",
       "      <td>False</td>\n",
       "    </tr>\n",
       "  </tbody>\n",
       "</table>\n",
       "<p>2 rows × 25 columns</p>\n",
       "</div>"
      ],
      "text/plain": [
       "        userId                     createdAt                lastConnection  \\\n",
       "0  12354401148  2019-03-02T10:23:33.0903001Z  2019-03-02T10:23:44.3283191Z   \n",
       "1  12354411487  2019-03-02T10:26:23.9016307Z  2020-09-24T06:16:46.8631984Z   \n",
       "\n",
       "  usedGenres listenedGenres  battleCreatedCount  battleLostCount  \\\n",
       "0         []             []                   0                0   \n",
       "1         []             []                   0                0   \n",
       "\n",
       "   battleRespondedCount  battleWonCount  friendCount  ...  mutualFollowCount  \\\n",
       "0                     0               0            0  ...                0.0   \n",
       "1                     0               0            0  ...                NaN   \n",
       "\n",
       "   overallBeatUsage PlaylistCount  prizeMoneyParticipationCount  \\\n",
       "0               0.0           NaN                             0   \n",
       "1               0.0           NaN                             0   \n",
       "\n",
       "   prizeMoneyWinner  sessionCount  shareCount  viewCount  isBeatmaker  \\\n",
       "0             False           2.0         NaN          0        False   \n",
       "1             False           8.0         NaN          0        False   \n",
       "\n",
       "   isSinger  \n",
       "0     False  \n",
       "1     False  \n",
       "\n",
       "[2 rows x 25 columns]"
      ]
     },
     "execution_count": 15,
     "metadata": {},
     "output_type": "execute_result"
    }
   ],
   "source": [
    "df_users.head(2)"
   ]
  },
  {
   "cell_type": "code",
   "execution_count": 17,
   "id": "a0bb54c0",
   "metadata": {},
   "outputs": [
    {
     "data": {
      "text/plain": [
       "['userId',\n",
       " 'createdAt',\n",
       " 'lastConnection',\n",
       " 'usedGenres',\n",
       " 'listenedGenres',\n",
       " 'battleCreatedCount',\n",
       " 'battleLostCount',\n",
       " 'battleRespondedCount',\n",
       " 'battleWonCount',\n",
       " 'friendCount',\n",
       " 'keakCount',\n",
       " 'keakrCoinGiven',\n",
       " 'keakCoinReceived',\n",
       " 'likeCount',\n",
       " 'likeGivenCount',\n",
       " 'mutualFollowCount',\n",
       " 'overallBeatUsage',\n",
       " 'PlaylistCount',\n",
       " 'prizeMoneyParticipationCount',\n",
       " 'prizeMoneyWinner',\n",
       " 'sessionCount',\n",
       " 'shareCount',\n",
       " 'viewCount',\n",
       " 'isBeatmaker',\n",
       " 'isSinger']"
      ]
     },
     "execution_count": 17,
     "metadata": {},
     "output_type": "execute_result"
    }
   ],
   "source": [
    "list(df_users.columns)"
   ]
  },
  {
   "cell_type": "code",
   "execution_count": 98,
   "id": "93196bba",
   "metadata": {},
   "outputs": [
    {
     "name": "stdout",
     "output_type": "stream",
     "text": [
      "Defaulting to user installation because normal site-packages is not writeable\n",
      "Collecting lightfm\n",
      "  Downloading lightfm-1.16.tar.gz (310 kB)\n",
      "\u001b[K     |████████████████████████████████| 310 kB 9.3 MB/s eta 0:00:01\n",
      "\u001b[?25hRequirement already satisfied: numpy in ./.local/lib/python3.8/site-packages (from lightfm) (1.22.3)\n",
      "Requirement already satisfied: scipy>=0.17.0 in ./.local/lib/python3.8/site-packages (from lightfm) (1.8.0)\n",
      "Requirement already satisfied: requests in /lab/lib/python3.8/site-packages (from lightfm) (2.25.1)\n",
      "Collecting scikit-learn\n",
      "  Downloading scikit_learn-1.0.2-cp38-cp38-manylinux_2_17_x86_64.manylinux2014_x86_64.whl (26.7 MB)\n",
      "\u001b[K     |████████████████████████████████| 26.7 MB 81.2 MB/s eta 0:00:01\n",
      "\u001b[?25hRequirement already satisfied: urllib3<1.27,>=1.21.1 in /lab/lib/python3.8/site-packages (from requests->lightfm) (1.26.6)\n",
      "Requirement already satisfied: chardet<5,>=3.0.2 in /lab/lib/python3.8/site-packages (from requests->lightfm) (4.0.0)\n",
      "Requirement already satisfied: certifi>=2017.4.17 in /lab/lib/python3.8/site-packages (from requests->lightfm) (2021.5.30)\n",
      "Requirement already satisfied: idna<3,>=2.5 in /lab/lib/python3.8/site-packages (from requests->lightfm) (2.10)\n",
      "Collecting threadpoolctl>=2.0.0\n",
      "  Downloading threadpoolctl-3.1.0-py3-none-any.whl (14 kB)\n",
      "Requirement already satisfied: joblib>=0.11 in ./.local/lib/python3.8/site-packages (from scikit-learn->lightfm) (1.1.0)\n",
      "Building wheels for collected packages: lightfm\n",
      "  Building wheel for lightfm (setup.py) ... \u001b[?25lerror\n",
      "\u001b[31m  ERROR: Command errored out with exit status 1:\n",
      "   command: /lab/bin/python -u -c 'import sys, setuptools, tokenize; sys.argv[0] = '\"'\"'/tmp/pip-install-z8arfnrw/lightfm_2cefe3fcae5c4406b0dbabe169a659e4/setup.py'\"'\"'; __file__='\"'\"'/tmp/pip-install-z8arfnrw/lightfm_2cefe3fcae5c4406b0dbabe169a659e4/setup.py'\"'\"';f=getattr(tokenize, '\"'\"'open'\"'\"', open)(__file__);code=f.read().replace('\"'\"'\\r\\n'\"'\"', '\"'\"'\\n'\"'\"');f.close();exec(compile(code, __file__, '\"'\"'exec'\"'\"'))' bdist_wheel -d /tmp/pip-wheel-e5141r2n\n",
      "       cwd: /tmp/pip-install-z8arfnrw/lightfm_2cefe3fcae5c4406b0dbabe169a659e4/\n",
      "  Complete output (26 lines):\n",
      "  running bdist_wheel\n",
      "  running build\n",
      "  running build_py\n",
      "  creating build\n",
      "  creating build/lib.linux-x86_64-3.8\n",
      "  creating build/lib.linux-x86_64-3.8/lightfm\n",
      "  copying lightfm/evaluation.py -> build/lib.linux-x86_64-3.8/lightfm\n",
      "  copying lightfm/_lightfm_fast.py -> build/lib.linux-x86_64-3.8/lightfm\n",
      "  copying lightfm/__init__.py -> build/lib.linux-x86_64-3.8/lightfm\n",
      "  copying lightfm/cross_validation.py -> build/lib.linux-x86_64-3.8/lightfm\n",
      "  copying lightfm/data.py -> build/lib.linux-x86_64-3.8/lightfm\n",
      "  copying lightfm/lightfm.py -> build/lib.linux-x86_64-3.8/lightfm\n",
      "  creating build/lib.linux-x86_64-3.8/lightfm/datasets\n",
      "  copying lightfm/datasets/stackexchange.py -> build/lib.linux-x86_64-3.8/lightfm/datasets\n",
      "  copying lightfm/datasets/__init__.py -> build/lib.linux-x86_64-3.8/lightfm/datasets\n",
      "  copying lightfm/datasets/movielens.py -> build/lib.linux-x86_64-3.8/lightfm/datasets\n",
      "  copying lightfm/datasets/_common.py -> build/lib.linux-x86_64-3.8/lightfm/datasets\n",
      "  copying lightfm/_lightfm_fast_openmp.c -> build/lib.linux-x86_64-3.8/lightfm\n",
      "  copying lightfm/_lightfm_fast_no_openmp.c -> build/lib.linux-x86_64-3.8/lightfm\n",
      "  running build_ext\n",
      "  building 'lightfm._lightfm_fast_openmp' extension\n",
      "  creating build/temp.linux-x86_64-3.8\n",
      "  creating build/temp.linux-x86_64-3.8/lightfm\n",
      "  gcc -pthread -B /lab/compiler_compat -Wl,--sysroot=/ -Wsign-compare -DNDEBUG -g -fwrapv -O3 -Wall -Wstrict-prototypes -fPIC -I/lab/include/python3.8 -c lightfm/_lightfm_fast_openmp.c -o build/temp.linux-x86_64-3.8/lightfm/_lightfm_fast_openmp.o -ffast-math -march=native -fopenmp\n",
      "  unable to execute 'gcc': Permission denied\n",
      "  error: command 'gcc' failed with exit status 1\n",
      "  ----------------------------------------\u001b[0m\n",
      "\u001b[31m  ERROR: Failed building wheel for lightfm\u001b[0m\n",
      "\u001b[?25h  Running setup.py clean for lightfm\n",
      "Failed to build lightfm\n",
      "Installing collected packages: threadpoolctl, scikit-learn, lightfm\n",
      "    Running setup.py install for lightfm ... \u001b[?25lerror\n",
      "\u001b[31m    ERROR: Command errored out with exit status 1:\n",
      "     command: /lab/bin/python -u -c 'import sys, setuptools, tokenize; sys.argv[0] = '\"'\"'/tmp/pip-install-z8arfnrw/lightfm_2cefe3fcae5c4406b0dbabe169a659e4/setup.py'\"'\"'; __file__='\"'\"'/tmp/pip-install-z8arfnrw/lightfm_2cefe3fcae5c4406b0dbabe169a659e4/setup.py'\"'\"';f=getattr(tokenize, '\"'\"'open'\"'\"', open)(__file__);code=f.read().replace('\"'\"'\\r\\n'\"'\"', '\"'\"'\\n'\"'\"');f.close();exec(compile(code, __file__, '\"'\"'exec'\"'\"'))' install --record /tmp/pip-record-p5jtmhh5/install-record.txt --single-version-externally-managed --user --prefix= --compile --install-headers /workspace/.local/include/python3.8/lightfm\n",
      "         cwd: /tmp/pip-install-z8arfnrw/lightfm_2cefe3fcae5c4406b0dbabe169a659e4/\n",
      "    Complete output (26 lines):\n",
      "    running install\n",
      "    running build\n",
      "    running build_py\n",
      "    creating build\n",
      "    creating build/lib.linux-x86_64-3.8\n",
      "    creating build/lib.linux-x86_64-3.8/lightfm\n",
      "    copying lightfm/evaluation.py -> build/lib.linux-x86_64-3.8/lightfm\n",
      "    copying lightfm/_lightfm_fast.py -> build/lib.linux-x86_64-3.8/lightfm\n",
      "    copying lightfm/__init__.py -> build/lib.linux-x86_64-3.8/lightfm\n",
      "    copying lightfm/cross_validation.py -> build/lib.linux-x86_64-3.8/lightfm\n",
      "    copying lightfm/data.py -> build/lib.linux-x86_64-3.8/lightfm\n",
      "    copying lightfm/lightfm.py -> build/lib.linux-x86_64-3.8/lightfm\n",
      "    creating build/lib.linux-x86_64-3.8/lightfm/datasets\n",
      "    copying lightfm/datasets/stackexchange.py -> build/lib.linux-x86_64-3.8/lightfm/datasets\n",
      "    copying lightfm/datasets/__init__.py -> build/lib.linux-x86_64-3.8/lightfm/datasets\n",
      "    copying lightfm/datasets/movielens.py -> build/lib.linux-x86_64-3.8/lightfm/datasets\n",
      "    copying lightfm/datasets/_common.py -> build/lib.linux-x86_64-3.8/lightfm/datasets\n",
      "    copying lightfm/_lightfm_fast_openmp.c -> build/lib.linux-x86_64-3.8/lightfm\n",
      "    copying lightfm/_lightfm_fast_no_openmp.c -> build/lib.linux-x86_64-3.8/lightfm\n",
      "    running build_ext\n",
      "    building 'lightfm._lightfm_fast_openmp' extension\n",
      "    creating build/temp.linux-x86_64-3.8\n",
      "    creating build/temp.linux-x86_64-3.8/lightfm\n",
      "    gcc -pthread -B /lab/compiler_compat -Wl,--sysroot=/ -Wsign-compare -DNDEBUG -g -fwrapv -O3 -Wall -Wstrict-prototypes -fPIC -I/lab/include/python3.8 -c lightfm/_lightfm_fast_openmp.c -o build/temp.linux-x86_64-3.8/lightfm/_lightfm_fast_openmp.o -ffast-math -march=native -fopenmp\n",
      "    unable to execute 'gcc': Permission denied\n",
      "    error: command 'gcc' failed with exit status 1\n",
      "    ----------------------------------------\u001b[0m\n",
      "\u001b[31mERROR: Command errored out with exit status 1: /lab/bin/python -u -c 'import sys, setuptools, tokenize; sys.argv[0] = '\"'\"'/tmp/pip-install-z8arfnrw/lightfm_2cefe3fcae5c4406b0dbabe169a659e4/setup.py'\"'\"'; __file__='\"'\"'/tmp/pip-install-z8arfnrw/lightfm_2cefe3fcae5c4406b0dbabe169a659e4/setup.py'\"'\"';f=getattr(tokenize, '\"'\"'open'\"'\"', open)(__file__);code=f.read().replace('\"'\"'\\r\\n'\"'\"', '\"'\"'\\n'\"'\"');f.close();exec(compile(code, __file__, '\"'\"'exec'\"'\"'))' install --record /tmp/pip-record-p5jtmhh5/install-record.txt --single-version-externally-managed --user --prefix= --compile --install-headers /workspace/.local/include/python3.8/lightfm Check the logs for full command output.\u001b[0m\n",
      "\u001b[33mWARNING: You are using pip version 20.3.4; however, version 22.0.4 is available.\n",
      "You should consider upgrading via the '/lab/bin/python -m pip install --upgrade pip' command.\u001b[0m\n",
      "\u001b[?25hNote: you may need to restart the kernel to use updated packages.\n"
     ]
    }
   ],
   "source": [
    "pip install lightfm"
   ]
  },
  {
   "cell_type": "code",
   "execution_count": 97,
   "id": "50ced224",
   "metadata": {},
   "outputs": [
    {
     "ename": "ModuleNotFoundError",
     "evalue": "No module named 'surprise'",
     "output_type": "error",
     "traceback": [
      "\u001b[0;31m---------------------------------------------------------------------------\u001b[0m",
      "\u001b[0;31mModuleNotFoundError\u001b[0m                       Traceback (most recent call last)",
      "Input \u001b[0;32mIn [97]\u001b[0m, in \u001b[0;36m<module>\u001b[0;34m\u001b[0m\n\u001b[0;32m----> 1\u001b[0m \u001b[38;5;28;01mimport\u001b[39;00m \u001b[38;5;21;01msurprise\u001b[39;00m\n",
      "\u001b[0;31mModuleNotFoundError\u001b[0m: No module named 'surprise'"
     ]
    }
   ],
   "source": [
    "import surprise"
   ]
  },
  {
   "cell_type": "markdown",
   "id": "2443bb60",
   "metadata": {},
   "source": [
    "## Feature Engineering"
   ]
  },
  {
   "cell_type": "code",
   "execution_count": 27,
   "id": "0a7434eb",
   "metadata": {},
   "outputs": [],
   "source": [
    "d_map = {0: 1, 25: 2, 50: 3, 75: 4, 100: 5}"
   ]
  },
  {
   "cell_type": "code",
   "execution_count": 28,
   "id": "b994a7d6",
   "metadata": {},
   "outputs": [],
   "source": [
    "df_audiences['likes'] = df_audiences['progress'].map(d_map)"
   ]
  },
  {
   "cell_type": "markdown",
   "id": "3035c3e2",
   "metadata": {},
   "source": [
    "## Split temporal"
   ]
  },
  {
   "cell_type": "code",
   "execution_count": 23,
   "id": "ec25300a",
   "metadata": {},
   "outputs": [],
   "source": [
    "import time\n",
    "import datetime"
   ]
  },
  {
   "cell_type": "code",
   "execution_count": 24,
   "id": "18ce21b0",
   "metadata": {},
   "outputs": [
    {
     "data": {
      "text/html": [
       "<div>\n",
       "<style scoped>\n",
       "    .dataframe tbody tr th:only-of-type {\n",
       "        vertical-align: middle;\n",
       "    }\n",
       "\n",
       "    .dataframe tbody tr th {\n",
       "        vertical-align: top;\n",
       "    }\n",
       "\n",
       "    .dataframe thead th {\n",
       "        text-align: right;\n",
       "    }\n",
       "</style>\n",
       "<table border=\"1\" class=\"dataframe\">\n",
       "  <thead>\n",
       "    <tr style=\"text-align: right;\">\n",
       "      <th></th>\n",
       "      <th>userId</th>\n",
       "      <th>contentId</th>\n",
       "      <th>timestamp</th>\n",
       "      <th>progress</th>\n",
       "      <th>liked</th>\n",
       "      <th>commented</th>\n",
       "      <th>shared</th>\n",
       "      <th>date</th>\n",
       "    </tr>\n",
       "  </thead>\n",
       "  <tbody>\n",
       "    <tr>\n",
       "      <th>0</th>\n",
       "      <td>users/6512051967</td>\n",
       "      <td>keaks/17301813623657913783</td>\n",
       "      <td>2020-01-01T00:00:00.4081666</td>\n",
       "      <td>0</td>\n",
       "      <td>True</td>\n",
       "      <td>True</td>\n",
       "      <td>True</td>\n",
       "      <td>1.577837e+09</td>\n",
       "    </tr>\n",
       "    <tr>\n",
       "      <th>1</th>\n",
       "      <td>users/17301813623701852659</td>\n",
       "      <td>keaks/17301813623464753700</td>\n",
       "      <td>2020-01-01T00:00:00.8245932</td>\n",
       "      <td>0</td>\n",
       "      <td>False</td>\n",
       "      <td>False</td>\n",
       "      <td>False</td>\n",
       "      <td>1.577837e+09</td>\n",
       "    </tr>\n",
       "    <tr>\n",
       "      <th>2</th>\n",
       "      <td>users/6512051967</td>\n",
       "      <td>keaks/17301813623650830605</td>\n",
       "      <td>2020-01-01T00:00:05.8421207</td>\n",
       "      <td>0</td>\n",
       "      <td>True</td>\n",
       "      <td>True</td>\n",
       "      <td>True</td>\n",
       "      <td>1.577837e+09</td>\n",
       "    </tr>\n",
       "  </tbody>\n",
       "</table>\n",
       "</div>"
      ],
      "text/plain": [
       "                       userId                   contentId  \\\n",
       "0            users/6512051967  keaks/17301813623657913783   \n",
       "1  users/17301813623701852659  keaks/17301813623464753700   \n",
       "2            users/6512051967  keaks/17301813623650830605   \n",
       "\n",
       "                     timestamp  progress  liked  commented  shared  \\\n",
       "0  2020-01-01T00:00:00.4081666         0   True       True    True   \n",
       "1  2020-01-01T00:00:00.8245932         0  False      False   False   \n",
       "2  2020-01-01T00:00:05.8421207         0   True       True    True   \n",
       "\n",
       "           date  \n",
       "0  1.577837e+09  \n",
       "1  1.577837e+09  \n",
       "2  1.577837e+09  "
      ]
     },
     "execution_count": 24,
     "metadata": {},
     "output_type": "execute_result"
    }
   ],
   "source": [
    "df_audiences['date'] = df_audiences['timestamp'].apply(lambda x: time.mktime(datetime.datetime.strptime(str(x)[0:10], \"%Y-%m-%d\").timetuple()))\n",
    "df_audiences.head(3)\n"
   ]
  },
  {
   "cell_type": "code",
   "execution_count": 30,
   "id": "bf1279d4",
   "metadata": {},
   "outputs": [
    {
     "data": {
      "text/plain": [
       "1640995200.0"
      ]
     },
     "execution_count": 30,
     "metadata": {},
     "output_type": "execute_result"
    }
   ],
   "source": [
    "threshold = \"2022-01-01\"\n",
    "\n",
    "threshold_date = time.mktime(datetime.datetime.strptime(threshold, \"%Y-%m-%d\").timetuple())\n"
   ]
  },
  {
   "cell_type": "code",
   "execution_count": 36,
   "id": "0c284cce",
   "metadata": {},
   "outputs": [],
   "source": [
    "# Split data\n",
    "\n",
    "df_aud_test = df_audiences[df_audiences.date >= threshold_date]\n",
    "df_aud_train = df_audiences[df_audiences.date < threshold_date]\n"
   ]
  },
  {
   "cell_type": "markdown",
   "id": "c774c287",
   "metadata": {},
   "source": [
    "## Evaluation function"
   ]
  },
  {
   "cell_type": "code",
   "execution_count": 85,
   "id": "6f6b820f",
   "metadata": {},
   "outputs": [],
   "source": [
    "def matching_results(df_pred, df_test, users_cols, keaks_cols, likes_cols):\n",
    "    df_pred = df_pred[[users_cols[0], keaks_cols[0], likes_cols[0]]]\n",
    "    df_test = df_test[[users_cols[1], keaks_cols[1], likes_cols[1]]]\n",
    "    \n",
    "    df_test['marker'] = 1\n",
    "    # join the two, keeping all of df1's indices\n",
    "    joined = pd.merge(df_pred, df_test, \n",
    "                      left_on=[users_cols[0], keaks_cols[0]], \n",
    "                      right_on=[users_cols[1], keaks_cols[1]], \n",
    "                      how='left')\n",
    "    \n",
    "    cols_x =[users_cols[0], keaks_cols[0], likes_cols[0], \n",
    "             users_cols[0] + '_x', keaks_cols[0] + '_x', likes_cols[0] + '_x',\n",
    "             users_cols[1], keaks_cols[1], likes_cols[1],\n",
    "             users_cols[1] + '_y', keaks_cols[1] + '_y', likes_cols[1] + '_y']\n",
    "    \n",
    "    cols_joined = list(set(cols_x).intersection(set(joined.columns)))\n",
    "    match_df = joined[~pd.isnull(joined['marker'])][cols_joined]\n",
    "    \n",
    "    return match_df"
   ]
  },
  {
   "cell_type": "code",
   "execution_count": 90,
   "id": "210b68a7",
   "metadata": {},
   "outputs": [],
   "source": [
    "x = df_aud_test.iloc[0:10]\n",
    "x.columns = ['userIda', 'contentIda', 'timestampa', 'progressa', 'likeda', 'commenteda',\n",
    "       'shareda', 'datea', 'likesa']\n",
    "y = df_aud_test.iloc[8:12]"
   ]
  },
  {
   "cell_type": "code",
   "execution_count": 91,
   "id": "2933e739",
   "metadata": {},
   "outputs": [
    {
     "name": "stdout",
     "output_type": "stream",
     "text": [
      "(3, 6)\n"
     ]
    },
    {
     "name": "stderr",
     "output_type": "stream",
     "text": [
      "/tmp/ipykernel_466/2808076024.py:5: SettingWithCopyWarning: \n",
      "A value is trying to be set on a copy of a slice from a DataFrame.\n",
      "Try using .loc[row_indexer,col_indexer] = value instead\n",
      "\n",
      "See the caveats in the documentation: https://pandas.pydata.org/pandas-docs/stable/user_guide/indexing.html#returning-a-view-versus-a-copy\n",
      "  df_test['marker'] = 1\n"
     ]
    },
    {
     "data": {
      "text/html": [
       "<div>\n",
       "<style scoped>\n",
       "    .dataframe tbody tr th:only-of-type {\n",
       "        vertical-align: middle;\n",
       "    }\n",
       "\n",
       "    .dataframe tbody tr th {\n",
       "        vertical-align: top;\n",
       "    }\n",
       "\n",
       "    .dataframe thead th {\n",
       "        text-align: right;\n",
       "    }\n",
       "</style>\n",
       "<table border=\"1\" class=\"dataframe\">\n",
       "  <thead>\n",
       "    <tr style=\"text-align: right;\">\n",
       "      <th></th>\n",
       "      <th>progressa</th>\n",
       "      <th>userId</th>\n",
       "      <th>userIda</th>\n",
       "      <th>progress</th>\n",
       "      <th>contentId</th>\n",
       "      <th>contentIda</th>\n",
       "    </tr>\n",
       "  </thead>\n",
       "  <tbody>\n",
       "    <tr>\n",
       "      <th>4</th>\n",
       "      <td>0</td>\n",
       "      <td>users/17301813625254286371</td>\n",
       "      <td>users/17301813625254286371</td>\n",
       "      <td>100.0</td>\n",
       "      <td>keaks/17301813629388206427</td>\n",
       "      <td>keaks/17301813629388206427</td>\n",
       "    </tr>\n",
       "    <tr>\n",
       "      <th>8</th>\n",
       "      <td>100</td>\n",
       "      <td>users/17301813625254286371</td>\n",
       "      <td>users/17301813625254286371</td>\n",
       "      <td>100.0</td>\n",
       "      <td>keaks/17301813629388206427</td>\n",
       "      <td>keaks/17301813629388206427</td>\n",
       "    </tr>\n",
       "    <tr>\n",
       "      <th>9</th>\n",
       "      <td>0</td>\n",
       "      <td>users/5903891706</td>\n",
       "      <td>users/5903891706</td>\n",
       "      <td>0.0</td>\n",
       "      <td>keaks/17301813623062651916</td>\n",
       "      <td>keaks/17301813623062651916</td>\n",
       "    </tr>\n",
       "  </tbody>\n",
       "</table>\n",
       "</div>"
      ],
      "text/plain": [
       "   progressa                      userId                     userIda  \\\n",
       "4          0  users/17301813625254286371  users/17301813625254286371   \n",
       "8        100  users/17301813625254286371  users/17301813625254286371   \n",
       "9          0            users/5903891706            users/5903891706   \n",
       "\n",
       "   progress                   contentId                  contentIda  \n",
       "4     100.0  keaks/17301813629388206427  keaks/17301813629388206427  \n",
       "8     100.0  keaks/17301813629388206427  keaks/17301813629388206427  \n",
       "9       0.0  keaks/17301813623062651916  keaks/17301813623062651916  "
      ]
     },
     "execution_count": 91,
     "metadata": {},
     "output_type": "execute_result"
    }
   ],
   "source": [
    "matching_results(x, y, users_cols=['userIda', 'userId'], keaks_cols=['contentIda', 'contentId'], likes_cols=['progressa', 'progress'])"
   ]
  },
  {
   "cell_type": "markdown",
   "id": "afed0629",
   "metadata": {},
   "source": [
    "## MF for videos\n"
   ]
  },
  {
   "cell_type": "code",
   "execution_count": null,
   "id": "156a2098",
   "metadata": {},
   "outputs": [],
   "source": []
  },
  {
   "cell_type": "code",
   "execution_count": 115,
   "id": "216df06c",
   "metadata": {},
   "outputs": [
    {
     "name": "stdout",
     "output_type": "stream",
     "text": [
      "DataFrame of 274472 rows loaded in 9.00 sec\n",
      "DataFrame of 1162572 rows loaded in 45.47 sec\n",
      "DataFrame of 28952275 rows loaded in 36.27 sec\n"
     ]
    }
   ],
   "source": [
    "import json\n",
    "import numpy as np\n",
    "import pandas as pd\n",
    "import time\n",
    "\n",
    "def from_jsonl_to_df(path):\n",
    "    t_start = time.time()\n",
    "    with open(path, 'r') as json_file:\n",
    "        json_list = list(json_file)\n",
    "    json_list = [json.loads(json_str) for json_str in json_list]\n",
    "    df = pd.DataFrame.from_dict(json_list, orient='columns')\n",
    "\n",
    "    print(\"DataFrame of {}\".format(len(df))+\" rows loaded in {:.2f} sec\".format(time.time()-t_start))\n",
    "    return df\n",
    "\n",
    "def from_csv_to_df(path):\n",
    "    t_start=time.time()\n",
    "    if \"followers\" in path:\n",
    "        df=pd.read_csv(path, names=[\"follower\", \"person followed\", \"timestamp\"], header=None)\n",
    "    else:\n",
    "        df=pd.read_csv(path)\n",
    "    print(\"DataFrame of {}\".format(len(df))+\" rows loaded in {:.2f} sec\".format(time.time()-t_start))\n",
    "    return df\n",
    "\n",
    "df_keaks = from_jsonl_to_df(\"data/full/keaks.jsonl\")\n",
    "df_users =from_jsonl_to_df(\"data/full/users.jsonl\")\n",
    "df_audiences = from_csv_to_df(\"data/full/audiences.csv\")\n",
    "\n",
    "df_users_filtered = df_users.loc[df_users.sessionCount > 100,'userId']\n",
    "df_keaks_filtered = df_keaks.loc[df_keaks.viewCount > 300,'keakId']\n",
    "df_audiences['userId'] = df_audiences.userId.str[6:]\n",
    "\n",
    "dataset = df_audiences[df_audiences.userId.isin(df_users_filtered)]\n",
    "dataset = dataset[dataset.userId.str.isnumeric()]\n",
    "\n",
    "dataset = dataset[dataset.contentId.str.startswith('keaks/')]\n",
    "dataset['contentId'] = dataset.contentId.str[6:]\n",
    "\n",
    "dataset = dataset[dataset.contentId.isin(df_keaks_filtered)]\n",
    "dataset['userId_float']=dataset['userId'].astype('float')\n",
    "dataset['contentId_float']=dataset['contentId'].astype('float')"
   ]
  },
  {
   "cell_type": "code",
   "execution_count": 116,
   "id": "bd7745b3",
   "metadata": {},
   "outputs": [],
   "source": [
    "#### \n",
    "dataset['Timestamp'] = pd.to_datetime(dataset['timestamp'])\n",
    "dataset['Year'] = dataset['Timestamp'].dt.year\n",
    "\n",
    "dataset.drop(columns=['Timestamp', 'timestamp'], inplace=True)"
   ]
  },
  {
   "cell_type": "code",
   "execution_count": 117,
   "id": "9ad46d30",
   "metadata": {},
   "outputs": [],
   "source": [
    "dataset.drop(columns=['userId_float', 'contentId_float'], inplace=True)"
   ]
  },
  {
   "cell_type": "code",
   "execution_count": 118,
   "id": "95bb3967",
   "metadata": {},
   "outputs": [
    {
     "data": {
      "text/html": [
       "<div>\n",
       "<style scoped>\n",
       "    .dataframe tbody tr th:only-of-type {\n",
       "        vertical-align: middle;\n",
       "    }\n",
       "\n",
       "    .dataframe tbody tr th {\n",
       "        vertical-align: top;\n",
       "    }\n",
       "\n",
       "    .dataframe thead th {\n",
       "        text-align: right;\n",
       "    }\n",
       "</style>\n",
       "<table border=\"1\" class=\"dataframe\">\n",
       "  <thead>\n",
       "    <tr style=\"text-align: right;\">\n",
       "      <th></th>\n",
       "      <th>userId</th>\n",
       "      <th>contentId</th>\n",
       "      <th>progress</th>\n",
       "      <th>liked</th>\n",
       "      <th>commented</th>\n",
       "      <th>shared</th>\n",
       "      <th>Year</th>\n",
       "    </tr>\n",
       "  </thead>\n",
       "  <tbody>\n",
       "    <tr>\n",
       "      <th>15</th>\n",
       "      <td>89964254</td>\n",
       "      <td>17301813623703245849</td>\n",
       "      <td>0</td>\n",
       "      <td>True</td>\n",
       "      <td>False</td>\n",
       "      <td>False</td>\n",
       "      <td>2020</td>\n",
       "    </tr>\n",
       "    <tr>\n",
       "      <th>16</th>\n",
       "      <td>17301813623510725018</td>\n",
       "      <td>17301813623692602333</td>\n",
       "      <td>0</td>\n",
       "      <td>False</td>\n",
       "      <td>False</td>\n",
       "      <td>False</td>\n",
       "      <td>2020</td>\n",
       "    </tr>\n",
       "    <tr>\n",
       "      <th>19</th>\n",
       "      <td>17301813623542265754</td>\n",
       "      <td>17301813622904268148</td>\n",
       "      <td>0</td>\n",
       "      <td>False</td>\n",
       "      <td>False</td>\n",
       "      <td>False</td>\n",
       "      <td>2020</td>\n",
       "    </tr>\n",
       "    <tr>\n",
       "      <th>27</th>\n",
       "      <td>17301813621999302890</td>\n",
       "      <td>17301813623678748279</td>\n",
       "      <td>0</td>\n",
       "      <td>False</td>\n",
       "      <td>False</td>\n",
       "      <td>False</td>\n",
       "      <td>2020</td>\n",
       "    </tr>\n",
       "    <tr>\n",
       "      <th>57</th>\n",
       "      <td>5857229166</td>\n",
       "      <td>17301813623705765013</td>\n",
       "      <td>0</td>\n",
       "      <td>True</td>\n",
       "      <td>True</td>\n",
       "      <td>True</td>\n",
       "      <td>2020</td>\n",
       "    </tr>\n",
       "  </tbody>\n",
       "</table>\n",
       "</div>"
      ],
      "text/plain": [
       "                  userId             contentId  progress  liked  commented  \\\n",
       "15              89964254  17301813623703245849         0   True      False   \n",
       "16  17301813623510725018  17301813623692602333         0  False      False   \n",
       "19  17301813623542265754  17301813622904268148         0  False      False   \n",
       "27  17301813621999302890  17301813623678748279         0  False      False   \n",
       "57            5857229166  17301813623705765013         0   True       True   \n",
       "\n",
       "    shared  Year  \n",
       "15   False  2020  \n",
       "16   False  2020  \n",
       "19   False  2020  \n",
       "27   False  2020  \n",
       "57    True  2020  "
      ]
     },
     "execution_count": 118,
     "metadata": {},
     "output_type": "execute_result"
    }
   ],
   "source": [
    "dataset.head()"
   ]
  },
  {
   "cell_type": "code",
   "execution_count": 126,
   "id": "d3e76b58",
   "metadata": {},
   "outputs": [],
   "source": [
    "dataset['progress'] = np.where(dataset['liked'] == True, 100, dataset['progress'])\n",
    "dataset['progress'] = np.where(dataset['commented'] == True, 100, dataset['progress'])\n",
    "dataset['progress'] = np.where(dataset['shared'] == True, 100, dataset['progress'])\n"
   ]
  },
  {
   "cell_type": "code",
   "execution_count": 128,
   "id": "bea71f7f",
   "metadata": {},
   "outputs": [],
   "source": [
    "dataset.drop(columns=['liked', 'commented', 'shared'], inplace=True)"
   ]
  },
  {
   "cell_type": "code",
   "execution_count": 129,
   "id": "42973927",
   "metadata": {},
   "outputs": [],
   "source": [
    "dataset.to_csv('out2.csv')"
   ]
  },
  {
   "cell_type": "code",
   "execution_count": null,
   "id": "db876860",
   "metadata": {},
   "outputs": [],
   "source": []
  }
 ],
 "metadata": {
  "kernelspec": {
   "display_name": "Python 3 (ipykernel)",
   "language": "python",
   "name": "python3"
  },
  "language_info": {
   "codemirror_mode": {
    "name": "ipython",
    "version": 3
   },
   "file_extension": ".py",
   "mimetype": "text/x-python",
   "name": "python",
   "nbconvert_exporter": "python",
   "pygments_lexer": "ipython3",
   "version": "3.8.10"
  }
 },
 "nbformat": 4,
 "nbformat_minor": 5
}
