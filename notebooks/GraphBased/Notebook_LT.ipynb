{
 "cells": [
  {
   "cell_type": "code",
   "execution_count": 1,
   "id": "a011e8c9",
   "metadata": {},
   "outputs": [],
   "source": [
    "import json\n",
    "import numpy as np\n",
    "import pandas as pd\n",
    "import time"
   ]
  },
  {
   "cell_type": "code",
   "execution_count": 2,
   "id": "795f8863",
   "metadata": {
    "collapsed": true,
    "jupyter": {
     "outputs_hidden": true
    }
   },
   "outputs": [
    {
     "name": "stdout",
     "output_type": "stream",
     "text": [
      "2\n",
      "[{'id': '17301813627868798088', 'createdAt': '2021-04-27T14:29:55.7851529Z', 'lastConnectionDate': '2022-02-09T09:34:27.1083572Z', 'usedGenres': [{'genreId': '12468689066', 'count': 2}, {'genreId': '17301813621692872888', 'count': 31}, {'genreId': '17301813621692872889', 'count': 3}, {'genreId': '17301813621692872891', 'count': 3}, {'genreId': '17301813621692872893', 'count': 1}, {'genreId': '17301813621692872894', 'count': 9}, {'genreId': '17301813621692872896', 'count': 2}, {'genreId': '17301813623043473093', 'count': 60}, {'genreId': '9920897514', 'count': 7}, {'genreId': '9920897516', 'count': 3}, {'genreId': '9920897517', 'count': 16}, {'genreId': '9920897519', 'count': 17}, {'genreId': '9920897520', 'count': 2}, {'genreId': '9920897521', 'count': 2}, {'genreId': '9920897522', 'count': 5}, {'genreId': '9920897523', 'count': 4}, {'genreId': '9920897524', 'count': 2}, {'genreId': '9920897525', 'count': 8}, {'genreId': '9920897526', 'count': 2}, {'genreId': '9920897527', 'count': 2}, {'genreId': '9920897528', 'count': 7}, {'genreId': '9920897529', 'count': 2}, {'genreId': '9920897532', 'count': 12}, {'genreId': '9920897534', 'count': 5}, {'genreId': '9920897535', 'count': 11}, {'genreId': '9920897536', 'count': 4}, {'genreId': '9920897537', 'count': 2}, {'genreId': '9920897543', 'count': 129}, {'genreId': '9920897544', 'count': 1}, {'genreId': '9920897545', 'count': 1}, {'genreId': '9920897546', 'count': 1}], 'preferredGenres': [], 'stats': {'battleCreatedCount': 0, 'battleLostCount': 0, 'battleRespondedCount': 0, 'battleWonCount': 0, 'beatCategoryCount': 0, 'beatCount': 0, 'beatListenedCount': 8541, 'commentCount': 7199, 'followerCount': 540, 'followingCount': 463, 'friendCount': 453, 'keakCount': 568, 'keakrCoinGiven': 50, 'keakrCoinReceived': 190, 'lastImportedVideoUploadedAt': '2022-02-07T10:58:39.8383449Z', 'likeCount': 2862, 'likeGivenCount': 11972, 'mutualFollowCount': 454, 'overallBeatUsage': 0, 'playlistCount': 2, 'prizeMoneyParticipationCount': 0, 'prizeMoneyWinner': False, 'sessionCount': 9780, 'shareCount': 6290, 'viewCount': 21726}, 'isBeatmaker': False, 'isSinger': True}]\n",
      "85834\n",
      "100\n",
      "{'id': 'keaks/17301813623064450175', 'createdAt': '2019-10-10T21:20:59.2970322Z', 'media': 'https://cdn.keakr.com/media/hls/6678b82d-c7c1-4958-9505-247160a7aeac/master.m3u8', 'likeCount': 4, 'commentCount': 2, 'viewCount': 42, 'averageProgress': '7.80', 'genres': [{'genreId': '9920897543', 'name': 'Trap'}]}\n",
      "20 12\n",
      "10\n"
     ]
    }
   ],
   "source": [
    "from ipynb.fs.full.ArangoDB_connection import get_user_info as gu, get_audience_info as ga, get_engagement_info as ge, get_social_graph_info as gsg, get_most_watched_video as gmwv"
   ]
  },
  {
   "cell_type": "code",
   "execution_count": 17,
   "id": "e42bfb26",
   "metadata": {},
   "outputs": [],
   "source": [
    "def from_jsonl_to_df(path):\n",
    "    t_start = time.time()\n",
    "    with open(path, 'r') as json_file:\n",
    "        json_list = list(json_file)\n",
    "    json_list = [json.loads(json_str) for json_str in json_list]\n",
    "    df = pd.DataFrame.from_dict(json_list, orient='columns')\n",
    "    \n",
    "    print(\"DataFrame of {}\".format(len(df))+\" rows loaded in {:.2f} sec\".format(time.time()-t_start))\n",
    "    return df\n",
    "\n",
    "def from_csv_to_df(path):\n",
    "    t_start=time.time()\n",
    "    if \"followers\" in path:\n",
    "        df=pd.read_csv(path, names=[\"follower\", \"person followed\", \"timestamp\"], header=None)\n",
    "    else:\n",
    "        df=pd.read_csv(path)\n",
    "    print(\"DataFrame of {}\".format(len(df))+\" rows loaded in {:.2f} sec\".format(time.time()-t_start))\n",
    "    return df"
   ]
  },
  {
   "cell_type": "code",
   "execution_count": 18,
   "id": "466ad584",
   "metadata": {},
   "outputs": [
    {
     "name": "stdout",
     "output_type": "stream",
     "text": [
      "DataFrame of 274472 rows loaded in 5.05 sec\n"
     ]
    }
   ],
   "source": [
    "df_keaks = from_jsonl_to_df(\"data/full/keaks.jsonl\")"
   ]
  },
  {
   "cell_type": "code",
   "execution_count": 19,
   "id": "817108fe",
   "metadata": {},
   "outputs": [
    {
     "name": "stdout",
     "output_type": "stream",
     "text": [
      "DataFrame of 59761 rows loaded in 2.96 sec\n"
     ]
    }
   ],
   "source": [
    "df_beats =from_jsonl_to_df(\"data/full/beats.jsonl\")"
   ]
  },
  {
   "cell_type": "code",
   "execution_count": 20,
   "id": "960ed52d",
   "metadata": {},
   "outputs": [
    {
     "name": "stdout",
     "output_type": "stream",
     "text": [
      "DataFrame of 1162572 rows loaded in 33.41 sec\n"
     ]
    }
   ],
   "source": [
    "df_users =from_jsonl_to_df(\"data/full/users.jsonl\")"
   ]
  },
  {
   "cell_type": "code",
   "execution_count": 21,
   "id": "7bd7c5cf",
   "metadata": {},
   "outputs": [
    {
     "name": "stdout",
     "output_type": "stream",
     "text": [
      "DataFrame of 10506442 rows loaded in 11.41 sec\n"
     ]
    }
   ],
   "source": [
    "df_followers = from_csv_to_df(\"data/full/followers.csv\")"
   ]
  },
  {
   "cell_type": "code",
   "execution_count": 22,
   "id": "1337de0f",
   "metadata": {},
   "outputs": [
    {
     "name": "stdout",
     "output_type": "stream",
     "text": [
      "DataFrame of 28952275 rows loaded in 38.02 sec\n"
     ]
    }
   ],
   "source": [
    "df_audiences = from_csv_to_df(\"data/full/audiences.csv\")"
   ]
  },
  {
   "cell_type": "code",
   "execution_count": 9,
   "id": "03cb254f",
   "metadata": {},
   "outputs": [
    {
     "data": {
      "text/html": [
       "<div>\n",
       "<style scoped>\n",
       "    .dataframe tbody tr th:only-of-type {\n",
       "        vertical-align: middle;\n",
       "    }\n",
       "\n",
       "    .dataframe tbody tr th {\n",
       "        vertical-align: top;\n",
       "    }\n",
       "\n",
       "    .dataframe thead th {\n",
       "        text-align: right;\n",
       "    }\n",
       "</style>\n",
       "<table border=\"1\" class=\"dataframe\">\n",
       "  <thead>\n",
       "    <tr style=\"text-align: right;\">\n",
       "      <th></th>\n",
       "      <th>keakId</th>\n",
       "      <th>createdAt</th>\n",
       "      <th>likeCount</th>\n",
       "      <th>commentCount</th>\n",
       "      <th>viewCount</th>\n",
       "      <th>averageViewProgress</th>\n",
       "      <th>duration</th>\n",
       "      <th>hashtags</th>\n",
       "      <th>contentType</th>\n",
       "      <th>hasSmallThumbnail</th>\n",
       "      <th>link</th>\n",
       "      <th>beatId</th>\n",
       "      <th>beatGenres</th>\n",
       "    </tr>\n",
       "  </thead>\n",
       "  <tbody>\n",
       "    <tr>\n",
       "      <th>0</th>\n",
       "      <td>17301813623064450175</td>\n",
       "      <td>2019-10-10T21:20:59.2970322Z</td>\n",
       "      <td>4</td>\n",
       "      <td>2</td>\n",
       "      <td>42</td>\n",
       "      <td>7.80</td>\n",
       "      <td>107.0</td>\n",
       "      <td>[91, 1, Rap, Pen, freestyle2019, Trap2K19]</td>\n",
       "      <td>freestyle</td>\n",
       "      <td>True</td>\n",
       "      <td>https://www.keakr.com/fr/keak/mon-mec-rap-1</td>\n",
       "      <td>17301813622843862243</td>\n",
       "      <td>[{'id': '9920897543', 'name': 'Trap'}]</td>\n",
       "    </tr>\n",
       "    <tr>\n",
       "      <th>1</th>\n",
       "      <td>6202649352</td>\n",
       "      <td>2018-04-02T15:06:34.9851924Z</td>\n",
       "      <td>2</td>\n",
       "      <td>2</td>\n",
       "      <td>53</td>\n",
       "      <td>0.00</td>\n",
       "      <td>68.0</td>\n",
       "      <td>[]</td>\n",
       "      <td>freestyle</td>\n",
       "      <td>True</td>\n",
       "      <td>https://www.keakr.com/fr/keak/petit-salaire</td>\n",
       "      <td>None</td>\n",
       "      <td>None</td>\n",
       "    </tr>\n",
       "  </tbody>\n",
       "</table>\n",
       "</div>"
      ],
      "text/plain": [
       "                 keakId                     createdAt  likeCount  \\\n",
       "0  17301813623064450175  2019-10-10T21:20:59.2970322Z          4   \n",
       "1            6202649352  2018-04-02T15:06:34.9851924Z          2   \n",
       "\n",
       "   commentCount  viewCount averageViewProgress  duration  \\\n",
       "0             2         42                7.80     107.0   \n",
       "1             2         53                0.00      68.0   \n",
       "\n",
       "                                     hashtags contentType hasSmallThumbnail  \\\n",
       "0  [91, 1, Rap, Pen, freestyle2019, Trap2K19]   freestyle              True   \n",
       "1                                          []   freestyle              True   \n",
       "\n",
       "                                          link                beatId  \\\n",
       "0  https://www.keakr.com/fr/keak/mon-mec-rap-1  17301813622843862243   \n",
       "1  https://www.keakr.com/fr/keak/petit-salaire                  None   \n",
       "\n",
       "                               beatGenres  \n",
       "0  [{'id': '9920897543', 'name': 'Trap'}]  \n",
       "1                                    None  "
      ]
     },
     "execution_count": 9,
     "metadata": {},
     "output_type": "execute_result"
    }
   ],
   "source": [
    "df_keaks.head(2)"
   ]
  },
  {
   "cell_type": "code",
   "execution_count": 10,
   "id": "d9b6fe2c",
   "metadata": {},
   "outputs": [
    {
     "data": {
      "text/html": [
       "<div>\n",
       "<style scoped>\n",
       "    .dataframe tbody tr th:only-of-type {\n",
       "        vertical-align: middle;\n",
       "    }\n",
       "\n",
       "    .dataframe tbody tr th {\n",
       "        vertical-align: top;\n",
       "    }\n",
       "\n",
       "    .dataframe thead th {\n",
       "        text-align: right;\n",
       "    }\n",
       "</style>\n",
       "<table border=\"1\" class=\"dataframe\">\n",
       "  <thead>\n",
       "    <tr style=\"text-align: right;\">\n",
       "      <th></th>\n",
       "      <th>userId</th>\n",
       "      <th>contentId</th>\n",
       "      <th>timestamp</th>\n",
       "      <th>progress</th>\n",
       "      <th>liked</th>\n",
       "      <th>commented</th>\n",
       "      <th>shared</th>\n",
       "    </tr>\n",
       "  </thead>\n",
       "  <tbody>\n",
       "    <tr>\n",
       "      <th>0</th>\n",
       "      <td>users/6512051967</td>\n",
       "      <td>keaks/17301813623657913783</td>\n",
       "      <td>2020-01-01T00:00:00.4081666</td>\n",
       "      <td>0</td>\n",
       "      <td>True</td>\n",
       "      <td>True</td>\n",
       "      <td>True</td>\n",
       "    </tr>\n",
       "    <tr>\n",
       "      <th>1</th>\n",
       "      <td>users/17301813623701852659</td>\n",
       "      <td>keaks/17301813623464753700</td>\n",
       "      <td>2020-01-01T00:00:00.8245932</td>\n",
       "      <td>0</td>\n",
       "      <td>False</td>\n",
       "      <td>False</td>\n",
       "      <td>False</td>\n",
       "    </tr>\n",
       "  </tbody>\n",
       "</table>\n",
       "</div>"
      ],
      "text/plain": [
       "                       userId                   contentId  \\\n",
       "0            users/6512051967  keaks/17301813623657913783   \n",
       "1  users/17301813623701852659  keaks/17301813623464753700   \n",
       "\n",
       "                     timestamp  progress  liked  commented  shared  \n",
       "0  2020-01-01T00:00:00.4081666         0   True       True    True  \n",
       "1  2020-01-01T00:00:00.8245932         0  False      False   False  "
      ]
     },
     "execution_count": 10,
     "metadata": {},
     "output_type": "execute_result"
    }
   ],
   "source": [
    "df_audiences.head(2)"
   ]
  },
  {
   "cell_type": "code",
   "execution_count": 11,
   "id": "d457b9b9",
   "metadata": {},
   "outputs": [
    {
     "data": {
      "text/html": [
       "<div>\n",
       "<style scoped>\n",
       "    .dataframe tbody tr th:only-of-type {\n",
       "        vertical-align: middle;\n",
       "    }\n",
       "\n",
       "    .dataframe tbody tr th {\n",
       "        vertical-align: top;\n",
       "    }\n",
       "\n",
       "    .dataframe thead th {\n",
       "        text-align: right;\n",
       "    }\n",
       "</style>\n",
       "<table border=\"1\" class=\"dataframe\">\n",
       "  <thead>\n",
       "    <tr style=\"text-align: right;\">\n",
       "      <th></th>\n",
       "      <th>follower</th>\n",
       "      <th>person followed</th>\n",
       "      <th>timestamp</th>\n",
       "    </tr>\n",
       "  </thead>\n",
       "  <tbody>\n",
       "    <tr>\n",
       "      <th>0</th>\n",
       "      <td>users/17301813624860662494</td>\n",
       "      <td>users/17301813625195354624</td>\n",
       "      <td>2020-06-13T16:53:19.7077441Z</td>\n",
       "    </tr>\n",
       "    <tr>\n",
       "      <th>1</th>\n",
       "      <td>users/11928492392</td>\n",
       "      <td>users/12680019689</td>\n",
       "      <td>2019-04-11T22:23:51.9010202Z</td>\n",
       "    </tr>\n",
       "  </tbody>\n",
       "</table>\n",
       "</div>"
      ],
      "text/plain": [
       "                     follower             person followed  \\\n",
       "0  users/17301813624860662494  users/17301813625195354624   \n",
       "1           users/11928492392           users/12680019689   \n",
       "\n",
       "                      timestamp  \n",
       "0  2020-06-13T16:53:19.7077441Z  \n",
       "1  2019-04-11T22:23:51.9010202Z  "
      ]
     },
     "execution_count": 11,
     "metadata": {},
     "output_type": "execute_result"
    }
   ],
   "source": [
    "df_followers.head(2)"
   ]
  },
  {
   "cell_type": "code",
   "execution_count": 12,
   "id": "0c06627a",
   "metadata": {},
   "outputs": [
    {
     "data": {
      "text/html": [
       "<div>\n",
       "<style scoped>\n",
       "    .dataframe tbody tr th:only-of-type {\n",
       "        vertical-align: middle;\n",
       "    }\n",
       "\n",
       "    .dataframe tbody tr th {\n",
       "        vertical-align: top;\n",
       "    }\n",
       "\n",
       "    .dataframe thead th {\n",
       "        text-align: right;\n",
       "    }\n",
       "</style>\n",
       "<table border=\"1\" class=\"dataframe\">\n",
       "  <thead>\n",
       "    <tr style=\"text-align: right;\">\n",
       "      <th></th>\n",
       "      <th>beatId</th>\n",
       "      <th>genres</th>\n",
       "      <th>moods</th>\n",
       "      <th>nbKeaks</th>\n",
       "      <th>nbLikes</th>\n",
       "      <th>beatmakerId</th>\n",
       "      <th>duration</th>\n",
       "      <th>bpm</th>\n",
       "      <th>createdAt</th>\n",
       "      <th>updatedAt</th>\n",
       "      <th>link</th>\n",
       "      <th>licenceType</th>\n",
       "    </tr>\n",
       "  </thead>\n",
       "  <tbody>\n",
       "    <tr>\n",
       "      <th>0</th>\n",
       "      <td>17301813628927249101</td>\n",
       "      <td>[{'id': '9920897543', 'name': 'Trap'}]</td>\n",
       "      <td>[{'id': '17301813622132424287', 'name': 'Dark'...</td>\n",
       "      <td>7</td>\n",
       "      <td>4</td>\n",
       "      <td>17301813625134492069</td>\n",
       "      <td>121.0</td>\n",
       "      <td>102.0</td>\n",
       "      <td>2021-09-20T18:16:47.1420645Z</td>\n",
       "      <td>2021-09-20T18:17:00.2684235Z</td>\n",
       "      <td>https://keakr.com/fr/beat/turquoiz</td>\n",
       "      <td>[free]</td>\n",
       "    </tr>\n",
       "    <tr>\n",
       "      <th>1</th>\n",
       "      <td>17301813627622625982</td>\n",
       "      <td>[{'id': '9920897543', 'name': 'Trap'}]</td>\n",
       "      <td>[]</td>\n",
       "      <td>1</td>\n",
       "      <td>5</td>\n",
       "      <td>17301813627622569830</td>\n",
       "      <td>163.0</td>\n",
       "      <td>125.0</td>\n",
       "      <td>2021-03-31T15:20:10.726762Z</td>\n",
       "      <td>2021-03-31T15:20:26.5760601Z</td>\n",
       "      <td>https://keakr.com/fr/beat/moula-i</td>\n",
       "      <td>[free]</td>\n",
       "    </tr>\n",
       "  </tbody>\n",
       "</table>\n",
       "</div>"
      ],
      "text/plain": [
       "                 beatId                                  genres  \\\n",
       "0  17301813628927249101  [{'id': '9920897543', 'name': 'Trap'}]   \n",
       "1  17301813627622625982  [{'id': '9920897543', 'name': 'Trap'}]   \n",
       "\n",
       "                                               moods  nbKeaks  nbLikes  \\\n",
       "0  [{'id': '17301813622132424287', 'name': 'Dark'...        7        4   \n",
       "1                                                 []        1        5   \n",
       "\n",
       "            beatmakerId  duration    bpm                     createdAt  \\\n",
       "0  17301813625134492069     121.0  102.0  2021-09-20T18:16:47.1420645Z   \n",
       "1  17301813627622569830     163.0  125.0   2021-03-31T15:20:10.726762Z   \n",
       "\n",
       "                      updatedAt                                link  \\\n",
       "0  2021-09-20T18:17:00.2684235Z  https://keakr.com/fr/beat/turquoiz   \n",
       "1  2021-03-31T15:20:26.5760601Z   https://keakr.com/fr/beat/moula-i   \n",
       "\n",
       "  licenceType  \n",
       "0      [free]  \n",
       "1      [free]  "
      ]
     },
     "execution_count": 12,
     "metadata": {},
     "output_type": "execute_result"
    }
   ],
   "source": [
    "df_beats.head(2)"
   ]
  },
  {
   "cell_type": "code",
   "execution_count": 13,
   "id": "29fbc619",
   "metadata": {},
   "outputs": [
    {
     "data": {
      "text/html": [
       "<div>\n",
       "<style scoped>\n",
       "    .dataframe tbody tr th:only-of-type {\n",
       "        vertical-align: middle;\n",
       "    }\n",
       "\n",
       "    .dataframe tbody tr th {\n",
       "        vertical-align: top;\n",
       "    }\n",
       "\n",
       "    .dataframe thead th {\n",
       "        text-align: right;\n",
       "    }\n",
       "</style>\n",
       "<table border=\"1\" class=\"dataframe\">\n",
       "  <thead>\n",
       "    <tr style=\"text-align: right;\">\n",
       "      <th></th>\n",
       "      <th>userId</th>\n",
       "      <th>createdAt</th>\n",
       "      <th>lastConnection</th>\n",
       "      <th>usedGenres</th>\n",
       "      <th>listenedGenres</th>\n",
       "      <th>battleCreatedCount</th>\n",
       "      <th>battleLostCount</th>\n",
       "      <th>battleRespondedCount</th>\n",
       "      <th>battleWonCount</th>\n",
       "      <th>friendCount</th>\n",
       "      <th>...</th>\n",
       "      <th>mutualFollowCount</th>\n",
       "      <th>overallBeatUsage</th>\n",
       "      <th>PlaylistCount</th>\n",
       "      <th>prizeMoneyParticipationCount</th>\n",
       "      <th>prizeMoneyWinner</th>\n",
       "      <th>sessionCount</th>\n",
       "      <th>shareCount</th>\n",
       "      <th>viewCount</th>\n",
       "      <th>isBeatmaker</th>\n",
       "      <th>isSinger</th>\n",
       "    </tr>\n",
       "  </thead>\n",
       "  <tbody>\n",
       "    <tr>\n",
       "      <th>0</th>\n",
       "      <td>12354401148</td>\n",
       "      <td>2019-03-02T10:23:33.0903001Z</td>\n",
       "      <td>2019-03-02T10:23:44.3283191Z</td>\n",
       "      <td>[]</td>\n",
       "      <td>[]</td>\n",
       "      <td>0</td>\n",
       "      <td>0</td>\n",
       "      <td>0</td>\n",
       "      <td>0</td>\n",
       "      <td>0</td>\n",
       "      <td>...</td>\n",
       "      <td>0.0</td>\n",
       "      <td>0.0</td>\n",
       "      <td>NaN</td>\n",
       "      <td>0</td>\n",
       "      <td>False</td>\n",
       "      <td>2.0</td>\n",
       "      <td>NaN</td>\n",
       "      <td>0</td>\n",
       "      <td>False</td>\n",
       "      <td>False</td>\n",
       "    </tr>\n",
       "    <tr>\n",
       "      <th>1</th>\n",
       "      <td>12354411487</td>\n",
       "      <td>2019-03-02T10:26:23.9016307Z</td>\n",
       "      <td>2020-09-24T06:16:46.8631984Z</td>\n",
       "      <td>[]</td>\n",
       "      <td>[]</td>\n",
       "      <td>0</td>\n",
       "      <td>0</td>\n",
       "      <td>0</td>\n",
       "      <td>0</td>\n",
       "      <td>0</td>\n",
       "      <td>...</td>\n",
       "      <td>NaN</td>\n",
       "      <td>0.0</td>\n",
       "      <td>NaN</td>\n",
       "      <td>0</td>\n",
       "      <td>False</td>\n",
       "      <td>8.0</td>\n",
       "      <td>NaN</td>\n",
       "      <td>0</td>\n",
       "      <td>False</td>\n",
       "      <td>False</td>\n",
       "    </tr>\n",
       "  </tbody>\n",
       "</table>\n",
       "<p>2 rows × 25 columns</p>\n",
       "</div>"
      ],
      "text/plain": [
       "        userId                     createdAt                lastConnection  \\\n",
       "0  12354401148  2019-03-02T10:23:33.0903001Z  2019-03-02T10:23:44.3283191Z   \n",
       "1  12354411487  2019-03-02T10:26:23.9016307Z  2020-09-24T06:16:46.8631984Z   \n",
       "\n",
       "  usedGenres listenedGenres  battleCreatedCount  battleLostCount  \\\n",
       "0         []             []                   0                0   \n",
       "1         []             []                   0                0   \n",
       "\n",
       "   battleRespondedCount  battleWonCount  friendCount  ...  mutualFollowCount  \\\n",
       "0                     0               0            0  ...                0.0   \n",
       "1                     0               0            0  ...                NaN   \n",
       "\n",
       "   overallBeatUsage PlaylistCount  prizeMoneyParticipationCount  \\\n",
       "0               0.0           NaN                             0   \n",
       "1               0.0           NaN                             0   \n",
       "\n",
       "   prizeMoneyWinner  sessionCount  shareCount  viewCount  isBeatmaker  \\\n",
       "0             False           2.0         NaN          0        False   \n",
       "1             False           8.0         NaN          0        False   \n",
       "\n",
       "   isSinger  \n",
       "0     False  \n",
       "1     False  \n",
       "\n",
       "[2 rows x 25 columns]"
      ]
     },
     "execution_count": 13,
     "metadata": {},
     "output_type": "execute_result"
    }
   ],
   "source": [
    "df_users.head(2)"
   ]
  },
  {
   "cell_type": "code",
   "execution_count": 14,
   "id": "155a9159",
   "metadata": {
    "collapsed": true,
    "jupyter": {
     "outputs_hidden": true
    }
   },
   "outputs": [
    {
     "data": {
      "text/plain": [
       "['userId',\n",
       " 'createdAt',\n",
       " 'lastConnection',\n",
       " 'usedGenres',\n",
       " 'listenedGenres',\n",
       " 'battleCreatedCount',\n",
       " 'battleLostCount',\n",
       " 'battleRespondedCount',\n",
       " 'battleWonCount',\n",
       " 'friendCount',\n",
       " 'keakCount',\n",
       " 'keakrCoinGiven',\n",
       " 'keakCoinReceived',\n",
       " 'likeCount',\n",
       " 'likeGivenCount',\n",
       " 'mutualFollowCount',\n",
       " 'overallBeatUsage',\n",
       " 'PlaylistCount',\n",
       " 'prizeMoneyParticipationCount',\n",
       " 'prizeMoneyWinner',\n",
       " 'sessionCount',\n",
       " 'shareCount',\n",
       " 'viewCount',\n",
       " 'isBeatmaker',\n",
       " 'isSinger']"
      ]
     },
     "execution_count": 14,
     "metadata": {},
     "output_type": "execute_result"
    }
   ],
   "source": [
    "list(df_users.columns)"
   ]
  },
  {
   "cell_type": "code",
   "execution_count": 10,
   "id": "b23360ac",
   "metadata": {},
   "outputs": [
    {
     "data": {
      "text/html": [
       "<div>\n",
       "<style scoped>\n",
       "    .dataframe tbody tr th:only-of-type {\n",
       "        vertical-align: middle;\n",
       "    }\n",
       "\n",
       "    .dataframe tbody tr th {\n",
       "        vertical-align: top;\n",
       "    }\n",
       "\n",
       "    .dataframe thead th {\n",
       "        text-align: right;\n",
       "    }\n",
       "</style>\n",
       "<table border=\"1\" class=\"dataframe\">\n",
       "  <thead>\n",
       "    <tr style=\"text-align: right;\">\n",
       "      <th></th>\n",
       "      <th>keakId</th>\n",
       "      <th>createdAt</th>\n",
       "      <th>likeCount</th>\n",
       "      <th>commentCount</th>\n",
       "      <th>viewCount</th>\n",
       "      <th>averageViewProgress</th>\n",
       "      <th>duration</th>\n",
       "      <th>hashtags</th>\n",
       "      <th>contentType</th>\n",
       "      <th>hasSmallThumbnail</th>\n",
       "      <th>lien</th>\n",
       "    </tr>\n",
       "  </thead>\n",
       "  <tbody>\n",
       "    <tr>\n",
       "      <th>0</th>\n",
       "      <td>17301813623064450175</td>\n",
       "      <td>2019-10-10T21:20:59.2970322Z</td>\n",
       "      <td>4</td>\n",
       "      <td>2</td>\n",
       "      <td>42</td>\n",
       "      <td>7.80</td>\n",
       "      <td>107.0</td>\n",
       "      <td>[91, 1, Rap, Pen, freestyle2019, Trap2K19]</td>\n",
       "      <td>freestyle</td>\n",
       "      <td>True</td>\n",
       "      <td>https://www.keakr.com/fr/keak/mon-mec-rap-1</td>\n",
       "    </tr>\n",
       "    <tr>\n",
       "      <th>1</th>\n",
       "      <td>6202649352</td>\n",
       "      <td>2018-04-02T15:06:34.9851924Z</td>\n",
       "      <td>2</td>\n",
       "      <td>2</td>\n",
       "      <td>53</td>\n",
       "      <td>0.00</td>\n",
       "      <td>68.0</td>\n",
       "      <td>[]</td>\n",
       "      <td>freestyle</td>\n",
       "      <td>True</td>\n",
       "      <td>https://www.keakr.com/fr/keak/petit-salaire</td>\n",
       "    </tr>\n",
       "  </tbody>\n",
       "</table>\n",
       "</div>"
      ],
      "text/plain": [
       "                 keakId                     createdAt  likeCount  \\\n",
       "0  17301813623064450175  2019-10-10T21:20:59.2970322Z          4   \n",
       "1            6202649352  2018-04-02T15:06:34.9851924Z          2   \n",
       "\n",
       "   commentCount  viewCount averageViewProgress  duration  \\\n",
       "0             2         42                7.80     107.0   \n",
       "1             2         53                0.00      68.0   \n",
       "\n",
       "                                     hashtags contentType hasSmallThumbnail  \\\n",
       "0  [91, 1, Rap, Pen, freestyle2019, Trap2K19]   freestyle              True   \n",
       "1                                          []   freestyle              True   \n",
       "\n",
       "                                          lien  \n",
       "0  https://www.keakr.com/fr/keak/mon-mec-rap-1  \n",
       "1  https://www.keakr.com/fr/keak/petit-salaire  "
      ]
     },
     "execution_count": 10,
     "metadata": {},
     "output_type": "execute_result"
    }
   ],
   "source": [
    "df_keaks.head(2)"
   ]
  },
  {
   "cell_type": "code",
   "execution_count": 28,
   "id": "452fa571",
   "metadata": {},
   "outputs": [
    {
     "name": "stdout",
     "output_type": "stream",
     "text": [
      "274472\n",
      "keakId                                        17301813623064450175\n",
      "createdAt                             2019-10-10T21:20:59.2970322Z\n",
      "likeCount                                                        4\n",
      "commentCount                                                     2\n",
      "viewCount                                                       42\n",
      "averageViewProgress                                           7.80\n",
      "duration                                                     107.0\n",
      "hashtags                [91, 1, Rap, Pen, freestyle2019, Trap2K19]\n",
      "contentType                                              freestyle\n",
      "hasSmallThumbnail                                             True\n",
      "lien                   https://www.keakr.com/fr/keak/mon-mec-rap-1\n",
      "Name: 0, dtype: object\n"
     ]
    },
    {
     "data": {
      "text/plain": [
       "[4, 2, 42, '7.80', 107.0, 6, 1]"
      ]
     },
     "execution_count": 28,
     "metadata": {},
     "output_type": "execute_result"
    }
   ],
   "source": [
    "number_of_keakr = len(df_keaks)\n",
    "print(number_of_keakr)\n",
    "\n",
    "keak = df_keaks.loc[0]\n",
    "print(keak)\n",
    "embed_keakr(keak)"
   ]
  },
  {
   "cell_type": "code",
   "execution_count": 23,
   "id": "93fda663",
   "metadata": {},
   "outputs": [],
   "source": [
    "def embed_keakr(keak):\n",
    "    embedding = []\n",
    "    embedding.append(keak[\"likeCount\"])\n",
    "    embedding.append(keak[\"commentCount\"])\n",
    "    embedding.append(keak[\"viewCount\"])\n",
    "    embedding.append(keak[\"averageViewProgress\"])\n",
    "    embedding.append(keak[\"duration\"])\n",
    "    embedding.append(len(keak[\"hashtags\"]))\n",
    "    thumbnail = 1 if keak[\"hasSmallThumbnail\"] is True else 0\n",
    "    embedding.append(thumbnail)\n",
    "    \n",
    "    return embedding"
   ]
  },
  {
   "cell_type": "code",
   "execution_count": 33,
   "id": "246f1dfb",
   "metadata": {},
   "outputs": [
    {
     "name": "stdout",
     "output_type": "stream",
     "text": [
      "['4' '2' '42' '7.80' '107.0' '6' '1' '4' '2' '42' '7.80' '107.0' '6' '1']\n"
     ]
    }
   ],
   "source": [
    "import numpy as np\n",
    "\n",
    "df_keaks[\"new_col\"] = df_keaks.apply(embed_keakr, axis=1)\n",
    "x = df_keaks.apply(embed_keakr, axis=1)\n",
    "y = df_keaks.apply(embed_keakr, axis=1)\n",
    "\n",
    "fin = [for i in range(len(x)[*x[i], *y[i]]\n",
    "print(np.array(fin))"
   ]
  },
  {
   "cell_type": "code",
   "execution_count": 26,
   "id": "00cba6a3",
   "metadata": {},
   "outputs": [
    {
     "data": {
      "text/html": [
       "<div>\n",
       "<style scoped>\n",
       "    .dataframe tbody tr th:only-of-type {\n",
       "        vertical-align: middle;\n",
       "    }\n",
       "\n",
       "    .dataframe tbody tr th {\n",
       "        vertical-align: top;\n",
       "    }\n",
       "\n",
       "    .dataframe thead th {\n",
       "        text-align: right;\n",
       "    }\n",
       "</style>\n",
       "<table border=\"1\" class=\"dataframe\">\n",
       "  <thead>\n",
       "    <tr style=\"text-align: right;\">\n",
       "      <th></th>\n",
       "      <th>keakId</th>\n",
       "      <th>createdAt</th>\n",
       "      <th>likeCount</th>\n",
       "      <th>commentCount</th>\n",
       "      <th>viewCount</th>\n",
       "      <th>averageViewProgress</th>\n",
       "      <th>duration</th>\n",
       "      <th>hashtags</th>\n",
       "      <th>contentType</th>\n",
       "      <th>hasSmallThumbnail</th>\n",
       "      <th>link</th>\n",
       "      <th>beatId</th>\n",
       "      <th>beatGenres</th>\n",
       "      <th>new_col</th>\n",
       "    </tr>\n",
       "  </thead>\n",
       "  <tbody>\n",
       "    <tr>\n",
       "      <th>0</th>\n",
       "      <td>17301813623064450175</td>\n",
       "      <td>2019-10-10T21:20:59.2970322Z</td>\n",
       "      <td>4</td>\n",
       "      <td>2</td>\n",
       "      <td>42</td>\n",
       "      <td>7.80</td>\n",
       "      <td>107.0</td>\n",
       "      <td>[91, 1, Rap, Pen, freestyle2019, Trap2K19]</td>\n",
       "      <td>freestyle</td>\n",
       "      <td>True</td>\n",
       "      <td>https://www.keakr.com/fr/keak/mon-mec-rap-1</td>\n",
       "      <td>17301813622843862243</td>\n",
       "      <td>[{'id': '9920897543', 'name': 'Trap'}]</td>\n",
       "      <td>[4, 2, 42, 7.80, 107.0, 6, 1]</td>\n",
       "    </tr>\n",
       "    <tr>\n",
       "      <th>1</th>\n",
       "      <td>6202649352</td>\n",
       "      <td>2018-04-02T15:06:34.9851924Z</td>\n",
       "      <td>2</td>\n",
       "      <td>2</td>\n",
       "      <td>53</td>\n",
       "      <td>0.00</td>\n",
       "      <td>68.0</td>\n",
       "      <td>[]</td>\n",
       "      <td>freestyle</td>\n",
       "      <td>True</td>\n",
       "      <td>https://www.keakr.com/fr/keak/petit-salaire</td>\n",
       "      <td>None</td>\n",
       "      <td>None</td>\n",
       "      <td>[2, 2, 53, 0.00, 68.0, 0, 1]</td>\n",
       "    </tr>\n",
       "  </tbody>\n",
       "</table>\n",
       "</div>"
      ],
      "text/plain": [
       "                 keakId                     createdAt  likeCount  \\\n",
       "0  17301813623064450175  2019-10-10T21:20:59.2970322Z          4   \n",
       "1            6202649352  2018-04-02T15:06:34.9851924Z          2   \n",
       "\n",
       "   commentCount  viewCount averageViewProgress  duration  \\\n",
       "0             2         42                7.80     107.0   \n",
       "1             2         53                0.00      68.0   \n",
       "\n",
       "                                     hashtags contentType hasSmallThumbnail  \\\n",
       "0  [91, 1, Rap, Pen, freestyle2019, Trap2K19]   freestyle              True   \n",
       "1                                          []   freestyle              True   \n",
       "\n",
       "                                          link                beatId  \\\n",
       "0  https://www.keakr.com/fr/keak/mon-mec-rap-1  17301813622843862243   \n",
       "1  https://www.keakr.com/fr/keak/petit-salaire                  None   \n",
       "\n",
       "                               beatGenres                        new_col  \n",
       "0  [{'id': '9920897543', 'name': 'Trap'}]  [4, 2, 42, 7.80, 107.0, 6, 1]  \n",
       "1                                    None   [2, 2, 53, 0.00, 68.0, 0, 1]  "
      ]
     },
     "execution_count": 26,
     "metadata": {},
     "output_type": "execute_result"
    }
   ],
   "source": [
    "df_keaks.head(2)"
   ]
  },
  {
   "cell_type": "code",
   "execution_count": 14,
   "id": "137d7f3f",
   "metadata": {},
   "outputs": [
    {
     "data": {
      "text/html": [
       "<div>\n",
       "<style scoped>\n",
       "    .dataframe tbody tr th:only-of-type {\n",
       "        vertical-align: middle;\n",
       "    }\n",
       "\n",
       "    .dataframe tbody tr th {\n",
       "        vertical-align: top;\n",
       "    }\n",
       "\n",
       "    .dataframe thead th {\n",
       "        text-align: right;\n",
       "    }\n",
       "</style>\n",
       "<table border=\"1\" class=\"dataframe\">\n",
       "  <thead>\n",
       "    <tr style=\"text-align: right;\">\n",
       "      <th></th>\n",
       "      <th>userId</th>\n",
       "      <th>contentId</th>\n",
       "      <th>timestamp</th>\n",
       "      <th>progress</th>\n",
       "      <th>liked</th>\n",
       "      <th>commented</th>\n",
       "      <th>shared</th>\n",
       "    </tr>\n",
       "  </thead>\n",
       "  <tbody>\n",
       "    <tr>\n",
       "      <th>0</th>\n",
       "      <td>users/6512051967</td>\n",
       "      <td>keaks/17301813623657913783</td>\n",
       "      <td>2020-01-01T00:00:00.4081666</td>\n",
       "      <td>0</td>\n",
       "      <td>True</td>\n",
       "      <td>True</td>\n",
       "      <td>True</td>\n",
       "    </tr>\n",
       "    <tr>\n",
       "      <th>1</th>\n",
       "      <td>users/17301813623701852659</td>\n",
       "      <td>keaks/17301813623464753700</td>\n",
       "      <td>2020-01-01T00:00:00.8245932</td>\n",
       "      <td>0</td>\n",
       "      <td>False</td>\n",
       "      <td>False</td>\n",
       "      <td>False</td>\n",
       "    </tr>\n",
       "  </tbody>\n",
       "</table>\n",
       "</div>"
      ],
      "text/plain": [
       "                       userId                   contentId  \\\n",
       "0            users/6512051967  keaks/17301813623657913783   \n",
       "1  users/17301813623701852659  keaks/17301813623464753700   \n",
       "\n",
       "                     timestamp  progress  liked  commented  shared  \n",
       "0  2020-01-01T00:00:00.4081666         0   True       True    True  \n",
       "1  2020-01-01T00:00:00.8245932         0  False      False   False  "
      ]
     },
     "execution_count": 14,
     "metadata": {},
     "output_type": "execute_result"
    }
   ],
   "source": [
    "df_audiences.head(2)"
   ]
  },
  {
   "cell_type": "code",
   "execution_count": null,
   "id": "8afa5976",
   "metadata": {},
   "outputs": [],
   "source": [
    "def convert df_to_np(df_audiences):\n",
    "    # loop over the row\n",
    "        # convert userId into embedding, user_embed = df_users.apply(function1, axis=1).numpy()\n",
    "        # convert contentId into embedding, keak_embed = df_keaks.apply(function2, axis=1).numpy()\n",
    "        # concatenate the two embedding, full = np.concatenate(user_embed, keak_embed)\n",
    "        # convert last four into 0.55*progress + 0.15*comment + 0.2*share + 0.1*like, score = 0.55*df_audiences[\"progress\"] + 0.15*df_audiences[\"comment\"] + 0.2*df_audiences[\"share\"] + 0.1*df_audiance[\"like\"]\n",
    "    # return x dim [n_samples, embedding_dim], y"
   ]
  }
 ],
 "metadata": {
  "kernelspec": {
   "display_name": "Python 3 (ipykernel)",
   "language": "python",
   "name": "python3"
  },
  "language_info": {
   "codemirror_mode": {
    "name": "ipython",
    "version": 3
   },
   "file_extension": ".py",
   "mimetype": "text/x-python",
   "name": "python",
   "nbconvert_exporter": "python",
   "pygments_lexer": "ipython3",
   "version": "3.8.10"
  }
 },
 "nbformat": 4,
 "nbformat_minor": 5
}
