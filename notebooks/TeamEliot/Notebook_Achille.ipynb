{
 "cells": [
  {
   "cell_type": "code",
   "execution_count": 10,
   "id": "0053f7fe",
   "metadata": {},
   "outputs": [],
   "source": [
    "import json\n",
    "import numpy as np\n",
    "import pandas as pd\n",
    "import time"
   ]
  },
  {
   "cell_type": "code",
   "execution_count": 4,
   "id": "6b919c98",
   "metadata": {},
   "outputs": [],
   "source": [
    "def from_jsonl_to_df(path):\n",
    "    t_start = time.time()\n",
    "    with open(path, 'r') as json_file:\n",
    "        json_list = list(json_file)\n",
    "    json_list = [json.loads(json_str) for json_str in json_list]\n",
    "    df = pd.DataFrame.from_dict(json_list, orient='columns')\n",
    "    \n",
    "    print(\"DataFrame of {}\".format(len(df))+\" rows loaded in {:.2f} sec\".format(time.time()-t_start))\n",
    "    return df\n",
    "\n",
    "def from_csv_to_df(path):\n",
    "    t_start=time.time()\n",
    "    if \"followers\" in path:\n",
    "        df=pd.read_csv(path, names=[\"follower\", \"person followed\", \"timestamp\"], header=None)\n",
    "    else:\n",
    "        df=pd.read_csv(path)\n",
    "    print(\"DataFrame of {}\".format(len(df))+\" rows loaded in {:.2f} sec\".format(time.time()-t_start))\n",
    "    return df"
   ]
  },
  {
   "cell_type": "code",
   "execution_count": 5,
   "id": "33c9e8fd",
   "metadata": {},
   "outputs": [
    {
     "ename": "NameError",
     "evalue": "name 'time' is not defined",
     "output_type": "error",
     "traceback": [
      "\u001b[0;31m---------------------------------------------------------------------------\u001b[0m",
      "\u001b[0;31mNameError\u001b[0m                                 Traceback (most recent call last)",
      "Input \u001b[0;32mIn [5]\u001b[0m, in \u001b[0;36m<module>\u001b[0;34m\u001b[0m\n\u001b[0;32m----> 1\u001b[0m df_keaks \u001b[38;5;241m=\u001b[39m \u001b[43mfrom_jsonl_to_df\u001b[49m\u001b[43m(\u001b[49m\u001b[38;5;124;43m\"\u001b[39;49m\u001b[38;5;124;43mdata/full/keaks.jsonl\u001b[39;49m\u001b[38;5;124;43m\"\u001b[39;49m\u001b[43m)\u001b[49m\n",
      "Input \u001b[0;32mIn [4]\u001b[0m, in \u001b[0;36mfrom_jsonl_to_df\u001b[0;34m(path)\u001b[0m\n\u001b[1;32m      1\u001b[0m \u001b[38;5;28;01mdef\u001b[39;00m \u001b[38;5;21mfrom_jsonl_to_df\u001b[39m(path):\n\u001b[0;32m----> 2\u001b[0m     t_start \u001b[38;5;241m=\u001b[39m \u001b[43mtime\u001b[49m\u001b[38;5;241m.\u001b[39mtime()\n\u001b[1;32m      3\u001b[0m     \u001b[38;5;28;01mwith\u001b[39;00m \u001b[38;5;28mopen\u001b[39m(path, \u001b[38;5;124m'\u001b[39m\u001b[38;5;124mr\u001b[39m\u001b[38;5;124m'\u001b[39m) \u001b[38;5;28;01mas\u001b[39;00m json_file:\n\u001b[1;32m      4\u001b[0m         json_list \u001b[38;5;241m=\u001b[39m \u001b[38;5;28mlist\u001b[39m(json_file)\n",
      "\u001b[0;31mNameError\u001b[0m: name 'time' is not defined"
     ]
    }
   ],
   "source": [
    "df_keaks = from_jsonl_to_df(\"data/full/keaks.jsonl\")"
   ]
  },
  {
   "cell_type": "code",
   "execution_count": 6,
   "id": "27d2975b",
   "metadata": {},
   "outputs": [
    {
     "ename": "NameError",
     "evalue": "name 'time' is not defined",
     "output_type": "error",
     "traceback": [
      "\u001b[0;31m---------------------------------------------------------------------------\u001b[0m",
      "\u001b[0;31mNameError\u001b[0m                                 Traceback (most recent call last)",
      "Input \u001b[0;32mIn [6]\u001b[0m, in \u001b[0;36m<module>\u001b[0;34m\u001b[0m\n\u001b[0;32m----> 1\u001b[0m df_beats \u001b[38;5;241m=\u001b[39m\u001b[43mfrom_jsonl_to_df\u001b[49m\u001b[43m(\u001b[49m\u001b[38;5;124;43m\"\u001b[39;49m\u001b[38;5;124;43mdata/full/beats.jsonl\u001b[39;49m\u001b[38;5;124;43m\"\u001b[39;49m\u001b[43m)\u001b[49m\n",
      "Input \u001b[0;32mIn [4]\u001b[0m, in \u001b[0;36mfrom_jsonl_to_df\u001b[0;34m(path)\u001b[0m\n\u001b[1;32m      1\u001b[0m \u001b[38;5;28;01mdef\u001b[39;00m \u001b[38;5;21mfrom_jsonl_to_df\u001b[39m(path):\n\u001b[0;32m----> 2\u001b[0m     t_start \u001b[38;5;241m=\u001b[39m \u001b[43mtime\u001b[49m\u001b[38;5;241m.\u001b[39mtime()\n\u001b[1;32m      3\u001b[0m     \u001b[38;5;28;01mwith\u001b[39;00m \u001b[38;5;28mopen\u001b[39m(path, \u001b[38;5;124m'\u001b[39m\u001b[38;5;124mr\u001b[39m\u001b[38;5;124m'\u001b[39m) \u001b[38;5;28;01mas\u001b[39;00m json_file:\n\u001b[1;32m      4\u001b[0m         json_list \u001b[38;5;241m=\u001b[39m \u001b[38;5;28mlist\u001b[39m(json_file)\n",
      "\u001b[0;31mNameError\u001b[0m: name 'time' is not defined"
     ]
    }
   ],
   "source": [
    "df_beats =from_jsonl_to_df(\"data/full/beats.jsonl\")"
   ]
  },
  {
   "cell_type": "code",
   "execution_count": 7,
   "id": "a54a797a",
   "metadata": {},
   "outputs": [
    {
     "ename": "NameError",
     "evalue": "name 'time' is not defined",
     "output_type": "error",
     "traceback": [
      "\u001b[0;31m---------------------------------------------------------------------------\u001b[0m",
      "\u001b[0;31mNameError\u001b[0m                                 Traceback (most recent call last)",
      "Input \u001b[0;32mIn [7]\u001b[0m, in \u001b[0;36m<module>\u001b[0;34m\u001b[0m\n\u001b[0;32m----> 1\u001b[0m df_users \u001b[38;5;241m=\u001b[39m\u001b[43mfrom_jsonl_to_df\u001b[49m\u001b[43m(\u001b[49m\u001b[38;5;124;43m\"\u001b[39;49m\u001b[38;5;124;43mdata/full/users.jsonl\u001b[39;49m\u001b[38;5;124;43m\"\u001b[39;49m\u001b[43m)\u001b[49m\n",
      "Input \u001b[0;32mIn [4]\u001b[0m, in \u001b[0;36mfrom_jsonl_to_df\u001b[0;34m(path)\u001b[0m\n\u001b[1;32m      1\u001b[0m \u001b[38;5;28;01mdef\u001b[39;00m \u001b[38;5;21mfrom_jsonl_to_df\u001b[39m(path):\n\u001b[0;32m----> 2\u001b[0m     t_start \u001b[38;5;241m=\u001b[39m \u001b[43mtime\u001b[49m\u001b[38;5;241m.\u001b[39mtime()\n\u001b[1;32m      3\u001b[0m     \u001b[38;5;28;01mwith\u001b[39;00m \u001b[38;5;28mopen\u001b[39m(path, \u001b[38;5;124m'\u001b[39m\u001b[38;5;124mr\u001b[39m\u001b[38;5;124m'\u001b[39m) \u001b[38;5;28;01mas\u001b[39;00m json_file:\n\u001b[1;32m      4\u001b[0m         json_list \u001b[38;5;241m=\u001b[39m \u001b[38;5;28mlist\u001b[39m(json_file)\n",
      "\u001b[0;31mNameError\u001b[0m: name 'time' is not defined"
     ]
    }
   ],
   "source": [
    "df_users =from_jsonl_to_df(\"data/full/users.jsonl\")"
   ]
  },
  {
   "cell_type": "code",
   "execution_count": 15,
   "id": "e13cae9a",
   "metadata": {},
   "outputs": [
    {
     "name": "stdout",
     "output_type": "stream",
     "text": [
      "DataFrame of 10506442 rows loaded in 13.56 sec\n"
     ]
    }
   ],
   "source": [
    "df_followers = from_csv_to_df(\"data/full/followers.csv\")"
   ]
  },
  {
   "cell_type": "code",
   "execution_count": 16,
   "id": "85468c90",
   "metadata": {},
   "outputs": [
    {
     "name": "stdout",
     "output_type": "stream",
     "text": [
      "DataFrame of 28952275 rows loaded in 36.71 sec\n"
     ]
    }
   ],
   "source": [
    "df_audiences = from_csv_to_df(\"data/full/audiences.csv\")"
   ]
  },
  {
   "cell_type": "code",
   "execution_count": 17,
   "id": "9d8d04d3",
   "metadata": {},
   "outputs": [
    {
     "data": {
      "text/html": [
       "<div>\n",
       "<style scoped>\n",
       "    .dataframe tbody tr th:only-of-type {\n",
       "        vertical-align: middle;\n",
       "    }\n",
       "\n",
       "    .dataframe tbody tr th {\n",
       "        vertical-align: top;\n",
       "    }\n",
       "\n",
       "    .dataframe thead th {\n",
       "        text-align: right;\n",
       "    }\n",
       "</style>\n",
       "<table border=\"1\" class=\"dataframe\">\n",
       "  <thead>\n",
       "    <tr style=\"text-align: right;\">\n",
       "      <th></th>\n",
       "      <th>keakId</th>\n",
       "      <th>createdAt</th>\n",
       "      <th>likeCount</th>\n",
       "      <th>commentCount</th>\n",
       "      <th>viewCount</th>\n",
       "      <th>averageViewProgress</th>\n",
       "      <th>duration</th>\n",
       "      <th>hashtags</th>\n",
       "      <th>contentType</th>\n",
       "      <th>hasSmallThumbnail</th>\n",
       "      <th>link</th>\n",
       "      <th>beatId</th>\n",
       "      <th>beatGenres</th>\n",
       "    </tr>\n",
       "  </thead>\n",
       "  <tbody>\n",
       "    <tr>\n",
       "      <th>0</th>\n",
       "      <td>17301813623064450175</td>\n",
       "      <td>2019-10-10T21:20:59.2970322Z</td>\n",
       "      <td>4</td>\n",
       "      <td>2</td>\n",
       "      <td>42</td>\n",
       "      <td>7.80</td>\n",
       "      <td>107.0</td>\n",
       "      <td>[91, 1, Rap, Pen, freestyle2019, Trap2K19]</td>\n",
       "      <td>freestyle</td>\n",
       "      <td>True</td>\n",
       "      <td>https://www.keakr.com/fr/keak/mon-mec-rap-1</td>\n",
       "      <td>17301813622843862243</td>\n",
       "      <td>[{'id': '9920897543', 'name': 'Trap'}]</td>\n",
       "    </tr>\n",
       "    <tr>\n",
       "      <th>1</th>\n",
       "      <td>6202649352</td>\n",
       "      <td>2018-04-02T15:06:34.9851924Z</td>\n",
       "      <td>2</td>\n",
       "      <td>2</td>\n",
       "      <td>53</td>\n",
       "      <td>0.00</td>\n",
       "      <td>68.0</td>\n",
       "      <td>[]</td>\n",
       "      <td>freestyle</td>\n",
       "      <td>True</td>\n",
       "      <td>https://www.keakr.com/fr/keak/petit-salaire</td>\n",
       "      <td>None</td>\n",
       "      <td>None</td>\n",
       "    </tr>\n",
       "    <tr>\n",
       "      <th>2</th>\n",
       "      <td>17301813626763053961</td>\n",
       "      <td>2020-11-25T03:48:11.7751856Z</td>\n",
       "      <td>0</td>\n",
       "      <td>1</td>\n",
       "      <td>0</td>\n",
       "      <td>None</td>\n",
       "      <td>NaN</td>\n",
       "      <td>[]</td>\n",
       "      <td>live</td>\n",
       "      <td>None</td>\n",
       "      <td>https://www.keakr.com/fr/keak/live-1po</td>\n",
       "      <td>None</td>\n",
       "      <td>None</td>\n",
       "    </tr>\n",
       "    <tr>\n",
       "      <th>3</th>\n",
       "      <td>11779960378</td>\n",
       "      <td>2019-01-18T21:36:38.7535079Z</td>\n",
       "      <td>1</td>\n",
       "      <td>1</td>\n",
       "      <td>55</td>\n",
       "      <td>0</td>\n",
       "      <td>6.0</td>\n",
       "      <td>[]</td>\n",
       "      <td>freestyle</td>\n",
       "      <td>True</td>\n",
       "      <td>https://www.keakr.com/fr/keak/m-s-s</td>\n",
       "      <td>None</td>\n",
       "      <td>None</td>\n",
       "    </tr>\n",
       "    <tr>\n",
       "      <th>4</th>\n",
       "      <td>17301813625762381409</td>\n",
       "      <td>2020-07-30T23:37:29.8512735Z</td>\n",
       "      <td>16</td>\n",
       "      <td>2</td>\n",
       "      <td>100</td>\n",
       "      <td>1.04</td>\n",
       "      <td>185.0</td>\n",
       "      <td>[]</td>\n",
       "      <td>freestyle</td>\n",
       "      <td>True</td>\n",
       "      <td>https://www.keakr.com/fr/keak/mes-inspiration</td>\n",
       "      <td>17301813625761964386</td>\n",
       "      <td>[{'id': '9920897519', 'name': 'Boom bap'}, {'i...</td>\n",
       "    </tr>\n",
       "  </tbody>\n",
       "</table>\n",
       "</div>"
      ],
      "text/plain": [
       "                 keakId                     createdAt  likeCount  \\\n",
       "0  17301813623064450175  2019-10-10T21:20:59.2970322Z          4   \n",
       "1            6202649352  2018-04-02T15:06:34.9851924Z          2   \n",
       "2  17301813626763053961  2020-11-25T03:48:11.7751856Z          0   \n",
       "3           11779960378  2019-01-18T21:36:38.7535079Z          1   \n",
       "4  17301813625762381409  2020-07-30T23:37:29.8512735Z         16   \n",
       "\n",
       "   commentCount  viewCount averageViewProgress  duration  \\\n",
       "0             2         42                7.80     107.0   \n",
       "1             2         53                0.00      68.0   \n",
       "2             1          0                None       NaN   \n",
       "3             1         55                   0       6.0   \n",
       "4             2        100                1.04     185.0   \n",
       "\n",
       "                                     hashtags contentType hasSmallThumbnail  \\\n",
       "0  [91, 1, Rap, Pen, freestyle2019, Trap2K19]   freestyle              True   \n",
       "1                                          []   freestyle              True   \n",
       "2                                          []        live              None   \n",
       "3                                          []   freestyle              True   \n",
       "4                                          []   freestyle              True   \n",
       "\n",
       "                                            link                beatId  \\\n",
       "0    https://www.keakr.com/fr/keak/mon-mec-rap-1  17301813622843862243   \n",
       "1    https://www.keakr.com/fr/keak/petit-salaire                  None   \n",
       "2         https://www.keakr.com/fr/keak/live-1po                  None   \n",
       "3            https://www.keakr.com/fr/keak/m-s-s                  None   \n",
       "4  https://www.keakr.com/fr/keak/mes-inspiration  17301813625761964386   \n",
       "\n",
       "                                          beatGenres  \n",
       "0             [{'id': '9920897543', 'name': 'Trap'}]  \n",
       "1                                               None  \n",
       "2                                               None  \n",
       "3                                               None  \n",
       "4  [{'id': '9920897519', 'name': 'Boom bap'}, {'i...  "
      ]
     },
     "execution_count": 17,
     "metadata": {},
     "output_type": "execute_result"
    }
   ],
   "source": [
    "df_keaks.head()"
   ]
  },
  {
   "cell_type": "code",
   "execution_count": 18,
   "id": "89ea1356",
   "metadata": {},
   "outputs": [
    {
     "name": "stdout",
     "output_type": "stream",
     "text": [
      "<class 'pandas.core.frame.DataFrame'>\n",
      "RangeIndex: 274472 entries, 0 to 274471\n",
      "Data columns (total 13 columns):\n",
      " #   Column               Non-Null Count   Dtype  \n",
      "---  ------               --------------   -----  \n",
      " 0   keakId               274472 non-null  object \n",
      " 1   createdAt            274472 non-null  object \n",
      " 2   likeCount            274472 non-null  int64  \n",
      " 3   commentCount         274472 non-null  int64  \n",
      " 4   viewCount            274472 non-null  int64  \n",
      " 5   averageViewProgress  258064 non-null  object \n",
      " 6   duration             249517 non-null  float64\n",
      " 7   hashtags             274472 non-null  object \n",
      " 8   contentType          258626 non-null  object \n",
      " 9   hasSmallThumbnail    246256 non-null  object \n",
      " 10  link                 274472 non-null  object \n",
      " 11  beatId               146169 non-null  object \n",
      " 12  beatGenres           146169 non-null  object \n",
      "dtypes: float64(1), int64(3), object(9)\n",
      "memory usage: 27.2+ MB\n"
     ]
    }
   ],
   "source": [
    "df_keaks.info()"
   ]
  },
  {
   "cell_type": "code",
   "execution_count": 19,
   "id": "e02b6037",
   "metadata": {},
   "outputs": [
    {
     "data": {
      "text/plain": [
       "keakId                      0\n",
       "createdAt                   0\n",
       "likeCount                   0\n",
       "commentCount                0\n",
       "viewCount                   0\n",
       "averageViewProgress     16408\n",
       "duration                24955\n",
       "hashtags                    0\n",
       "contentType             15846\n",
       "hasSmallThumbnail       28216\n",
       "link                        0\n",
       "beatId                 128303\n",
       "beatGenres             128303\n",
       "dtype: int64"
      ]
     },
     "execution_count": 19,
     "metadata": {},
     "output_type": "execute_result"
    }
   ],
   "source": [
    "df_keaks.isna().sum()"
   ]
  },
  {
   "cell_type": "code",
   "execution_count": 33,
   "id": "179e9009",
   "metadata": {},
   "outputs": [
    {
     "data": {
      "text/plain": [
       "274472"
      ]
     },
     "execution_count": 33,
     "metadata": {},
     "output_type": "execute_result"
    }
   ],
   "source": [
    "df_keaks.keakId.nunique()"
   ]
  },
  {
   "cell_type": "markdown",
   "id": "2a0b8162",
   "metadata": {},
   "source": [
    "### cleanning data"
   ]
  },
  {
   "cell_type": "code",
   "execution_count": 3,
   "id": "37583662",
   "metadata": {},
   "outputs": [
    {
     "ename": "NameError",
     "evalue": "name 'df_audiences' is not defined",
     "output_type": "error",
     "traceback": [
      "\u001b[0;31m---------------------------------------------------------------------------\u001b[0m",
      "\u001b[0;31mNameError\u001b[0m                                 Traceback (most recent call last)",
      "Input \u001b[0;32mIn [3]\u001b[0m, in \u001b[0;36m<module>\u001b[0;34m\u001b[0m\n\u001b[0;32m----> 1\u001b[0m \u001b[43mdf_audiences\u001b[49m\u001b[38;5;241m.\u001b[39mhead(\u001b[38;5;241m2\u001b[39m)\n",
      "\u001b[0;31mNameError\u001b[0m: name 'df_audiences' is not defined"
     ]
    }
   ],
   "source": [
    "df_audiences.head(2)"
   ]
  },
  {
   "cell_type": "code",
   "execution_count": null,
   "id": "691db0bc",
   "metadata": {},
   "outputs": [],
   "source": [
    "df_audiences[\"userID\"]=df_audiences[\"userId\"].apply(lambda x:x.split(\"/\")[1])\n"
   ]
  },
  {
   "cell_type": "code",
   "execution_count": 2,
   "id": "7e1ae5ef",
   "metadata": {},
   "outputs": [
    {
     "ename": "NameError",
     "evalue": "name 'df_audiences' is not defined",
     "output_type": "error",
     "traceback": [
      "\u001b[0;31m---------------------------------------------------------------------------\u001b[0m",
      "\u001b[0;31mNameError\u001b[0m                                 Traceback (most recent call last)",
      "Input \u001b[0;32mIn [2]\u001b[0m, in \u001b[0;36m<module>\u001b[0;34m\u001b[0m\n\u001b[0;32m----> 1\u001b[0m \u001b[43mdf_audiences\u001b[49m\u001b[38;5;241m.\u001b[39mhead()\n",
      "\u001b[0;31mNameError\u001b[0m: name 'df_audiences' is not defined"
     ]
    }
   ],
   "source": [
    "df_audiences.head()"
   ]
  },
  {
   "cell_type": "code",
   "execution_count": 42,
   "id": "9b56197e",
   "metadata": {},
   "outputs": [
    {
     "data": {
      "text/html": [
       "<div>\n",
       "<style scoped>\n",
       "    .dataframe tbody tr th:only-of-type {\n",
       "        vertical-align: middle;\n",
       "    }\n",
       "\n",
       "    .dataframe tbody tr th {\n",
       "        vertical-align: top;\n",
       "    }\n",
       "\n",
       "    .dataframe thead th {\n",
       "        text-align: right;\n",
       "    }\n",
       "</style>\n",
       "<table border=\"1\" class=\"dataframe\">\n",
       "  <thead>\n",
       "    <tr style=\"text-align: right;\">\n",
       "      <th></th>\n",
       "      <th>userId</th>\n",
       "      <th>contentId</th>\n",
       "      <th>timestamp</th>\n",
       "      <th>progress</th>\n",
       "      <th>liked</th>\n",
       "      <th>commented</th>\n",
       "      <th>shared</th>\n",
       "      <th>userID</th>\n",
       "    </tr>\n",
       "  </thead>\n",
       "  <tbody>\n",
       "    <tr>\n",
       "      <th>58</th>\n",
       "      <td>users/$keakr</td>\n",
       "      <td>keaks/17301813623692602333</td>\n",
       "      <td>2020-01-01T00:01:54.9206706</td>\n",
       "      <td>0</td>\n",
       "      <td>False</td>\n",
       "      <td>False</td>\n",
       "      <td>False</td>\n",
       "      <td>$keakr</td>\n",
       "    </tr>\n",
       "    <tr>\n",
       "      <th>346</th>\n",
       "      <td>users/$keakr</td>\n",
       "      <td>keaks/17301813623391603603</td>\n",
       "      <td>2020-01-01T00:14:38.8136129</td>\n",
       "      <td>0</td>\n",
       "      <td>False</td>\n",
       "      <td>False</td>\n",
       "      <td>False</td>\n",
       "      <td>$keakr</td>\n",
       "    </tr>\n",
       "    <tr>\n",
       "      <th>358</th>\n",
       "      <td>users/$keakr</td>\n",
       "      <td>keaks/17301813623668305066</td>\n",
       "      <td>2020-01-01T00:15:14.6137878</td>\n",
       "      <td>0</td>\n",
       "      <td>False</td>\n",
       "      <td>False</td>\n",
       "      <td>False</td>\n",
       "      <td>$keakr</td>\n",
       "    </tr>\n",
       "    <tr>\n",
       "      <th>379</th>\n",
       "      <td>users/$keakr</td>\n",
       "      <td>keaks/17301813623696335958</td>\n",
       "      <td>2020-01-01T00:16:23.7456523</td>\n",
       "      <td>0</td>\n",
       "      <td>False</td>\n",
       "      <td>False</td>\n",
       "      <td>False</td>\n",
       "      <td>$keakr</td>\n",
       "    </tr>\n",
       "    <tr>\n",
       "      <th>402</th>\n",
       "      <td>users/$keakr</td>\n",
       "      <td>keaks/17301813623413097198</td>\n",
       "      <td>2020-01-01T00:17:09.3018149</td>\n",
       "      <td>0</td>\n",
       "      <td>False</td>\n",
       "      <td>False</td>\n",
       "      <td>False</td>\n",
       "      <td>$keakr</td>\n",
       "    </tr>\n",
       "    <tr>\n",
       "      <th>...</th>\n",
       "      <td>...</td>\n",
       "      <td>...</td>\n",
       "      <td>...</td>\n",
       "      <td>...</td>\n",
       "      <td>...</td>\n",
       "      <td>...</td>\n",
       "      <td>...</td>\n",
       "      <td>...</td>\n",
       "    </tr>\n",
       "    <tr>\n",
       "      <th>28952235</th>\n",
       "      <td>users/$keakr</td>\n",
       "      <td>keaks/17301813629111852939</td>\n",
       "      <td>2022-02-09T09:15:13.1067119</td>\n",
       "      <td>0</td>\n",
       "      <td>False</td>\n",
       "      <td>False</td>\n",
       "      <td>False</td>\n",
       "      <td>$keakr</td>\n",
       "    </tr>\n",
       "    <tr>\n",
       "      <th>28952236</th>\n",
       "      <td>users/$keakr</td>\n",
       "      <td>keaks/17301813627735564540</td>\n",
       "      <td>2022-02-09T09:16:04.4754081</td>\n",
       "      <td>0</td>\n",
       "      <td>False</td>\n",
       "      <td>False</td>\n",
       "      <td>False</td>\n",
       "      <td>$keakr</td>\n",
       "    </tr>\n",
       "    <tr>\n",
       "      <th>28952252</th>\n",
       "      <td>users/$keakr</td>\n",
       "      <td>keaks/17301813629006642415</td>\n",
       "      <td>2022-02-09T09:19:05.8812465</td>\n",
       "      <td>0</td>\n",
       "      <td>False</td>\n",
       "      <td>False</td>\n",
       "      <td>False</td>\n",
       "      <td>$keakr</td>\n",
       "    </tr>\n",
       "    <tr>\n",
       "      <th>28952263</th>\n",
       "      <td>users/$keakr</td>\n",
       "      <td>keaks/11251947163</td>\n",
       "      <td>2022-02-09T09:20:44.3565552</td>\n",
       "      <td>0</td>\n",
       "      <td>False</td>\n",
       "      <td>False</td>\n",
       "      <td>False</td>\n",
       "      <td>$keakr</td>\n",
       "    </tr>\n",
       "    <tr>\n",
       "      <th>28952274</th>\n",
       "      <td>users/$keakr</td>\n",
       "      <td>keaks/17301813629983640630</td>\n",
       "      <td>2022-02-09T09:22:30.6077751</td>\n",
       "      <td>0</td>\n",
       "      <td>False</td>\n",
       "      <td>False</td>\n",
       "      <td>False</td>\n",
       "      <td>$keakr</td>\n",
       "    </tr>\n",
       "  </tbody>\n",
       "</table>\n",
       "<p>659330 rows × 8 columns</p>\n",
       "</div>"
      ],
      "text/plain": [
       "                userId                   contentId  \\\n",
       "58        users/$keakr  keaks/17301813623692602333   \n",
       "346       users/$keakr  keaks/17301813623391603603   \n",
       "358       users/$keakr  keaks/17301813623668305066   \n",
       "379       users/$keakr  keaks/17301813623696335958   \n",
       "402       users/$keakr  keaks/17301813623413097198   \n",
       "...                ...                         ...   \n",
       "28952235  users/$keakr  keaks/17301813629111852939   \n",
       "28952236  users/$keakr  keaks/17301813627735564540   \n",
       "28952252  users/$keakr  keaks/17301813629006642415   \n",
       "28952263  users/$keakr           keaks/11251947163   \n",
       "28952274  users/$keakr  keaks/17301813629983640630   \n",
       "\n",
       "                            timestamp  progress  liked  commented  shared  \\\n",
       "58        2020-01-01T00:01:54.9206706         0  False      False   False   \n",
       "346       2020-01-01T00:14:38.8136129         0  False      False   False   \n",
       "358       2020-01-01T00:15:14.6137878         0  False      False   False   \n",
       "379       2020-01-01T00:16:23.7456523         0  False      False   False   \n",
       "402       2020-01-01T00:17:09.3018149         0  False      False   False   \n",
       "...                               ...       ...    ...        ...     ...   \n",
       "28952235  2022-02-09T09:15:13.1067119         0  False      False   False   \n",
       "28952236  2022-02-09T09:16:04.4754081         0  False      False   False   \n",
       "28952252  2022-02-09T09:19:05.8812465         0  False      False   False   \n",
       "28952263  2022-02-09T09:20:44.3565552         0  False      False   False   \n",
       "28952274  2022-02-09T09:22:30.6077751         0  False      False   False   \n",
       "\n",
       "          userID  \n",
       "58        $keakr  \n",
       "346       $keakr  \n",
       "358       $keakr  \n",
       "379       $keakr  \n",
       "402       $keakr  \n",
       "...          ...  \n",
       "28952235  $keakr  \n",
       "28952236  $keakr  \n",
       "28952252  $keakr  \n",
       "28952263  $keakr  \n",
       "28952274  $keakr  \n",
       "\n",
       "[659330 rows x 8 columns]"
      ]
     },
     "execution_count": 42,
     "metadata": {},
     "output_type": "execute_result"
    }
   ],
   "source": [
    "df_audiences.query(\"userID=='$keakr'\")"
   ]
  },
  {
   "cell_type": "code",
   "execution_count": 26,
   "id": "20c51e64",
   "metadata": {},
   "outputs": [
    {
     "name": "stdout",
     "output_type": "stream",
     "text": [
      "<class 'pandas.core.frame.DataFrame'>\n",
      "RangeIndex: 28952275 entries, 0 to 28952274\n",
      "Data columns (total 8 columns):\n",
      " #   Column     Dtype \n",
      "---  ------     ----- \n",
      " 0   userId     object\n",
      " 1   contentId  object\n",
      " 2   timestamp  object\n",
      " 3   progress   int64 \n",
      " 4   liked      bool  \n",
      " 5   commented  bool  \n",
      " 6   shared     bool  \n",
      " 7   userID     object\n",
      "dtypes: bool(3), int64(1), object(4)\n",
      "memory usage: 1.2+ GB\n"
     ]
    }
   ],
   "source": [
    "df_audiences.head()"
   ]
  },
  {
   "cell_type": "code",
   "execution_count": 12,
   "id": "1c0b4a6f",
   "metadata": {},
   "outputs": [
    {
     "data": {
      "text/html": [
       "<div>\n",
       "<style scoped>\n",
       "    .dataframe tbody tr th:only-of-type {\n",
       "        vertical-align: middle;\n",
       "    }\n",
       "\n",
       "    .dataframe tbody tr th {\n",
       "        vertical-align: top;\n",
       "    }\n",
       "\n",
       "    .dataframe thead th {\n",
       "        text-align: right;\n",
       "    }\n",
       "</style>\n",
       "<table border=\"1\" class=\"dataframe\">\n",
       "  <thead>\n",
       "    <tr style=\"text-align: right;\">\n",
       "      <th></th>\n",
       "      <th>follower</th>\n",
       "      <th>person followed</th>\n",
       "      <th>timestamp</th>\n",
       "    </tr>\n",
       "  </thead>\n",
       "  <tbody>\n",
       "    <tr>\n",
       "      <th>0</th>\n",
       "      <td>users/17301813624860662494</td>\n",
       "      <td>users/17301813625195354624</td>\n",
       "      <td>2020-06-13T16:53:19.7077441Z</td>\n",
       "    </tr>\n",
       "    <tr>\n",
       "      <th>1</th>\n",
       "      <td>users/11928492392</td>\n",
       "      <td>users/12680019689</td>\n",
       "      <td>2019-04-11T22:23:51.9010202Z</td>\n",
       "    </tr>\n",
       "  </tbody>\n",
       "</table>\n",
       "</div>"
      ],
      "text/plain": [
       "                     follower             person followed  \\\n",
       "0  users/17301813624860662494  users/17301813625195354624   \n",
       "1           users/11928492392           users/12680019689   \n",
       "\n",
       "                      timestamp  \n",
       "0  2020-06-13T16:53:19.7077441Z  \n",
       "1  2019-04-11T22:23:51.9010202Z  "
      ]
     },
     "execution_count": 12,
     "metadata": {},
     "output_type": "execute_result"
    }
   ],
   "source": [
    "df_followers.head(2)"
   ]
  },
  {
   "cell_type": "code",
   "execution_count": 13,
   "id": "46de0f3b",
   "metadata": {},
   "outputs": [
    {
     "name": "stdout",
     "output_type": "stream",
     "text": [
      "<class 'pandas.core.frame.DataFrame'>\n",
      "RangeIndex: 10506442 entries, 0 to 10506441\n",
      "Data columns (total 3 columns):\n",
      " #   Column           Dtype \n",
      "---  ------           ----- \n",
      " 0   follower         object\n",
      " 1   person followed  object\n",
      " 2   timestamp        object\n",
      "dtypes: object(3)\n",
      "memory usage: 240.5+ MB\n"
     ]
    }
   ],
   "source": [
    "df_followers.info()"
   ]
  },
  {
   "cell_type": "code",
   "execution_count": 14,
   "id": "19e2001c",
   "metadata": {},
   "outputs": [
    {
     "data": {
      "text/html": [
       "<div>\n",
       "<style scoped>\n",
       "    .dataframe tbody tr th:only-of-type {\n",
       "        vertical-align: middle;\n",
       "    }\n",
       "\n",
       "    .dataframe tbody tr th {\n",
       "        vertical-align: top;\n",
       "    }\n",
       "\n",
       "    .dataframe thead th {\n",
       "        text-align: right;\n",
       "    }\n",
       "</style>\n",
       "<table border=\"1\" class=\"dataframe\">\n",
       "  <thead>\n",
       "    <tr style=\"text-align: right;\">\n",
       "      <th></th>\n",
       "      <th>beatId</th>\n",
       "      <th>genres</th>\n",
       "      <th>moods</th>\n",
       "      <th>nbKeaks</th>\n",
       "      <th>nbLikes</th>\n",
       "      <th>beatmakerId</th>\n",
       "      <th>duration</th>\n",
       "      <th>bpm</th>\n",
       "      <th>createdAt</th>\n",
       "      <th>updatedAt</th>\n",
       "      <th>link</th>\n",
       "      <th>licenceType</th>\n",
       "    </tr>\n",
       "  </thead>\n",
       "  <tbody>\n",
       "    <tr>\n",
       "      <th>0</th>\n",
       "      <td>17301813628927249101</td>\n",
       "      <td>[{'id': '9920897543', 'name': 'Trap'}]</td>\n",
       "      <td>[{'id': '17301813622132424287', 'name': 'Dark'...</td>\n",
       "      <td>7</td>\n",
       "      <td>4</td>\n",
       "      <td>17301813625134492069</td>\n",
       "      <td>121.0</td>\n",
       "      <td>102.0</td>\n",
       "      <td>2021-09-20T18:16:47.1420645Z</td>\n",
       "      <td>2021-09-20T18:17:00.2684235Z</td>\n",
       "      <td>https://keakr.com/fr/beat/turquoiz</td>\n",
       "      <td>[free]</td>\n",
       "    </tr>\n",
       "    <tr>\n",
       "      <th>1</th>\n",
       "      <td>17301813627622625982</td>\n",
       "      <td>[{'id': '9920897543', 'name': 'Trap'}]</td>\n",
       "      <td>[]</td>\n",
       "      <td>1</td>\n",
       "      <td>5</td>\n",
       "      <td>17301813627622569830</td>\n",
       "      <td>163.0</td>\n",
       "      <td>125.0</td>\n",
       "      <td>2021-03-31T15:20:10.726762Z</td>\n",
       "      <td>2021-03-31T15:20:26.5760601Z</td>\n",
       "      <td>https://keakr.com/fr/beat/moula-i</td>\n",
       "      <td>[free]</td>\n",
       "    </tr>\n",
       "  </tbody>\n",
       "</table>\n",
       "</div>"
      ],
      "text/plain": [
       "                 beatId                                  genres  \\\n",
       "0  17301813628927249101  [{'id': '9920897543', 'name': 'Trap'}]   \n",
       "1  17301813627622625982  [{'id': '9920897543', 'name': 'Trap'}]   \n",
       "\n",
       "                                               moods  nbKeaks  nbLikes  \\\n",
       "0  [{'id': '17301813622132424287', 'name': 'Dark'...        7        4   \n",
       "1                                                 []        1        5   \n",
       "\n",
       "            beatmakerId  duration    bpm                     createdAt  \\\n",
       "0  17301813625134492069     121.0  102.0  2021-09-20T18:16:47.1420645Z   \n",
       "1  17301813627622569830     163.0  125.0   2021-03-31T15:20:10.726762Z   \n",
       "\n",
       "                      updatedAt                                link  \\\n",
       "0  2021-09-20T18:17:00.2684235Z  https://keakr.com/fr/beat/turquoiz   \n",
       "1  2021-03-31T15:20:26.5760601Z   https://keakr.com/fr/beat/moula-i   \n",
       "\n",
       "  licenceType  \n",
       "0      [free]  \n",
       "1      [free]  "
      ]
     },
     "execution_count": 14,
     "metadata": {},
     "output_type": "execute_result"
    }
   ],
   "source": [
    "df_beats.head(2)"
   ]
  },
  {
   "cell_type": "code",
   "execution_count": 15,
   "id": "0ceb33c6",
   "metadata": {},
   "outputs": [
    {
     "name": "stdout",
     "output_type": "stream",
     "text": [
      "<class 'pandas.core.frame.DataFrame'>\n",
      "RangeIndex: 59761 entries, 0 to 59760\n",
      "Data columns (total 12 columns):\n",
      " #   Column       Non-Null Count  Dtype  \n",
      "---  ------       --------------  -----  \n",
      " 0   beatId       59761 non-null  object \n",
      " 1   genres       59761 non-null  object \n",
      " 2   moods        59761 non-null  object \n",
      " 3   nbKeaks      59761 non-null  int64  \n",
      " 4   nbLikes      59761 non-null  int64  \n",
      " 5   beatmakerId  59761 non-null  object \n",
      " 6   duration     59750 non-null  float64\n",
      " 7   bpm          59741 non-null  float64\n",
      " 8   createdAt    59761 non-null  object \n",
      " 9   updatedAt    59761 non-null  object \n",
      " 10  link         59761 non-null  object \n",
      " 11  licenceType  59761 non-null  object \n",
      "dtypes: float64(2), int64(2), object(8)\n",
      "memory usage: 5.5+ MB\n"
     ]
    }
   ],
   "source": [
    "df_beats.info()"
   ]
  },
  {
   "cell_type": "code",
   "execution_count": 16,
   "id": "833c098f",
   "metadata": {},
   "outputs": [
    {
     "data": {
      "text/html": [
       "<div>\n",
       "<style scoped>\n",
       "    .dataframe tbody tr th:only-of-type {\n",
       "        vertical-align: middle;\n",
       "    }\n",
       "\n",
       "    .dataframe tbody tr th {\n",
       "        vertical-align: top;\n",
       "    }\n",
       "\n",
       "    .dataframe thead th {\n",
       "        text-align: right;\n",
       "    }\n",
       "</style>\n",
       "<table border=\"1\" class=\"dataframe\">\n",
       "  <thead>\n",
       "    <tr style=\"text-align: right;\">\n",
       "      <th></th>\n",
       "      <th>userId</th>\n",
       "      <th>createdAt</th>\n",
       "      <th>lastConnection</th>\n",
       "      <th>usedGenres</th>\n",
       "      <th>listenedGenres</th>\n",
       "      <th>battleCreatedCount</th>\n",
       "      <th>battleLostCount</th>\n",
       "      <th>battleRespondedCount</th>\n",
       "      <th>battleWonCount</th>\n",
       "      <th>friendCount</th>\n",
       "      <th>...</th>\n",
       "      <th>mutualFollowCount</th>\n",
       "      <th>overallBeatUsage</th>\n",
       "      <th>PlaylistCount</th>\n",
       "      <th>prizeMoneyParticipationCount</th>\n",
       "      <th>prizeMoneyWinner</th>\n",
       "      <th>sessionCount</th>\n",
       "      <th>shareCount</th>\n",
       "      <th>viewCount</th>\n",
       "      <th>isBeatmaker</th>\n",
       "      <th>isSinger</th>\n",
       "    </tr>\n",
       "  </thead>\n",
       "  <tbody>\n",
       "    <tr>\n",
       "      <th>0</th>\n",
       "      <td>12354401148</td>\n",
       "      <td>2019-03-02T10:23:33.0903001Z</td>\n",
       "      <td>2019-03-02T10:23:44.3283191Z</td>\n",
       "      <td>[]</td>\n",
       "      <td>[]</td>\n",
       "      <td>0</td>\n",
       "      <td>0</td>\n",
       "      <td>0</td>\n",
       "      <td>0</td>\n",
       "      <td>0</td>\n",
       "      <td>...</td>\n",
       "      <td>0.0</td>\n",
       "      <td>0.0</td>\n",
       "      <td>NaN</td>\n",
       "      <td>0</td>\n",
       "      <td>False</td>\n",
       "      <td>2.0</td>\n",
       "      <td>NaN</td>\n",
       "      <td>0</td>\n",
       "      <td>False</td>\n",
       "      <td>False</td>\n",
       "    </tr>\n",
       "    <tr>\n",
       "      <th>1</th>\n",
       "      <td>12354411487</td>\n",
       "      <td>2019-03-02T10:26:23.9016307Z</td>\n",
       "      <td>2020-09-24T06:16:46.8631984Z</td>\n",
       "      <td>[]</td>\n",
       "      <td>[]</td>\n",
       "      <td>0</td>\n",
       "      <td>0</td>\n",
       "      <td>0</td>\n",
       "      <td>0</td>\n",
       "      <td>0</td>\n",
       "      <td>...</td>\n",
       "      <td>NaN</td>\n",
       "      <td>0.0</td>\n",
       "      <td>NaN</td>\n",
       "      <td>0</td>\n",
       "      <td>False</td>\n",
       "      <td>8.0</td>\n",
       "      <td>NaN</td>\n",
       "      <td>0</td>\n",
       "      <td>False</td>\n",
       "      <td>False</td>\n",
       "    </tr>\n",
       "  </tbody>\n",
       "</table>\n",
       "<p>2 rows × 25 columns</p>\n",
       "</div>"
      ],
      "text/plain": [
       "        userId                     createdAt                lastConnection  \\\n",
       "0  12354401148  2019-03-02T10:23:33.0903001Z  2019-03-02T10:23:44.3283191Z   \n",
       "1  12354411487  2019-03-02T10:26:23.9016307Z  2020-09-24T06:16:46.8631984Z   \n",
       "\n",
       "  usedGenres listenedGenres  battleCreatedCount  battleLostCount  \\\n",
       "0         []             []                   0                0   \n",
       "1         []             []                   0                0   \n",
       "\n",
       "   battleRespondedCount  battleWonCount  friendCount  ...  mutualFollowCount  \\\n",
       "0                     0               0            0  ...                0.0   \n",
       "1                     0               0            0  ...                NaN   \n",
       "\n",
       "   overallBeatUsage PlaylistCount  prizeMoneyParticipationCount  \\\n",
       "0               0.0           NaN                             0   \n",
       "1               0.0           NaN                             0   \n",
       "\n",
       "   prizeMoneyWinner  sessionCount  shareCount  viewCount  isBeatmaker  \\\n",
       "0             False           2.0         NaN          0        False   \n",
       "1             False           8.0         NaN          0        False   \n",
       "\n",
       "   isSinger  \n",
       "0     False  \n",
       "1     False  \n",
       "\n",
       "[2 rows x 25 columns]"
      ]
     },
     "execution_count": 16,
     "metadata": {},
     "output_type": "execute_result"
    }
   ],
   "source": [
    "df_users.head(2)"
   ]
  },
  {
   "cell_type": "code",
   "execution_count": 17,
   "id": "84259412",
   "metadata": {},
   "outputs": [
    {
     "name": "stdout",
     "output_type": "stream",
     "text": [
      "<class 'pandas.core.frame.DataFrame'>\n",
      "RangeIndex: 1162572 entries, 0 to 1162571\n",
      "Data columns (total 25 columns):\n",
      " #   Column                        Non-Null Count    Dtype  \n",
      "---  ------                        --------------    -----  \n",
      " 0   userId                        1162572 non-null  object \n",
      " 1   createdAt                     1162572 non-null  object \n",
      " 2   lastConnection                1143361 non-null  object \n",
      " 3   usedGenres                    467942 non-null   object \n",
      " 4   listenedGenres                1162572 non-null  object \n",
      " 5   battleCreatedCount            1162572 non-null  int64  \n",
      " 6   battleLostCount               1162572 non-null  int64  \n",
      " 7   battleRespondedCount          1162572 non-null  int64  \n",
      " 8   battleWonCount                1162572 non-null  int64  \n",
      " 9   friendCount                   1162572 non-null  int64  \n",
      " 10  keakCount                     1162572 non-null  int64  \n",
      " 11  keakrCoinGiven                1061 non-null     float64\n",
      " 12  keakCoinReceived              0 non-null        object \n",
      " 13  likeCount                     1162572 non-null  int64  \n",
      " 14  likeGivenCount                1159084 non-null  float64\n",
      " 15  mutualFollowCount             601842 non-null   float64\n",
      " 16  overallBeatUsage              837691 non-null   float64\n",
      " 17  PlaylistCount                 346591 non-null   float64\n",
      " 18  prizeMoneyParticipationCount  1162572 non-null  int64  \n",
      " 19  prizeMoneyWinner              1162572 non-null  bool   \n",
      " 20  sessionCount                  1158520 non-null  float64\n",
      " 21  shareCount                    29249 non-null    float64\n",
      " 22  viewCount                     1162572 non-null  int64  \n",
      " 23  isBeatmaker                   1162572 non-null  bool   \n",
      " 24  isSinger                      1162572 non-null  bool   \n",
      "dtypes: bool(3), float64(7), int64(9), object(6)\n",
      "memory usage: 198.5+ MB\n"
     ]
    }
   ],
   "source": [
    "df_users.info()"
   ]
  },
  {
   "cell_type": "code",
   "execution_count": 17,
   "id": "704f1122",
   "metadata": {},
   "outputs": [
    {
     "data": {
      "text/plain": [
       "['userId',\n",
       " 'createdAt',\n",
       " 'lastConnection',\n",
       " 'usedGenres',\n",
       " 'listenedGenres',\n",
       " 'battleCreatedCount',\n",
       " 'battleLostCount',\n",
       " 'battleRespondedCount',\n",
       " 'battleWonCount',\n",
       " 'friendCount',\n",
       " 'keakCount',\n",
       " 'keakrCoinGiven',\n",
       " 'keakCoinReceived',\n",
       " 'likeCount',\n",
       " 'likeGivenCount',\n",
       " 'mutualFollowCount',\n",
       " 'overallBeatUsage',\n",
       " 'PlaylistCount',\n",
       " 'prizeMoneyParticipationCount',\n",
       " 'prizeMoneyWinner',\n",
       " 'sessionCount',\n",
       " 'shareCount',\n",
       " 'viewCount',\n",
       " 'isBeatmaker',\n",
       " 'isSinger']"
      ]
     },
     "execution_count": 17,
     "metadata": {},
     "output_type": "execute_result"
    }
   ],
   "source": [
    "list(df_users.columns)"
   ]
  },
  {
   "cell_type": "code",
   "execution_count": 7,
   "id": "0e6671a8",
   "metadata": {},
   "outputs": [
    {
     "name": "stdout",
     "output_type": "stream",
     "text": [
      "Collecting package metadata (current_repodata.json): done\n",
      "Solving environment: done\n",
      "\n",
      "\n",
      "==> WARNING: A newer version of conda exists. <==\n",
      "  current version: 4.10.3\n",
      "  latest version: 4.12.0\n",
      "\n",
      "Please update conda by running\n",
      "\n",
      "    $ conda update -n base -c defaults conda\n",
      "\n",
      "\n",
      "\n",
      "## Package Plan ##\n",
      "\n",
      "  environment location: /lab\n",
      "\n",
      "  added / updated specs:\n",
      "    - scikit-surprise\n",
      "\n",
      "\n",
      "The following packages will be downloaded:\n",
      "\n",
      "    package                    |            build\n",
      "    ---------------------------|-----------------\n",
      "    ca-certificates-2021.10.8  |       ha878542_0         139 KB  conda-forge\n",
      "    certifi-2021.10.8          |   py38h578d9bd_1         145 KB  conda-forge\n",
      "    conda-4.12.0               |   py38h578d9bd_0         1.0 MB  conda-forge\n",
      "    joblib-1.1.0               |     pyhd8ed1ab_0         210 KB  conda-forge\n",
      "    libblas-3.9.0              |11_linux64_openblas          12 KB  conda-forge\n",
      "    libcblas-3.9.0             |11_linux64_openblas          11 KB  conda-forge\n",
      "    libgfortran-ng-11.2.0      |      h69a702a_14          20 KB  conda-forge\n",
      "    libgfortran5-11.2.0        |      h5c6108e_14         1.7 MB  conda-forge\n",
      "    liblapack-3.9.0            |11_linux64_openblas          11 KB  conda-forge\n",
      "    libopenblas-0.3.17         |pthreads_h8fe5266_1         9.2 MB  conda-forge\n",
      "    numpy-1.20.3               |   py38h9894fe3_1         5.8 MB  conda-forge\n",
      "    openssl-1.1.1n             |       h7f8727e_0         2.5 MB\n",
      "    python_abi-3.8             |           2_cp38           4 KB  conda-forge\n",
      "    scikit-surprise-1.1.1      |   py38hab2c0dc_1         626 KB  conda-forge\n",
      "    ------------------------------------------------------------\n",
      "                                           Total:        21.4 MB\n",
      "\n",
      "The following NEW packages will be INSTALLED:\n",
      "\n",
      "  joblib             conda-forge/noarch::joblib-1.1.0-pyhd8ed1ab_0\n",
      "  libblas            conda-forge/linux-64::libblas-3.9.0-11_linux64_openblas\n",
      "  libcblas           conda-forge/linux-64::libcblas-3.9.0-11_linux64_openblas\n",
      "  libgfortran-ng     conda-forge/linux-64::libgfortran-ng-11.2.0-h69a702a_14\n",
      "  libgfortran5       conda-forge/linux-64::libgfortran5-11.2.0-h5c6108e_14\n",
      "  liblapack          conda-forge/linux-64::liblapack-3.9.0-11_linux64_openblas\n",
      "  libopenblas        conda-forge/linux-64::libopenblas-0.3.17-pthreads_h8fe5266_1\n",
      "  numpy              conda-forge/linux-64::numpy-1.20.3-py38h9894fe3_1\n",
      "  python_abi         conda-forge/linux-64::python_abi-3.8-2_cp38\n",
      "  scikit-surprise    conda-forge/linux-64::scikit-surprise-1.1.1-py38hab2c0dc_1\n",
      "\n",
      "The following packages will be UPDATED:\n",
      "\n",
      "  ca-certificates    pkgs/main::ca-certificates-2021.7.5-h~ --> conda-forge::ca-certificates-2021.10.8-ha878542_0\n",
      "  certifi            pkgs/main::certifi-2021.5.30-py38h06a~ --> conda-forge::certifi-2021.10.8-py38h578d9bd_1\n",
      "  conda              pkgs/main::conda-4.10.3-py38h06a4308_0 --> conda-forge::conda-4.12.0-py38h578d9bd_0\n",
      "  openssl                                 1.1.1k-h27cfd23_0 --> 1.1.1n-h7f8727e_0\n",
      "\n",
      "\n",
      "\n",
      "Downloading and Extracting Packages\n",
      "libcblas-3.9.0       | 11 KB     | ##################################### | 100% \n",
      "certifi-2021.10.8    | 145 KB    | ##################################### | 100% \n",
      "ca-certificates-2021 | 139 KB    | ##################################### | 100% \n",
      "libopenblas-0.3.17   | 9.2 MB    | ##################################### | 100% \n",
      "openssl-1.1.1n       | 2.5 MB    | ##################################### | 100% \n",
      "libgfortran5-11.2.0  | 1.7 MB    | ##################################### | 100% \n",
      "liblapack-3.9.0      | 11 KB     | ##################################### | 100% \n",
      "libgfortran-ng-11.2. | 20 KB     | ##################################### | 100% \n",
      "python_abi-3.8       | 4 KB      | ##################################### | 100% \n",
      "joblib-1.1.0         | 210 KB    | ##################################### | 100% \n",
      "conda-4.12.0         | 1.0 MB    | ##################################### | 100% \n",
      "libblas-3.9.0        | 12 KB     | ##################################### | 100% \n",
      "scikit-surprise-1.1. | 626 KB    | ##################################### | 100% \n",
      "numpy-1.20.3         | 5.8 MB    | ##################################### | 100% \n",
      "Preparing transaction: done\n",
      "Verifying transaction: failed\n",
      "\n",
      "EnvironmentNotWritableError: The current user does not have write permissions to the target environment.\n",
      "  environment location: /lab\n",
      "  uid: 42420\n",
      "  gid: 42420\n",
      "\n",
      "\n",
      "\n",
      "Note: you may need to restart the kernel to use updated packages.\n"
     ]
    }
   ],
   "source": [
    " conda install -c conda-forge scikit-surprise"
   ]
  }
 ],
 "metadata": {
  "kernelspec": {
   "display_name": "Python 3 (ipykernel)",
   "language": "python",
   "name": "python3"
  },
  "language_info": {
   "codemirror_mode": {
    "name": "ipython",
    "version": 3
   },
   "file_extension": ".py",
   "mimetype": "text/x-python",
   "name": "python",
   "nbconvert_exporter": "python",
   "pygments_lexer": "ipython3",
   "version": "3.8.10"
  }
 },
 "nbformat": 4,
 "nbformat_minor": 5
}
