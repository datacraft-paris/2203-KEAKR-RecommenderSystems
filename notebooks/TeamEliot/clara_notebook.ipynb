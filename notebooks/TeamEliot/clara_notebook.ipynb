{
 "cells": [
  {
   "cell_type": "code",
   "execution_count": 15,
   "id": "ea149e24",
   "metadata": {},
   "outputs": [
    {
     "ename": "ModuleNotFoundError",
     "evalue": "No module named 'matplotlib'",
     "output_type": "error",
     "traceback": [
      "\u001b[0;31m---------------------------------------------------------------------------\u001b[0m",
      "\u001b[0;31mModuleNotFoundError\u001b[0m                       Traceback (most recent call last)",
      "Input \u001b[0;32mIn [15]\u001b[0m, in \u001b[0;36m<module>\u001b[0;34m\u001b[0m\n\u001b[1;32m      3\u001b[0m \u001b[38;5;28;01mimport\u001b[39;00m \u001b[38;5;21;01mpandas\u001b[39;00m \u001b[38;5;28;01mas\u001b[39;00m \u001b[38;5;21;01mpd\u001b[39;00m\n\u001b[1;32m      4\u001b[0m \u001b[38;5;28;01mimport\u001b[39;00m \u001b[38;5;21;01mtime\u001b[39;00m\n\u001b[0;32m----> 5\u001b[0m \u001b[38;5;28;01mimport\u001b[39;00m \u001b[38;5;21;01mmatplotlib\u001b[39;00m\u001b[38;5;21;01m.\u001b[39;00m\u001b[38;5;21;01mpyplot\u001b[39;00m \u001b[38;5;28;01mas\u001b[39;00m \u001b[38;5;21;01mplt\u001b[39;00m\n",
      "\u001b[0;31mModuleNotFoundError\u001b[0m: No module named 'matplotlib'"
     ]
    }
   ],
   "source": [
    "import json\n",
    "import numpy as np\n",
    "import pandas as pd\n",
    "import time\n",
    "# import matplotlib.pyplot as plt"
   ]
  },
  {
   "cell_type": "code",
   "execution_count": 3,
   "id": "bdf06f57",
   "metadata": {},
   "outputs": [],
   "source": [
    "def from_jsonl_to_df(path):\n",
    "    t_start = time.time()\n",
    "    with open(path, 'r') as json_file:\n",
    "        json_list = list(json_file)\n",
    "    json_list = [json.loads(json_str) for json_str in json_list]\n",
    "    df = pd.DataFrame.from_dict(json_list, orient='columns')\n",
    "    \n",
    "    print(\"DataFrame of {}\".format(len(df))+\" rows loaded in {:.2f} sec\".format(time.time()-t_start))\n",
    "    return df\n",
    "\n",
    "def from_csv_to_df(path):\n",
    "    t_start=time.time()\n",
    "    if \"followers\" in path:\n",
    "        df=pd.read_csv(path, names=[\"follower\", \"person followed\", \"timestamp\"], header=None)\n",
    "    else:\n",
    "        df=pd.read_csv(path)\n",
    "    print(\"DataFrame of {}\".format(len(df))+\" rows loaded in {:.2f} sec\".format(time.time()-t_start))\n",
    "    return df"
   ]
  },
  {
   "cell_type": "code",
   "execution_count": 4,
   "id": "c502b714",
   "metadata": {},
   "outputs": [
    {
     "name": "stdout",
     "output_type": "stream",
     "text": [
      "DataFrame of 274472 rows loaded in 5.06 sec\n"
     ]
    }
   ],
   "source": [
    "df_keaks = from_jsonl_to_df(\"data/full/keaks.jsonl\")"
   ]
  },
  {
   "cell_type": "code",
   "execution_count": 5,
   "id": "8cf99c0c",
   "metadata": {},
   "outputs": [
    {
     "name": "stdout",
     "output_type": "stream",
     "text": [
      "DataFrame of 59761 rows loaded in 1.24 sec\n"
     ]
    }
   ],
   "source": [
    "df_beats =from_jsonl_to_df(\"data/full/beats.jsonl\")"
   ]
  },
  {
   "cell_type": "code",
   "execution_count": 6,
   "id": "c9afd80b",
   "metadata": {},
   "outputs": [
    {
     "name": "stdout",
     "output_type": "stream",
     "text": [
      "DataFrame of 1162572 rows loaded in 31.73 sec\n"
     ]
    }
   ],
   "source": [
    "df_users =from_jsonl_to_df(\"data/full/users.jsonl\")"
   ]
  },
  {
   "cell_type": "code",
   "execution_count": 7,
   "id": "218b7854",
   "metadata": {},
   "outputs": [
    {
     "name": "stdout",
     "output_type": "stream",
     "text": [
      "DataFrame of 10506442 rows loaded in 12.01 sec\n"
     ]
    }
   ],
   "source": [
    "df_followers = from_csv_to_df(\"data/full/followers.csv\")"
   ]
  },
  {
   "cell_type": "code",
   "execution_count": 8,
   "id": "162debf5",
   "metadata": {},
   "outputs": [
    {
     "name": "stdout",
     "output_type": "stream",
     "text": [
      "DataFrame of 28952275 rows loaded in 40.72 sec\n"
     ]
    }
   ],
   "source": [
    "df_audiences = from_csv_to_df(\"data/full/audiences.csv\")"
   ]
  },
  {
   "cell_type": "code",
   "execution_count": 9,
   "id": "401e50ff",
   "metadata": {},
   "outputs": [
    {
     "data": {
      "text/html": [
       "<div>\n",
       "<style scoped>\n",
       "    .dataframe tbody tr th:only-of-type {\n",
       "        vertical-align: middle;\n",
       "    }\n",
       "\n",
       "    .dataframe tbody tr th {\n",
       "        vertical-align: top;\n",
       "    }\n",
       "\n",
       "    .dataframe thead th {\n",
       "        text-align: right;\n",
       "    }\n",
       "</style>\n",
       "<table border=\"1\" class=\"dataframe\">\n",
       "  <thead>\n",
       "    <tr style=\"text-align: right;\">\n",
       "      <th></th>\n",
       "      <th>keakId</th>\n",
       "      <th>createdAt</th>\n",
       "      <th>likeCount</th>\n",
       "      <th>commentCount</th>\n",
       "      <th>viewCount</th>\n",
       "      <th>averageViewProgress</th>\n",
       "      <th>duration</th>\n",
       "      <th>hashtags</th>\n",
       "      <th>contentType</th>\n",
       "      <th>hasSmallThumbnail</th>\n",
       "      <th>link</th>\n",
       "      <th>beatId</th>\n",
       "      <th>beatGenres</th>\n",
       "    </tr>\n",
       "  </thead>\n",
       "  <tbody>\n",
       "    <tr>\n",
       "      <th>0</th>\n",
       "      <td>17301813623064450175</td>\n",
       "      <td>2019-10-10T21:20:59.2970322Z</td>\n",
       "      <td>4</td>\n",
       "      <td>2</td>\n",
       "      <td>42</td>\n",
       "      <td>7.80</td>\n",
       "      <td>107.0</td>\n",
       "      <td>[91, 1, Rap, Pen, freestyle2019, Trap2K19]</td>\n",
       "      <td>freestyle</td>\n",
       "      <td>True</td>\n",
       "      <td>https://www.keakr.com/fr/keak/mon-mec-rap-1</td>\n",
       "      <td>17301813622843862243</td>\n",
       "      <td>[{'id': '9920897543', 'name': 'Trap'}]</td>\n",
       "    </tr>\n",
       "    <tr>\n",
       "      <th>1</th>\n",
       "      <td>6202649352</td>\n",
       "      <td>2018-04-02T15:06:34.9851924Z</td>\n",
       "      <td>2</td>\n",
       "      <td>2</td>\n",
       "      <td>53</td>\n",
       "      <td>0.00</td>\n",
       "      <td>68.0</td>\n",
       "      <td>[]</td>\n",
       "      <td>freestyle</td>\n",
       "      <td>True</td>\n",
       "      <td>https://www.keakr.com/fr/keak/petit-salaire</td>\n",
       "      <td>None</td>\n",
       "      <td>None</td>\n",
       "    </tr>\n",
       "  </tbody>\n",
       "</table>\n",
       "</div>"
      ],
      "text/plain": [
       "                 keakId                     createdAt  likeCount  \\\n",
       "0  17301813623064450175  2019-10-10T21:20:59.2970322Z          4   \n",
       "1            6202649352  2018-04-02T15:06:34.9851924Z          2   \n",
       "\n",
       "   commentCount  viewCount averageViewProgress  duration  \\\n",
       "0             2         42                7.80     107.0   \n",
       "1             2         53                0.00      68.0   \n",
       "\n",
       "                                     hashtags contentType hasSmallThumbnail  \\\n",
       "0  [91, 1, Rap, Pen, freestyle2019, Trap2K19]   freestyle              True   \n",
       "1                                          []   freestyle              True   \n",
       "\n",
       "                                          link                beatId  \\\n",
       "0  https://www.keakr.com/fr/keak/mon-mec-rap-1  17301813622843862243   \n",
       "1  https://www.keakr.com/fr/keak/petit-salaire                  None   \n",
       "\n",
       "                               beatGenres  \n",
       "0  [{'id': '9920897543', 'name': 'Trap'}]  \n",
       "1                                    None  "
      ]
     },
     "execution_count": 9,
     "metadata": {},
     "output_type": "execute_result"
    }
   ],
   "source": [
    "df_keaks.head(2)"
   ]
  },
  {
   "cell_type": "code",
   "execution_count": 11,
   "id": "06cab7b0",
   "metadata": {},
   "outputs": [
    {
     "data": {
      "text/plain": [
       "0      1206\n",
       "12      197\n",
       "17      188\n",
       "20      185\n",
       "16      180\n",
       "       ... \n",
       "544       1\n",
       "492       1\n",
       "227       1\n",
       "856       1\n",
       "414       1\n",
       "Name: viewCount, Length: 567, dtype: int64"
      ]
     },
     "execution_count": 11,
     "metadata": {},
     "output_type": "execute_result"
    }
   ],
   "source": [
    "df_keaks['viewCount'][:10000].value_counts(dropna=False, orderby=)"
   ]
  },
  {
   "cell_type": "code",
   "execution_count": null,
   "id": "14d17911",
   "metadata": {},
   "outputs": [],
   "source": []
  },
  {
   "cell_type": "code",
   "execution_count": 28,
   "id": "428c6ba3",
   "metadata": {},
   "outputs": [
    {
     "data": {
      "text/html": [
       "<div>\n",
       "<style scoped>\n",
       "    .dataframe tbody tr th:only-of-type {\n",
       "        vertical-align: middle;\n",
       "    }\n",
       "\n",
       "    .dataframe tbody tr th {\n",
       "        vertical-align: top;\n",
       "    }\n",
       "\n",
       "    .dataframe thead th {\n",
       "        text-align: right;\n",
       "    }\n",
       "</style>\n",
       "<table border=\"1\" class=\"dataframe\">\n",
       "  <thead>\n",
       "    <tr style=\"text-align: right;\">\n",
       "      <th></th>\n",
       "      <th>keakId</th>\n",
       "      <th>createdAt</th>\n",
       "      <th>likeCount</th>\n",
       "      <th>commentCount</th>\n",
       "      <th>viewCount</th>\n",
       "      <th>averageViewProgress</th>\n",
       "      <th>duration</th>\n",
       "      <th>hashtags</th>\n",
       "      <th>contentType</th>\n",
       "      <th>hasSmallThumbnail</th>\n",
       "      <th>link</th>\n",
       "      <th>beatId</th>\n",
       "      <th>beatGenres</th>\n",
       "    </tr>\n",
       "  </thead>\n",
       "  <tbody>\n",
       "    <tr>\n",
       "      <th>94</th>\n",
       "      <td>5428803277</td>\n",
       "      <td>2017-11-10T17:00:48.0964423Z</td>\n",
       "      <td>19</td>\n",
       "      <td>5</td>\n",
       "      <td>2024</td>\n",
       "      <td>0.06</td>\n",
       "      <td>130.0</td>\n",
       "      <td>[ElSaguaro, lasuitearrive, 2018]</td>\n",
       "      <td>None</td>\n",
       "      <td>True</td>\n",
       "      <td>https://www.keakr.com/fr/keak/roumzi-mise-en-</td>\n",
       "      <td>79562287</td>\n",
       "      <td>[{'id': '9920897519', 'name': 'Boom bap'}]</td>\n",
       "    </tr>\n",
       "    <tr>\n",
       "      <th>159</th>\n",
       "      <td>11106004705</td>\n",
       "      <td>2018-11-15T15:22:06.6262046Z</td>\n",
       "      <td>2</td>\n",
       "      <td>1</td>\n",
       "      <td>445</td>\n",
       "      <td>0.00</td>\n",
       "      <td>205.0</td>\n",
       "      <td>[]</td>\n",
       "      <td>freestyle</td>\n",
       "      <td>True</td>\n",
       "      <td>https://www.keakr.com/fr/keak/babylone-arme</td>\n",
       "      <td>None</td>\n",
       "      <td>None</td>\n",
       "    </tr>\n",
       "    <tr>\n",
       "      <th>200</th>\n",
       "      <td>11827860685</td>\n",
       "      <td>2019-01-24T10:11:55.9812162Z</td>\n",
       "      <td>20</td>\n",
       "      <td>18</td>\n",
       "      <td>356</td>\n",
       "      <td>0</td>\n",
       "      <td>88.0</td>\n",
       "      <td>[]</td>\n",
       "      <td>freestyle</td>\n",
       "      <td>True</td>\n",
       "      <td>https://www.keakr.com/fr/keak/avide-d-ambitio</td>\n",
       "      <td>None</td>\n",
       "      <td>None</td>\n",
       "    </tr>\n",
       "    <tr>\n",
       "      <th>217</th>\n",
       "      <td>5744516132</td>\n",
       "      <td>2018-01-28T15:11:21.1988801Z</td>\n",
       "      <td>7</td>\n",
       "      <td>4</td>\n",
       "      <td>434</td>\n",
       "      <td>0.00</td>\n",
       "      <td>84.0</td>\n",
       "      <td>[freestyle]</td>\n",
       "      <td>None</td>\n",
       "      <td>True</td>\n",
       "      <td>https://www.keakr.com/fr/keak/-freestyle-du-d</td>\n",
       "      <td>None</td>\n",
       "      <td>None</td>\n",
       "    </tr>\n",
       "    <tr>\n",
       "      <th>221</th>\n",
       "      <td>6290231358</td>\n",
       "      <td>2018-04-25T20:58:24.1581867Z</td>\n",
       "      <td>5</td>\n",
       "      <td>2</td>\n",
       "      <td>362</td>\n",
       "      <td>0</td>\n",
       "      <td>125.0</td>\n",
       "      <td>[]</td>\n",
       "      <td>freestyle</td>\n",
       "      <td>True</td>\n",
       "      <td>https://www.keakr.com/fr/keak/bacardi</td>\n",
       "      <td>6096270366</td>\n",
       "      <td>[{'id': '9920897543', 'name': 'Trap'}]</td>\n",
       "    </tr>\n",
       "    <tr>\n",
       "      <th>...</th>\n",
       "      <td>...</td>\n",
       "      <td>...</td>\n",
       "      <td>...</td>\n",
       "      <td>...</td>\n",
       "      <td>...</td>\n",
       "      <td>...</td>\n",
       "      <td>...</td>\n",
       "      <td>...</td>\n",
       "      <td>...</td>\n",
       "      <td>...</td>\n",
       "      <td>...</td>\n",
       "      <td>...</td>\n",
       "      <td>...</td>\n",
       "    </tr>\n",
       "    <tr>\n",
       "      <th>274453</th>\n",
       "      <td>17301813628946757093</td>\n",
       "      <td>2021-09-24T05:31:55.3098249Z</td>\n",
       "      <td>82</td>\n",
       "      <td>15</td>\n",
       "      <td>3981</td>\n",
       "      <td>15.43</td>\n",
       "      <td>31.0</td>\n",
       "      <td>[]</td>\n",
       "      <td>importedVideo</td>\n",
       "      <td>True</td>\n",
       "      <td>https://www.keakr.com/fr/keak/inspi-du-jour-c</td>\n",
       "      <td>None</td>\n",
       "      <td>None</td>\n",
       "    </tr>\n",
       "    <tr>\n",
       "      <th>274454</th>\n",
       "      <td>17301813626938593807</td>\n",
       "      <td>2020-12-15T15:53:30.3573302Z</td>\n",
       "      <td>122</td>\n",
       "      <td>9</td>\n",
       "      <td>3197</td>\n",
       "      <td>11.12</td>\n",
       "      <td>109.0</td>\n",
       "      <td>[4]</td>\n",
       "      <td>importedVideo</td>\n",
       "      <td>True</td>\n",
       "      <td>https://www.keakr.com/fr/keak/freestyle-zi2</td>\n",
       "      <td>None</td>\n",
       "      <td>None</td>\n",
       "    </tr>\n",
       "    <tr>\n",
       "      <th>274458</th>\n",
       "      <td>11770037098</td>\n",
       "      <td>2019-01-18T04:24:00.6728086Z</td>\n",
       "      <td>158</td>\n",
       "      <td>32</td>\n",
       "      <td>5115</td>\n",
       "      <td>9.19</td>\n",
       "      <td>197.0</td>\n",
       "      <td>[]</td>\n",
       "      <td>freestyle</td>\n",
       "      <td>True</td>\n",
       "      <td>https://www.keakr.com/fr/keak/mister-lonley</td>\n",
       "      <td>None</td>\n",
       "      <td>None</td>\n",
       "    </tr>\n",
       "    <tr>\n",
       "      <th>274465</th>\n",
       "      <td>17301813629414083058</td>\n",
       "      <td>2021-11-25T17:04:15.8573298Z</td>\n",
       "      <td>72</td>\n",
       "      <td>15</td>\n",
       "      <td>1820</td>\n",
       "      <td>14.82</td>\n",
       "      <td>69.0</td>\n",
       "      <td>[DEBRIEFLOW, 5]</td>\n",
       "      <td>importedVideo</td>\n",
       "      <td>True</td>\n",
       "      <td>https://www.keakr.com/fr/keak/-debrieflow-5-c</td>\n",
       "      <td>None</td>\n",
       "      <td>None</td>\n",
       "    </tr>\n",
       "    <tr>\n",
       "      <th>274466</th>\n",
       "      <td>17301813629259230356</td>\n",
       "      <td>2021-11-03T14:26:14.3422323Z</td>\n",
       "      <td>95</td>\n",
       "      <td>30</td>\n",
       "      <td>2252</td>\n",
       "      <td>15.12</td>\n",
       "      <td>81.0</td>\n",
       "      <td>[listen, boombap, comment, keakr2021, keakr202...</td>\n",
       "      <td>freestyle</td>\n",
       "      <td>True</td>\n",
       "      <td>https://www.keakr.com/fr/keak/xantana-x-polo-</td>\n",
       "      <td>None</td>\n",
       "      <td>None</td>\n",
       "    </tr>\n",
       "  </tbody>\n",
       "</table>\n",
       "<p>25395 rows × 13 columns</p>\n",
       "</div>"
      ],
      "text/plain": [
       "                      keakId                     createdAt  likeCount  \\\n",
       "94                5428803277  2017-11-10T17:00:48.0964423Z         19   \n",
       "159              11106004705  2018-11-15T15:22:06.6262046Z          2   \n",
       "200              11827860685  2019-01-24T10:11:55.9812162Z         20   \n",
       "217               5744516132  2018-01-28T15:11:21.1988801Z          7   \n",
       "221               6290231358  2018-04-25T20:58:24.1581867Z          5   \n",
       "...                      ...                           ...        ...   \n",
       "274453  17301813628946757093  2021-09-24T05:31:55.3098249Z         82   \n",
       "274454  17301813626938593807  2020-12-15T15:53:30.3573302Z        122   \n",
       "274458           11770037098  2019-01-18T04:24:00.6728086Z        158   \n",
       "274465  17301813629414083058  2021-11-25T17:04:15.8573298Z         72   \n",
       "274466  17301813629259230356  2021-11-03T14:26:14.3422323Z         95   \n",
       "\n",
       "        commentCount  viewCount averageViewProgress  duration  \\\n",
       "94                 5       2024                0.06     130.0   \n",
       "159                1        445                0.00     205.0   \n",
       "200               18        356                   0      88.0   \n",
       "217                4        434                0.00      84.0   \n",
       "221                2        362                   0     125.0   \n",
       "...              ...        ...                 ...       ...   \n",
       "274453            15       3981               15.43      31.0   \n",
       "274454             9       3197               11.12     109.0   \n",
       "274458            32       5115                9.19     197.0   \n",
       "274465            15       1820               14.82      69.0   \n",
       "274466            30       2252               15.12      81.0   \n",
       "\n",
       "                                                 hashtags    contentType  \\\n",
       "94                       [ElSaguaro, lasuitearrive, 2018]           None   \n",
       "159                                                    []      freestyle   \n",
       "200                                                    []      freestyle   \n",
       "217                                           [freestyle]           None   \n",
       "221                                                    []      freestyle   \n",
       "...                                                   ...            ...   \n",
       "274453                                                 []  importedVideo   \n",
       "274454                                                [4]  importedVideo   \n",
       "274458                                                 []      freestyle   \n",
       "274465                                    [DEBRIEFLOW, 5]  importedVideo   \n",
       "274466  [listen, boombap, comment, keakr2021, keakr202...      freestyle   \n",
       "\n",
       "       hasSmallThumbnail                                           link  \\\n",
       "94                  True  https://www.keakr.com/fr/keak/roumzi-mise-en-   \n",
       "159                 True    https://www.keakr.com/fr/keak/babylone-arme   \n",
       "200                 True  https://www.keakr.com/fr/keak/avide-d-ambitio   \n",
       "217                 True  https://www.keakr.com/fr/keak/-freestyle-du-d   \n",
       "221                 True          https://www.keakr.com/fr/keak/bacardi   \n",
       "...                  ...                                            ...   \n",
       "274453              True  https://www.keakr.com/fr/keak/inspi-du-jour-c   \n",
       "274454              True    https://www.keakr.com/fr/keak/freestyle-zi2   \n",
       "274458              True    https://www.keakr.com/fr/keak/mister-lonley   \n",
       "274465              True  https://www.keakr.com/fr/keak/-debrieflow-5-c   \n",
       "274466              True  https://www.keakr.com/fr/keak/xantana-x-polo-   \n",
       "\n",
       "            beatId                                  beatGenres  \n",
       "94        79562287  [{'id': '9920897519', 'name': 'Boom bap'}]  \n",
       "159           None                                        None  \n",
       "200           None                                        None  \n",
       "217           None                                        None  \n",
       "221     6096270366      [{'id': '9920897543', 'name': 'Trap'}]  \n",
       "...            ...                                         ...  \n",
       "274453        None                                        None  \n",
       "274454        None                                        None  \n",
       "274458        None                                        None  \n",
       "274465        None                                        None  \n",
       "274466        None                                        None  \n",
       "\n",
       "[25395 rows x 13 columns]"
      ]
     },
     "execution_count": 28,
     "metadata": {},
     "output_type": "execute_result"
    }
   ],
   "source": [
    "df_keaks.loc[df_keaks['viewCount']>300]"
   ]
  },
  {
   "cell_type": "code",
   "execution_count": 30,
   "id": "13b9f14b",
   "metadata": {},
   "outputs": [
    {
     "data": {
      "text/plain": [
       "count    274472.000000\n",
       "mean        224.923165\n",
       "std        3312.329315\n",
       "min           0.000000\n",
       "25%          18.000000\n",
       "50%          36.000000\n",
       "75%          88.000000\n",
       "max      721530.000000\n",
       "Name: viewCount, dtype: float64"
      ]
     },
     "execution_count": 30,
     "metadata": {},
     "output_type": "execute_result"
    }
   ],
   "source": [
    "df_keaks['viewCount'].describe()"
   ]
  },
  {
   "cell_type": "code",
   "execution_count": 31,
   "id": "2817c0ab",
   "metadata": {},
   "outputs": [
    {
     "data": {
      "text/html": [
       "<div>\n",
       "<style scoped>\n",
       "    .dataframe tbody tr th:only-of-type {\n",
       "        vertical-align: middle;\n",
       "    }\n",
       "\n",
       "    .dataframe tbody tr th {\n",
       "        vertical-align: top;\n",
       "    }\n",
       "\n",
       "    .dataframe thead th {\n",
       "        text-align: right;\n",
       "    }\n",
       "</style>\n",
       "<table border=\"1\" class=\"dataframe\">\n",
       "  <thead>\n",
       "    <tr style=\"text-align: right;\">\n",
       "      <th></th>\n",
       "      <th>likeCount</th>\n",
       "      <th>commentCount</th>\n",
       "      <th>viewCount</th>\n",
       "      <th>duration</th>\n",
       "    </tr>\n",
       "  </thead>\n",
       "  <tbody>\n",
       "    <tr>\n",
       "      <th>count</th>\n",
       "      <td>25395.000000</td>\n",
       "      <td>25395.000000</td>\n",
       "      <td>25395.000000</td>\n",
       "      <td>24979.000000</td>\n",
       "    </tr>\n",
       "    <tr>\n",
       "      <th>mean</th>\n",
       "      <td>92.532743</td>\n",
       "      <td>24.439614</td>\n",
       "      <td>1917.585588</td>\n",
       "      <td>118.232235</td>\n",
       "    </tr>\n",
       "    <tr>\n",
       "      <th>std</th>\n",
       "      <td>678.204388</td>\n",
       "      <td>52.191058</td>\n",
       "      <td>10742.270420</td>\n",
       "      <td>83.955861</td>\n",
       "    </tr>\n",
       "    <tr>\n",
       "      <th>min</th>\n",
       "      <td>0.000000</td>\n",
       "      <td>0.000000</td>\n",
       "      <td>301.000000</td>\n",
       "      <td>3.000000</td>\n",
       "    </tr>\n",
       "    <tr>\n",
       "      <th>25%</th>\n",
       "      <td>20.000000</td>\n",
       "      <td>7.000000</td>\n",
       "      <td>413.000000</td>\n",
       "      <td>73.000000</td>\n",
       "    </tr>\n",
       "    <tr>\n",
       "      <th>50%</th>\n",
       "      <td>33.000000</td>\n",
       "      <td>14.000000</td>\n",
       "      <td>616.000000</td>\n",
       "      <td>109.000000</td>\n",
       "    </tr>\n",
       "    <tr>\n",
       "      <th>75%</th>\n",
       "      <td>61.000000</td>\n",
       "      <td>27.000000</td>\n",
       "      <td>1124.000000</td>\n",
       "      <td>155.000000</td>\n",
       "    </tr>\n",
       "    <tr>\n",
       "      <th>max</th>\n",
       "      <td>56230.000000</td>\n",
       "      <td>3018.000000</td>\n",
       "      <td>721530.000000</td>\n",
       "      <td>4382.000000</td>\n",
       "    </tr>\n",
       "  </tbody>\n",
       "</table>\n",
       "</div>"
      ],
      "text/plain": [
       "          likeCount  commentCount      viewCount      duration\n",
       "count  25395.000000  25395.000000   25395.000000  24979.000000\n",
       "mean      92.532743     24.439614    1917.585588    118.232235\n",
       "std      678.204388     52.191058   10742.270420     83.955861\n",
       "min        0.000000      0.000000     301.000000      3.000000\n",
       "25%       20.000000      7.000000     413.000000     73.000000\n",
       "50%       33.000000     14.000000     616.000000    109.000000\n",
       "75%       61.000000     27.000000    1124.000000    155.000000\n",
       "max    56230.000000   3018.000000  721530.000000   4382.000000"
      ]
     },
     "execution_count": 31,
     "metadata": {},
     "output_type": "execute_result"
    }
   ],
   "source": [
    "df_keaks.loc[df_keaks['viewCount']>300].describe()"
   ]
  },
  {
   "cell_type": "code",
   "execution_count": 17,
   "id": "b03b4f38",
   "metadata": {},
   "outputs": [
    {
     "ename": "ImportError",
     "evalue": "matplotlib is required for plotting when the default backend \"matplotlib\" is selected.",
     "output_type": "error",
     "traceback": [
      "\u001b[0;31m---------------------------------------------------------------------------\u001b[0m",
      "\u001b[0;31mImportError\u001b[0m                               Traceback (most recent call last)",
      "Input \u001b[0;32mIn [17]\u001b[0m, in \u001b[0;36m<module>\u001b[0;34m\u001b[0m\n\u001b[0;32m----> 1\u001b[0m \u001b[43mdf_keaks\u001b[49m\u001b[43m[\u001b[49m\u001b[38;5;124;43m'\u001b[39;49m\u001b[38;5;124;43mviewCount\u001b[39;49m\u001b[38;5;124;43m'\u001b[39;49m\u001b[43m]\u001b[49m\u001b[43m[\u001b[49m\u001b[43m:\u001b[49m\u001b[38;5;241;43m100\u001b[39;49m\u001b[43m]\u001b[49m\u001b[38;5;241;43m.\u001b[39;49m\u001b[43mvalue_counts\u001b[49m\u001b[43m(\u001b[49m\u001b[43m)\u001b[49m\u001b[38;5;241;43m.\u001b[39;49m\u001b[43mplot\u001b[49m\u001b[43m(\u001b[49m\u001b[43mkind\u001b[49m\u001b[38;5;241;43m=\u001b[39;49m\u001b[38;5;124;43m'\u001b[39;49m\u001b[38;5;124;43mbar\u001b[39;49m\u001b[38;5;124;43m'\u001b[39;49m\u001b[43m)\u001b[49m\n",
      "File \u001b[0;32m~/.local/lib/python3.8/site-packages/pandas/plotting/_core.py:892\u001b[0m, in \u001b[0;36mPlotAccessor.__call__\u001b[0;34m(self, *args, **kwargs)\u001b[0m\n\u001b[1;32m    891\u001b[0m \u001b[38;5;28;01mdef\u001b[39;00m \u001b[38;5;21m__call__\u001b[39m(\u001b[38;5;28mself\u001b[39m, \u001b[38;5;241m*\u001b[39margs, \u001b[38;5;241m*\u001b[39m\u001b[38;5;241m*\u001b[39mkwargs):\n\u001b[0;32m--> 892\u001b[0m     plot_backend \u001b[38;5;241m=\u001b[39m \u001b[43m_get_plot_backend\u001b[49m\u001b[43m(\u001b[49m\u001b[43mkwargs\u001b[49m\u001b[38;5;241;43m.\u001b[39;49m\u001b[43mpop\u001b[49m\u001b[43m(\u001b[49m\u001b[38;5;124;43m\"\u001b[39;49m\u001b[38;5;124;43mbackend\u001b[39;49m\u001b[38;5;124;43m\"\u001b[39;49m\u001b[43m,\u001b[49m\u001b[43m \u001b[49m\u001b[38;5;28;43;01mNone\u001b[39;49;00m\u001b[43m)\u001b[49m\u001b[43m)\u001b[49m\n\u001b[1;32m    894\u001b[0m     x, y, kind, kwargs \u001b[38;5;241m=\u001b[39m \u001b[38;5;28mself\u001b[39m\u001b[38;5;241m.\u001b[39m_get_call_args(\n\u001b[1;32m    895\u001b[0m         plot_backend\u001b[38;5;241m.\u001b[39m\u001b[38;5;18m__name__\u001b[39m, \u001b[38;5;28mself\u001b[39m\u001b[38;5;241m.\u001b[39m_parent, args, kwargs\n\u001b[1;32m    896\u001b[0m     )\n\u001b[1;32m    898\u001b[0m     kind \u001b[38;5;241m=\u001b[39m \u001b[38;5;28mself\u001b[39m\u001b[38;5;241m.\u001b[39m_kind_aliases\u001b[38;5;241m.\u001b[39mget(kind, kind)\n",
      "File \u001b[0;32m~/.local/lib/python3.8/site-packages/pandas/plotting/_core.py:1849\u001b[0m, in \u001b[0;36m_get_plot_backend\u001b[0;34m(backend)\u001b[0m\n\u001b[1;32m   1846\u001b[0m \u001b[38;5;28;01mif\u001b[39;00m backend \u001b[38;5;129;01min\u001b[39;00m _backends:\n\u001b[1;32m   1847\u001b[0m     \u001b[38;5;28;01mreturn\u001b[39;00m _backends[backend]\n\u001b[0;32m-> 1849\u001b[0m module \u001b[38;5;241m=\u001b[39m \u001b[43m_load_backend\u001b[49m\u001b[43m(\u001b[49m\u001b[43mbackend\u001b[49m\u001b[43m)\u001b[49m\n\u001b[1;32m   1850\u001b[0m _backends[backend] \u001b[38;5;241m=\u001b[39m module\n\u001b[1;32m   1851\u001b[0m \u001b[38;5;28;01mreturn\u001b[39;00m module\n",
      "File \u001b[0;32m~/.local/lib/python3.8/site-packages/pandas/plotting/_core.py:1787\u001b[0m, in \u001b[0;36m_load_backend\u001b[0;34m(backend)\u001b[0m\n\u001b[1;32m   1785\u001b[0m         module \u001b[38;5;241m=\u001b[39m importlib\u001b[38;5;241m.\u001b[39mimport_module(\u001b[38;5;124m\"\u001b[39m\u001b[38;5;124mpandas.plotting._matplotlib\u001b[39m\u001b[38;5;124m\"\u001b[39m)\n\u001b[1;32m   1786\u001b[0m     \u001b[38;5;28;01mexcept\u001b[39;00m \u001b[38;5;167;01mImportError\u001b[39;00m:\n\u001b[0;32m-> 1787\u001b[0m         \u001b[38;5;28;01mraise\u001b[39;00m \u001b[38;5;167;01mImportError\u001b[39;00m(\n\u001b[1;32m   1788\u001b[0m             \u001b[38;5;124m\"\u001b[39m\u001b[38;5;124mmatplotlib is required for plotting when the \u001b[39m\u001b[38;5;124m\"\u001b[39m\n\u001b[1;32m   1789\u001b[0m             \u001b[38;5;124m'\u001b[39m\u001b[38;5;124mdefault backend \u001b[39m\u001b[38;5;124m\"\u001b[39m\u001b[38;5;124mmatplotlib\u001b[39m\u001b[38;5;124m\"\u001b[39m\u001b[38;5;124m is selected.\u001b[39m\u001b[38;5;124m'\u001b[39m\n\u001b[1;32m   1790\u001b[0m         ) \u001b[38;5;28;01mfrom\u001b[39;00m \u001b[38;5;28mNone\u001b[39m\n\u001b[1;32m   1791\u001b[0m     \u001b[38;5;28;01mreturn\u001b[39;00m module\n\u001b[1;32m   1793\u001b[0m found_backend \u001b[38;5;241m=\u001b[39m \u001b[38;5;28;01mFalse\u001b[39;00m\n",
      "\u001b[0;31mImportError\u001b[0m: matplotlib is required for plotting when the default backend \"matplotlib\" is selected."
     ]
    }
   ],
   "source": [
    "df_keaks['viewCount'][:100].value_counts().plot(kind='bar')"
   ]
  },
  {
   "cell_type": "code",
   "execution_count": 12,
   "id": "910cb93f",
   "metadata": {},
   "outputs": [
    {
     "data": {
      "text/html": [
       "<div>\n",
       "<style scoped>\n",
       "    .dataframe tbody tr th:only-of-type {\n",
       "        vertical-align: middle;\n",
       "    }\n",
       "\n",
       "    .dataframe tbody tr th {\n",
       "        vertical-align: top;\n",
       "    }\n",
       "\n",
       "    .dataframe thead th {\n",
       "        text-align: right;\n",
       "    }\n",
       "</style>\n",
       "<table border=\"1\" class=\"dataframe\">\n",
       "  <thead>\n",
       "    <tr style=\"text-align: right;\">\n",
       "      <th></th>\n",
       "      <th>userId</th>\n",
       "      <th>contentId</th>\n",
       "      <th>timestamp</th>\n",
       "      <th>progress</th>\n",
       "      <th>liked</th>\n",
       "      <th>commented</th>\n",
       "      <th>shared</th>\n",
       "    </tr>\n",
       "  </thead>\n",
       "  <tbody>\n",
       "    <tr>\n",
       "      <th>0</th>\n",
       "      <td>users/6512051967</td>\n",
       "      <td>keaks/17301813623657913783</td>\n",
       "      <td>2020-01-01T00:00:00.4081666</td>\n",
       "      <td>0</td>\n",
       "      <td>True</td>\n",
       "      <td>True</td>\n",
       "      <td>True</td>\n",
       "    </tr>\n",
       "    <tr>\n",
       "      <th>1</th>\n",
       "      <td>users/17301813623701852659</td>\n",
       "      <td>keaks/17301813623464753700</td>\n",
       "      <td>2020-01-01T00:00:00.8245932</td>\n",
       "      <td>0</td>\n",
       "      <td>False</td>\n",
       "      <td>False</td>\n",
       "      <td>False</td>\n",
       "    </tr>\n",
       "  </tbody>\n",
       "</table>\n",
       "</div>"
      ],
      "text/plain": [
       "                       userId                   contentId  \\\n",
       "0            users/6512051967  keaks/17301813623657913783   \n",
       "1  users/17301813623701852659  keaks/17301813623464753700   \n",
       "\n",
       "                     timestamp  progress  liked  commented  shared  \n",
       "0  2020-01-01T00:00:00.4081666         0   True       True    True  \n",
       "1  2020-01-01T00:00:00.8245932         0  False      False   False  "
      ]
     },
     "execution_count": 12,
     "metadata": {},
     "output_type": "execute_result"
    }
   ],
   "source": [
    "df_audiences.head(2)"
   ]
  },
  {
   "cell_type": "code",
   "execution_count": 10,
   "id": "a20d0bf7",
   "metadata": {},
   "outputs": [
    {
     "data": {
      "text/plain": [
       "0      26564756\n",
       "100      846431\n",
       "25       824195\n",
       "50       334916\n",
       "75       293588\n",
       "         ...   \n",
       "79          848\n",
       "90          848\n",
       "94          845\n",
       "6           845\n",
       "8           834\n",
       "Name: progress, Length: 101, dtype: int64"
      ]
     },
     "execution_count": 10,
     "metadata": {},
     "output_type": "execute_result"
    }
   ],
   "source": [
    "df_audiences['progress'].value_counts(dropna=False)"
   ]
  },
  {
   "cell_type": "code",
   "execution_count": 21,
   "id": "25cabf1b",
   "metadata": {},
   "outputs": [
    {
     "data": {
      "text/plain": [
       "False    79.519713\n",
       "True     20.480287\n",
       "Name: liked, dtype: float64"
      ]
     },
     "execution_count": 21,
     "metadata": {},
     "output_type": "execute_result"
    }
   ],
   "source": [
    "df_audiences['liked'].value_counts(dropna=False)/len(df_audiences)*100"
   ]
  },
  {
   "cell_type": "code",
   "execution_count": 13,
   "id": "083e797e",
   "metadata": {},
   "outputs": [
    {
     "data": {
      "text/plain": [
       "True     3288175\n",
       "False    1816951\n",
       "Name: liked, dtype: int64"
      ]
     },
     "execution_count": 13,
     "metadata": {},
     "output_type": "execute_result"
    }
   ],
   "source": [
    "df_audiences['liked'].loc[df_audiences['shared']==True].value_counts(dropna=False)"
   ]
  },
  {
   "cell_type": "code",
   "execution_count": 17,
   "id": "e8da7def",
   "metadata": {},
   "outputs": [
    {
     "data": {
      "text/plain": [
       "35.59071803516701"
      ]
     },
     "execution_count": 17,
     "metadata": {},
     "output_type": "execute_result"
    }
   ],
   "source": [
    "1816951/(3288175+1816951)*100"
   ]
  },
  {
   "cell_type": "code",
   "execution_count": 15,
   "id": "f4cb9d90",
   "metadata": {},
   "outputs": [
    {
     "data": {
      "text/plain": [
       "True     3330839\n",
       "False    1956940\n",
       "Name: liked, dtype: int64"
      ]
     },
     "execution_count": 15,
     "metadata": {},
     "output_type": "execute_result"
    }
   ],
   "source": [
    "df_audiences['liked'].loc[df_audiences['commented']==True].value_counts(dropna=False)"
   ]
  },
  {
   "cell_type": "code",
   "execution_count": 18,
   "id": "93fff205",
   "metadata": {},
   "outputs": [
    {
     "data": {
      "text/plain": [
       "37.00873277797729"
      ]
     },
     "execution_count": 18,
     "metadata": {},
     "output_type": "execute_result"
    }
   ],
   "source": [
    "1956940/(1956940+3330839)*100"
   ]
  },
  {
   "cell_type": "code",
   "execution_count": 13,
   "id": "d2f57dc1",
   "metadata": {},
   "outputs": [
    {
     "data": {
      "text/html": [
       "<div>\n",
       "<style scoped>\n",
       "    .dataframe tbody tr th:only-of-type {\n",
       "        vertical-align: middle;\n",
       "    }\n",
       "\n",
       "    .dataframe tbody tr th {\n",
       "        vertical-align: top;\n",
       "    }\n",
       "\n",
       "    .dataframe thead th {\n",
       "        text-align: right;\n",
       "    }\n",
       "</style>\n",
       "<table border=\"1\" class=\"dataframe\">\n",
       "  <thead>\n",
       "    <tr style=\"text-align: right;\">\n",
       "      <th></th>\n",
       "      <th>follower</th>\n",
       "      <th>person followed</th>\n",
       "      <th>timestamp</th>\n",
       "    </tr>\n",
       "  </thead>\n",
       "  <tbody>\n",
       "    <tr>\n",
       "      <th>0</th>\n",
       "      <td>users/17301813624860662494</td>\n",
       "      <td>users/17301813625195354624</td>\n",
       "      <td>2020-06-13T16:53:19.7077441Z</td>\n",
       "    </tr>\n",
       "    <tr>\n",
       "      <th>1</th>\n",
       "      <td>users/11928492392</td>\n",
       "      <td>users/12680019689</td>\n",
       "      <td>2019-04-11T22:23:51.9010202Z</td>\n",
       "    </tr>\n",
       "  </tbody>\n",
       "</table>\n",
       "</div>"
      ],
      "text/plain": [
       "                     follower             person followed  \\\n",
       "0  users/17301813624860662494  users/17301813625195354624   \n",
       "1           users/11928492392           users/12680019689   \n",
       "\n",
       "                      timestamp  \n",
       "0  2020-06-13T16:53:19.7077441Z  \n",
       "1  2019-04-11T22:23:51.9010202Z  "
      ]
     },
     "execution_count": 13,
     "metadata": {},
     "output_type": "execute_result"
    }
   ],
   "source": [
    "df_followers.head(2)"
   ]
  },
  {
   "cell_type": "code",
   "execution_count": 14,
   "id": "feaefe77",
   "metadata": {},
   "outputs": [
    {
     "data": {
      "text/html": [
       "<div>\n",
       "<style scoped>\n",
       "    .dataframe tbody tr th:only-of-type {\n",
       "        vertical-align: middle;\n",
       "    }\n",
       "\n",
       "    .dataframe tbody tr th {\n",
       "        vertical-align: top;\n",
       "    }\n",
       "\n",
       "    .dataframe thead th {\n",
       "        text-align: right;\n",
       "    }\n",
       "</style>\n",
       "<table border=\"1\" class=\"dataframe\">\n",
       "  <thead>\n",
       "    <tr style=\"text-align: right;\">\n",
       "      <th></th>\n",
       "      <th>beatId</th>\n",
       "      <th>genres</th>\n",
       "      <th>moods</th>\n",
       "      <th>nbKeaks</th>\n",
       "      <th>nbLikes</th>\n",
       "      <th>beatmakerId</th>\n",
       "      <th>duration</th>\n",
       "      <th>bpm</th>\n",
       "      <th>createdAt</th>\n",
       "      <th>updatedAt</th>\n",
       "      <th>link</th>\n",
       "      <th>licenceType</th>\n",
       "    </tr>\n",
       "  </thead>\n",
       "  <tbody>\n",
       "    <tr>\n",
       "      <th>0</th>\n",
       "      <td>17301813628927249101</td>\n",
       "      <td>[{'id': '9920897543', 'name': 'Trap'}]</td>\n",
       "      <td>[{'id': '17301813622132424287', 'name': 'Dark'...</td>\n",
       "      <td>7</td>\n",
       "      <td>4</td>\n",
       "      <td>17301813625134492069</td>\n",
       "      <td>121.0</td>\n",
       "      <td>102.0</td>\n",
       "      <td>2021-09-20T18:16:47.1420645Z</td>\n",
       "      <td>2021-09-20T18:17:00.2684235Z</td>\n",
       "      <td>https://keakr.com/fr/beat/turquoiz</td>\n",
       "      <td>[free]</td>\n",
       "    </tr>\n",
       "    <tr>\n",
       "      <th>1</th>\n",
       "      <td>17301813627622625982</td>\n",
       "      <td>[{'id': '9920897543', 'name': 'Trap'}]</td>\n",
       "      <td>[]</td>\n",
       "      <td>1</td>\n",
       "      <td>5</td>\n",
       "      <td>17301813627622569830</td>\n",
       "      <td>163.0</td>\n",
       "      <td>125.0</td>\n",
       "      <td>2021-03-31T15:20:10.726762Z</td>\n",
       "      <td>2021-03-31T15:20:26.5760601Z</td>\n",
       "      <td>https://keakr.com/fr/beat/moula-i</td>\n",
       "      <td>[free]</td>\n",
       "    </tr>\n",
       "  </tbody>\n",
       "</table>\n",
       "</div>"
      ],
      "text/plain": [
       "                 beatId                                  genres  \\\n",
       "0  17301813628927249101  [{'id': '9920897543', 'name': 'Trap'}]   \n",
       "1  17301813627622625982  [{'id': '9920897543', 'name': 'Trap'}]   \n",
       "\n",
       "                                               moods  nbKeaks  nbLikes  \\\n",
       "0  [{'id': '17301813622132424287', 'name': 'Dark'...        7        4   \n",
       "1                                                 []        1        5   \n",
       "\n",
       "            beatmakerId  duration    bpm                     createdAt  \\\n",
       "0  17301813625134492069     121.0  102.0  2021-09-20T18:16:47.1420645Z   \n",
       "1  17301813627622569830     163.0  125.0   2021-03-31T15:20:10.726762Z   \n",
       "\n",
       "                      updatedAt                                link  \\\n",
       "0  2021-09-20T18:17:00.2684235Z  https://keakr.com/fr/beat/turquoiz   \n",
       "1  2021-03-31T15:20:26.5760601Z   https://keakr.com/fr/beat/moula-i   \n",
       "\n",
       "  licenceType  \n",
       "0      [free]  \n",
       "1      [free]  "
      ]
     },
     "execution_count": 14,
     "metadata": {},
     "output_type": "execute_result"
    }
   ],
   "source": [
    "df_beats.head(2)"
   ]
  },
  {
   "cell_type": "code",
   "execution_count": 15,
   "id": "ed7f845b",
   "metadata": {},
   "outputs": [
    {
     "data": {
      "text/html": [
       "<div>\n",
       "<style scoped>\n",
       "    .dataframe tbody tr th:only-of-type {\n",
       "        vertical-align: middle;\n",
       "    }\n",
       "\n",
       "    .dataframe tbody tr th {\n",
       "        vertical-align: top;\n",
       "    }\n",
       "\n",
       "    .dataframe thead th {\n",
       "        text-align: right;\n",
       "    }\n",
       "</style>\n",
       "<table border=\"1\" class=\"dataframe\">\n",
       "  <thead>\n",
       "    <tr style=\"text-align: right;\">\n",
       "      <th></th>\n",
       "      <th>userId</th>\n",
       "      <th>createdAt</th>\n",
       "      <th>lastConnection</th>\n",
       "      <th>usedGenres</th>\n",
       "      <th>listenedGenres</th>\n",
       "      <th>battleCreatedCount</th>\n",
       "      <th>battleLostCount</th>\n",
       "      <th>battleRespondedCount</th>\n",
       "      <th>battleWonCount</th>\n",
       "      <th>friendCount</th>\n",
       "      <th>...</th>\n",
       "      <th>mutualFollowCount</th>\n",
       "      <th>overallBeatUsage</th>\n",
       "      <th>PlaylistCount</th>\n",
       "      <th>prizeMoneyParticipationCount</th>\n",
       "      <th>prizeMoneyWinner</th>\n",
       "      <th>sessionCount</th>\n",
       "      <th>shareCount</th>\n",
       "      <th>viewCount</th>\n",
       "      <th>isBeatmaker</th>\n",
       "      <th>isSinger</th>\n",
       "    </tr>\n",
       "  </thead>\n",
       "  <tbody>\n",
       "    <tr>\n",
       "      <th>0</th>\n",
       "      <td>12354401148</td>\n",
       "      <td>2019-03-02T10:23:33.0903001Z</td>\n",
       "      <td>2019-03-02T10:23:44.3283191Z</td>\n",
       "      <td>[]</td>\n",
       "      <td>[]</td>\n",
       "      <td>0</td>\n",
       "      <td>0</td>\n",
       "      <td>0</td>\n",
       "      <td>0</td>\n",
       "      <td>0</td>\n",
       "      <td>...</td>\n",
       "      <td>0.0</td>\n",
       "      <td>0.0</td>\n",
       "      <td>NaN</td>\n",
       "      <td>0</td>\n",
       "      <td>False</td>\n",
       "      <td>2.0</td>\n",
       "      <td>NaN</td>\n",
       "      <td>0</td>\n",
       "      <td>False</td>\n",
       "      <td>False</td>\n",
       "    </tr>\n",
       "    <tr>\n",
       "      <th>1</th>\n",
       "      <td>12354411487</td>\n",
       "      <td>2019-03-02T10:26:23.9016307Z</td>\n",
       "      <td>2020-09-24T06:16:46.8631984Z</td>\n",
       "      <td>[]</td>\n",
       "      <td>[]</td>\n",
       "      <td>0</td>\n",
       "      <td>0</td>\n",
       "      <td>0</td>\n",
       "      <td>0</td>\n",
       "      <td>0</td>\n",
       "      <td>...</td>\n",
       "      <td>NaN</td>\n",
       "      <td>0.0</td>\n",
       "      <td>NaN</td>\n",
       "      <td>0</td>\n",
       "      <td>False</td>\n",
       "      <td>8.0</td>\n",
       "      <td>NaN</td>\n",
       "      <td>0</td>\n",
       "      <td>False</td>\n",
       "      <td>False</td>\n",
       "    </tr>\n",
       "  </tbody>\n",
       "</table>\n",
       "<p>2 rows × 25 columns</p>\n",
       "</div>"
      ],
      "text/plain": [
       "        userId                     createdAt                lastConnection  \\\n",
       "0  12354401148  2019-03-02T10:23:33.0903001Z  2019-03-02T10:23:44.3283191Z   \n",
       "1  12354411487  2019-03-02T10:26:23.9016307Z  2020-09-24T06:16:46.8631984Z   \n",
       "\n",
       "  usedGenres listenedGenres  battleCreatedCount  battleLostCount  \\\n",
       "0         []             []                   0                0   \n",
       "1         []             []                   0                0   \n",
       "\n",
       "   battleRespondedCount  battleWonCount  friendCount  ...  mutualFollowCount  \\\n",
       "0                     0               0            0  ...                0.0   \n",
       "1                     0               0            0  ...                NaN   \n",
       "\n",
       "   overallBeatUsage PlaylistCount  prizeMoneyParticipationCount  \\\n",
       "0               0.0           NaN                             0   \n",
       "1               0.0           NaN                             0   \n",
       "\n",
       "   prizeMoneyWinner  sessionCount  shareCount  viewCount  isBeatmaker  \\\n",
       "0             False           2.0         NaN          0        False   \n",
       "1             False           8.0         NaN          0        False   \n",
       "\n",
       "   isSinger  \n",
       "0     False  \n",
       "1     False  \n",
       "\n",
       "[2 rows x 25 columns]"
      ]
     },
     "execution_count": 15,
     "metadata": {},
     "output_type": "execute_result"
    }
   ],
   "source": [
    "df_users.head(2)"
   ]
  },
  {
   "cell_type": "code",
   "execution_count": 17,
   "id": "20489cc5",
   "metadata": {},
   "outputs": [
    {
     "data": {
      "text/plain": [
       "['userId',\n",
       " 'createdAt',\n",
       " 'lastConnection',\n",
       " 'usedGenres',\n",
       " 'listenedGenres',\n",
       " 'battleCreatedCount',\n",
       " 'battleLostCount',\n",
       " 'battleRespondedCount',\n",
       " 'battleWonCount',\n",
       " 'friendCount',\n",
       " 'keakCount',\n",
       " 'keakrCoinGiven',\n",
       " 'keakCoinReceived',\n",
       " 'likeCount',\n",
       " 'likeGivenCount',\n",
       " 'mutualFollowCount',\n",
       " 'overallBeatUsage',\n",
       " 'PlaylistCount',\n",
       " 'prizeMoneyParticipationCount',\n",
       " 'prizeMoneyWinner',\n",
       " 'sessionCount',\n",
       " 'shareCount',\n",
       " 'viewCount',\n",
       " 'isBeatmaker',\n",
       " 'isSinger']"
      ]
     },
     "execution_count": 17,
     "metadata": {},
     "output_type": "execute_result"
    }
   ],
   "source": [
    "list(df_users.columns)"
   ]
  },
  {
   "cell_type": "code",
   "execution_count": null,
   "id": "501e6a1c",
   "metadata": {},
   "outputs": [],
   "source": []
  }
 ],
 "metadata": {
  "kernelspec": {
   "display_name": "Python 3 (ipykernel)",
   "language": "python",
   "name": "python3"
  },
  "language_info": {
   "codemirror_mode": {
    "name": "ipython",
    "version": 3
   },
   "file_extension": ".py",
   "mimetype": "text/x-python",
   "name": "python",
   "nbconvert_exporter": "python",
   "pygments_lexer": "ipython3",
   "version": "3.8.10"
  }
 },
 "nbformat": 4,
 "nbformat_minor": 5
}
