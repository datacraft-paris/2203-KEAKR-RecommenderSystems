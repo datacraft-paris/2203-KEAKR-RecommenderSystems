{
 "cells": [
  {
   "cell_type": "code",
   "execution_count": null,
   "id": "706713ba",
   "metadata": {},
   "outputs": [],
   "source": []
  },
  {
   "cell_type": "code",
   "execution_count": 1,
   "id": "0bfead41",
   "metadata": {},
   "outputs": [],
   "source": [
    "import json\n",
    "import numpy as np\n",
    "import pandas as pd\n",
    "import time\n",
    "import matplotlib.pyplot as plt"
   ]
  },
  {
   "cell_type": "code",
   "execution_count": null,
   "id": "9648d96d",
   "metadata": {},
   "outputs": [],
   "source": []
  },
  {
   "cell_type": "code",
   "execution_count": 2,
   "id": "b611f96e",
   "metadata": {},
   "outputs": [],
   "source": [
    "def from_jsonl_to_df(path):\n",
    "    t_start = time.time()\n",
    "    with open(path, 'r') as json_file:\n",
    "        json_list = list(json_file)\n",
    "    json_list = [json.loads(json_str) for json_str in json_list]\n",
    "    df = pd.DataFrame.from_dict(json_list, orient='columns')\n",
    "    \n",
    "    print(\"DataFrame of {}\".format(len(df))+\" rows loaded in {:.2f} sec\".format(time.time()-t_start))\n",
    "    return df\n",
    "\n",
    "def from_csv_to_df(path):\n",
    "    t_start=time.time()\n",
    "    if \"followers\" in path:\n",
    "        df=pd.read_csv(path, names=[\"follower\", \"person followed\", \"timestamp\"], header=None)\n",
    "    else:\n",
    "        df=pd.read_csv(path)\n",
    "    print(\"DataFrame of {}\".format(len(df))+\" rows loaded in {:.2f} sec\".format(time.time()-t_start))\n",
    "    return df"
   ]
  },
  {
   "cell_type": "code",
   "execution_count": 3,
   "id": "57a4bb2e",
   "metadata": {},
   "outputs": [
    {
     "name": "stdout",
     "output_type": "stream",
     "text": [
      "DataFrame of 274472 rows loaded in 5.16 sec\n"
     ]
    }
   ],
   "source": [
    "df_keaks = from_jsonl_to_df(\"data/full/keaks.jsonl\")"
   ]
  },
  {
   "cell_type": "code",
   "execution_count": 4,
   "id": "cb3b8d5d",
   "metadata": {},
   "outputs": [
    {
     "name": "stdout",
     "output_type": "stream",
     "text": [
      "DataFrame of 59761 rows loaded in 1.30 sec\n"
     ]
    }
   ],
   "source": [
    "df_beats =from_jsonl_to_df(\"data/full/beats.jsonl\")"
   ]
  },
  {
   "cell_type": "code",
   "execution_count": 5,
   "id": "f7fd0d82",
   "metadata": {},
   "outputs": [
    {
     "name": "stdout",
     "output_type": "stream",
     "text": [
      "DataFrame of 1162572 rows loaded in 31.69 sec\n"
     ]
    }
   ],
   "source": [
    "df_users =from_jsonl_to_df(\"data/full/users.jsonl\")"
   ]
  },
  {
   "cell_type": "code",
   "execution_count": 6,
   "id": "4496d4f5",
   "metadata": {},
   "outputs": [
    {
     "name": "stdout",
     "output_type": "stream",
     "text": [
      "DataFrame of 10506442 rows loaded in 11.16 sec\n"
     ]
    }
   ],
   "source": [
    "df_followers = from_csv_to_df(\"data/full/followers.csv\")"
   ]
  },
  {
   "cell_type": "code",
   "execution_count": 7,
   "id": "a75757b9",
   "metadata": {},
   "outputs": [
    {
     "name": "stdout",
     "output_type": "stream",
     "text": [
      "DataFrame of 28952275 rows loaded in 32.40 sec\n"
     ]
    }
   ],
   "source": [
    "df_audiences = from_csv_to_df(\"data/full/audiences.csv\")"
   ]
  },
  {
   "cell_type": "code",
   "execution_count": 8,
   "id": "85048c7c",
   "metadata": {},
   "outputs": [
    {
     "data": {
      "text/html": [
       "<div>\n",
       "<style scoped>\n",
       "    .dataframe tbody tr th:only-of-type {\n",
       "        vertical-align: middle;\n",
       "    }\n",
       "\n",
       "    .dataframe tbody tr th {\n",
       "        vertical-align: top;\n",
       "    }\n",
       "\n",
       "    .dataframe thead th {\n",
       "        text-align: right;\n",
       "    }\n",
       "</style>\n",
       "<table border=\"1\" class=\"dataframe\">\n",
       "  <thead>\n",
       "    <tr style=\"text-align: right;\">\n",
       "      <th></th>\n",
       "      <th>keakId</th>\n",
       "      <th>createdAt</th>\n",
       "      <th>likeCount</th>\n",
       "      <th>commentCount</th>\n",
       "      <th>viewCount</th>\n",
       "      <th>averageViewProgress</th>\n",
       "      <th>duration</th>\n",
       "      <th>hashtags</th>\n",
       "      <th>contentType</th>\n",
       "      <th>hasSmallThumbnail</th>\n",
       "      <th>link</th>\n",
       "      <th>beatId</th>\n",
       "      <th>beatGenres</th>\n",
       "    </tr>\n",
       "  </thead>\n",
       "  <tbody>\n",
       "    <tr>\n",
       "      <th>0</th>\n",
       "      <td>17301813623064450175</td>\n",
       "      <td>2019-10-10T21:20:59.2970322Z</td>\n",
       "      <td>4</td>\n",
       "      <td>2</td>\n",
       "      <td>42</td>\n",
       "      <td>7.80</td>\n",
       "      <td>107.0</td>\n",
       "      <td>[91, 1, Rap, Pen, freestyle2019, Trap2K19]</td>\n",
       "      <td>freestyle</td>\n",
       "      <td>True</td>\n",
       "      <td>https://www.keakr.com/fr/keak/mon-mec-rap-1</td>\n",
       "      <td>17301813622843862243</td>\n",
       "      <td>[{'id': '9920897543', 'name': 'Trap'}]</td>\n",
       "    </tr>\n",
       "    <tr>\n",
       "      <th>1</th>\n",
       "      <td>6202649352</td>\n",
       "      <td>2018-04-02T15:06:34.9851924Z</td>\n",
       "      <td>2</td>\n",
       "      <td>2</td>\n",
       "      <td>53</td>\n",
       "      <td>0.00</td>\n",
       "      <td>68.0</td>\n",
       "      <td>[]</td>\n",
       "      <td>freestyle</td>\n",
       "      <td>True</td>\n",
       "      <td>https://www.keakr.com/fr/keak/petit-salaire</td>\n",
       "      <td>None</td>\n",
       "      <td>None</td>\n",
       "    </tr>\n",
       "  </tbody>\n",
       "</table>\n",
       "</div>"
      ],
      "text/plain": [
       "                 keakId                     createdAt  likeCount  \\\n",
       "0  17301813623064450175  2019-10-10T21:20:59.2970322Z          4   \n",
       "1            6202649352  2018-04-02T15:06:34.9851924Z          2   \n",
       "\n",
       "   commentCount  viewCount averageViewProgress  duration  \\\n",
       "0             2         42                7.80     107.0   \n",
       "1             2         53                0.00      68.0   \n",
       "\n",
       "                                     hashtags contentType hasSmallThumbnail  \\\n",
       "0  [91, 1, Rap, Pen, freestyle2019, Trap2K19]   freestyle              True   \n",
       "1                                          []   freestyle              True   \n",
       "\n",
       "                                          link                beatId  \\\n",
       "0  https://www.keakr.com/fr/keak/mon-mec-rap-1  17301813622843862243   \n",
       "1  https://www.keakr.com/fr/keak/petit-salaire                  None   \n",
       "\n",
       "                               beatGenres  \n",
       "0  [{'id': '9920897543', 'name': 'Trap'}]  \n",
       "1                                    None  "
      ]
     },
     "execution_count": 8,
     "metadata": {},
     "output_type": "execute_result"
    }
   ],
   "source": [
    "df_keaks.head(2)"
   ]
  },
  {
   "cell_type": "code",
   "execution_count": 9,
   "id": "04186110",
   "metadata": {},
   "outputs": [
    {
     "data": {
      "text/html": [
       "<div>\n",
       "<style scoped>\n",
       "    .dataframe tbody tr th:only-of-type {\n",
       "        vertical-align: middle;\n",
       "    }\n",
       "\n",
       "    .dataframe tbody tr th {\n",
       "        vertical-align: top;\n",
       "    }\n",
       "\n",
       "    .dataframe thead th {\n",
       "        text-align: right;\n",
       "    }\n",
       "</style>\n",
       "<table border=\"1\" class=\"dataframe\">\n",
       "  <thead>\n",
       "    <tr style=\"text-align: right;\">\n",
       "      <th></th>\n",
       "      <th>userId</th>\n",
       "      <th>contentId</th>\n",
       "      <th>timestamp</th>\n",
       "      <th>progress</th>\n",
       "      <th>liked</th>\n",
       "      <th>commented</th>\n",
       "      <th>shared</th>\n",
       "    </tr>\n",
       "  </thead>\n",
       "  <tbody>\n",
       "    <tr>\n",
       "      <th>0</th>\n",
       "      <td>users/6512051967</td>\n",
       "      <td>keaks/17301813623657913783</td>\n",
       "      <td>2020-01-01T00:00:00.4081666</td>\n",
       "      <td>0</td>\n",
       "      <td>True</td>\n",
       "      <td>True</td>\n",
       "      <td>True</td>\n",
       "    </tr>\n",
       "    <tr>\n",
       "      <th>1</th>\n",
       "      <td>users/17301813623701852659</td>\n",
       "      <td>keaks/17301813623464753700</td>\n",
       "      <td>2020-01-01T00:00:00.8245932</td>\n",
       "      <td>0</td>\n",
       "      <td>False</td>\n",
       "      <td>False</td>\n",
       "      <td>False</td>\n",
       "    </tr>\n",
       "  </tbody>\n",
       "</table>\n",
       "</div>"
      ],
      "text/plain": [
       "                       userId                   contentId  \\\n",
       "0            users/6512051967  keaks/17301813623657913783   \n",
       "1  users/17301813623701852659  keaks/17301813623464753700   \n",
       "\n",
       "                     timestamp  progress  liked  commented  shared  \n",
       "0  2020-01-01T00:00:00.4081666         0   True       True    True  \n",
       "1  2020-01-01T00:00:00.8245932         0  False      False   False  "
      ]
     },
     "execution_count": 9,
     "metadata": {},
     "output_type": "execute_result"
    }
   ],
   "source": [
    "df_audiences.head(2)"
   ]
  },
  {
   "cell_type": "code",
   "execution_count": 10,
   "id": "43aa84f5",
   "metadata": {},
   "outputs": [
    {
     "data": {
      "text/html": [
       "<div>\n",
       "<style scoped>\n",
       "    .dataframe tbody tr th:only-of-type {\n",
       "        vertical-align: middle;\n",
       "    }\n",
       "\n",
       "    .dataframe tbody tr th {\n",
       "        vertical-align: top;\n",
       "    }\n",
       "\n",
       "    .dataframe thead th {\n",
       "        text-align: right;\n",
       "    }\n",
       "</style>\n",
       "<table border=\"1\" class=\"dataframe\">\n",
       "  <thead>\n",
       "    <tr style=\"text-align: right;\">\n",
       "      <th></th>\n",
       "      <th>follower</th>\n",
       "      <th>person followed</th>\n",
       "      <th>timestamp</th>\n",
       "    </tr>\n",
       "  </thead>\n",
       "  <tbody>\n",
       "    <tr>\n",
       "      <th>0</th>\n",
       "      <td>users/17301813624860662494</td>\n",
       "      <td>users/17301813625195354624</td>\n",
       "      <td>2020-06-13T16:53:19.7077441Z</td>\n",
       "    </tr>\n",
       "    <tr>\n",
       "      <th>1</th>\n",
       "      <td>users/11928492392</td>\n",
       "      <td>users/12680019689</td>\n",
       "      <td>2019-04-11T22:23:51.9010202Z</td>\n",
       "    </tr>\n",
       "  </tbody>\n",
       "</table>\n",
       "</div>"
      ],
      "text/plain": [
       "                     follower             person followed  \\\n",
       "0  users/17301813624860662494  users/17301813625195354624   \n",
       "1           users/11928492392           users/12680019689   \n",
       "\n",
       "                      timestamp  \n",
       "0  2020-06-13T16:53:19.7077441Z  \n",
       "1  2019-04-11T22:23:51.9010202Z  "
      ]
     },
     "execution_count": 10,
     "metadata": {},
     "output_type": "execute_result"
    }
   ],
   "source": [
    "df_followers.head(2)"
   ]
  },
  {
   "cell_type": "code",
   "execution_count": 11,
   "id": "667e21b6",
   "metadata": {},
   "outputs": [
    {
     "data": {
      "text/html": [
       "<div>\n",
       "<style scoped>\n",
       "    .dataframe tbody tr th:only-of-type {\n",
       "        vertical-align: middle;\n",
       "    }\n",
       "\n",
       "    .dataframe tbody tr th {\n",
       "        vertical-align: top;\n",
       "    }\n",
       "\n",
       "    .dataframe thead th {\n",
       "        text-align: right;\n",
       "    }\n",
       "</style>\n",
       "<table border=\"1\" class=\"dataframe\">\n",
       "  <thead>\n",
       "    <tr style=\"text-align: right;\">\n",
       "      <th></th>\n",
       "      <th>beatId</th>\n",
       "      <th>genres</th>\n",
       "      <th>moods</th>\n",
       "      <th>nbKeaks</th>\n",
       "      <th>nbLikes</th>\n",
       "      <th>beatmakerId</th>\n",
       "      <th>duration</th>\n",
       "      <th>bpm</th>\n",
       "      <th>createdAt</th>\n",
       "      <th>updatedAt</th>\n",
       "      <th>link</th>\n",
       "      <th>licenceType</th>\n",
       "    </tr>\n",
       "  </thead>\n",
       "  <tbody>\n",
       "    <tr>\n",
       "      <th>0</th>\n",
       "      <td>17301813628927249101</td>\n",
       "      <td>[{'id': '9920897543', 'name': 'Trap'}]</td>\n",
       "      <td>[{'id': '17301813622132424287', 'name': 'Dark'...</td>\n",
       "      <td>7</td>\n",
       "      <td>4</td>\n",
       "      <td>17301813625134492069</td>\n",
       "      <td>121.0</td>\n",
       "      <td>102.0</td>\n",
       "      <td>2021-09-20T18:16:47.1420645Z</td>\n",
       "      <td>2021-09-20T18:17:00.2684235Z</td>\n",
       "      <td>https://keakr.com/fr/beat/turquoiz</td>\n",
       "      <td>[free]</td>\n",
       "    </tr>\n",
       "    <tr>\n",
       "      <th>1</th>\n",
       "      <td>17301813627622625982</td>\n",
       "      <td>[{'id': '9920897543', 'name': 'Trap'}]</td>\n",
       "      <td>[]</td>\n",
       "      <td>1</td>\n",
       "      <td>5</td>\n",
       "      <td>17301813627622569830</td>\n",
       "      <td>163.0</td>\n",
       "      <td>125.0</td>\n",
       "      <td>2021-03-31T15:20:10.726762Z</td>\n",
       "      <td>2021-03-31T15:20:26.5760601Z</td>\n",
       "      <td>https://keakr.com/fr/beat/moula-i</td>\n",
       "      <td>[free]</td>\n",
       "    </tr>\n",
       "  </tbody>\n",
       "</table>\n",
       "</div>"
      ],
      "text/plain": [
       "                 beatId                                  genres  \\\n",
       "0  17301813628927249101  [{'id': '9920897543', 'name': 'Trap'}]   \n",
       "1  17301813627622625982  [{'id': '9920897543', 'name': 'Trap'}]   \n",
       "\n",
       "                                               moods  nbKeaks  nbLikes  \\\n",
       "0  [{'id': '17301813622132424287', 'name': 'Dark'...        7        4   \n",
       "1                                                 []        1        5   \n",
       "\n",
       "            beatmakerId  duration    bpm                     createdAt  \\\n",
       "0  17301813625134492069     121.0  102.0  2021-09-20T18:16:47.1420645Z   \n",
       "1  17301813627622569830     163.0  125.0   2021-03-31T15:20:10.726762Z   \n",
       "\n",
       "                      updatedAt                                link  \\\n",
       "0  2021-09-20T18:17:00.2684235Z  https://keakr.com/fr/beat/turquoiz   \n",
       "1  2021-03-31T15:20:26.5760601Z   https://keakr.com/fr/beat/moula-i   \n",
       "\n",
       "  licenceType  \n",
       "0      [free]  \n",
       "1      [free]  "
      ]
     },
     "execution_count": 11,
     "metadata": {},
     "output_type": "execute_result"
    }
   ],
   "source": [
    "df_beats.head(2)"
   ]
  },
  {
   "cell_type": "code",
   "execution_count": 12,
   "id": "3a0d0b2c",
   "metadata": {},
   "outputs": [
    {
     "data": {
      "text/html": [
       "<div>\n",
       "<style scoped>\n",
       "    .dataframe tbody tr th:only-of-type {\n",
       "        vertical-align: middle;\n",
       "    }\n",
       "\n",
       "    .dataframe tbody tr th {\n",
       "        vertical-align: top;\n",
       "    }\n",
       "\n",
       "    .dataframe thead th {\n",
       "        text-align: right;\n",
       "    }\n",
       "</style>\n",
       "<table border=\"1\" class=\"dataframe\">\n",
       "  <thead>\n",
       "    <tr style=\"text-align: right;\">\n",
       "      <th></th>\n",
       "      <th>userId</th>\n",
       "      <th>createdAt</th>\n",
       "      <th>lastConnection</th>\n",
       "      <th>usedGenres</th>\n",
       "      <th>listenedGenres</th>\n",
       "      <th>battleCreatedCount</th>\n",
       "      <th>battleLostCount</th>\n",
       "      <th>battleRespondedCount</th>\n",
       "      <th>battleWonCount</th>\n",
       "      <th>friendCount</th>\n",
       "      <th>...</th>\n",
       "      <th>mutualFollowCount</th>\n",
       "      <th>overallBeatUsage</th>\n",
       "      <th>PlaylistCount</th>\n",
       "      <th>prizeMoneyParticipationCount</th>\n",
       "      <th>prizeMoneyWinner</th>\n",
       "      <th>sessionCount</th>\n",
       "      <th>shareCount</th>\n",
       "      <th>viewCount</th>\n",
       "      <th>isBeatmaker</th>\n",
       "      <th>isSinger</th>\n",
       "    </tr>\n",
       "  </thead>\n",
       "  <tbody>\n",
       "    <tr>\n",
       "      <th>0</th>\n",
       "      <td>12354401148</td>\n",
       "      <td>2019-03-02T10:23:33.0903001Z</td>\n",
       "      <td>2019-03-02T10:23:44.3283191Z</td>\n",
       "      <td>[]</td>\n",
       "      <td>[]</td>\n",
       "      <td>0</td>\n",
       "      <td>0</td>\n",
       "      <td>0</td>\n",
       "      <td>0</td>\n",
       "      <td>0</td>\n",
       "      <td>...</td>\n",
       "      <td>0.0</td>\n",
       "      <td>0.0</td>\n",
       "      <td>NaN</td>\n",
       "      <td>0</td>\n",
       "      <td>False</td>\n",
       "      <td>2.0</td>\n",
       "      <td>NaN</td>\n",
       "      <td>0</td>\n",
       "      <td>False</td>\n",
       "      <td>False</td>\n",
       "    </tr>\n",
       "    <tr>\n",
       "      <th>1</th>\n",
       "      <td>12354411487</td>\n",
       "      <td>2019-03-02T10:26:23.9016307Z</td>\n",
       "      <td>2020-09-24T06:16:46.8631984Z</td>\n",
       "      <td>[]</td>\n",
       "      <td>[]</td>\n",
       "      <td>0</td>\n",
       "      <td>0</td>\n",
       "      <td>0</td>\n",
       "      <td>0</td>\n",
       "      <td>0</td>\n",
       "      <td>...</td>\n",
       "      <td>NaN</td>\n",
       "      <td>0.0</td>\n",
       "      <td>NaN</td>\n",
       "      <td>0</td>\n",
       "      <td>False</td>\n",
       "      <td>8.0</td>\n",
       "      <td>NaN</td>\n",
       "      <td>0</td>\n",
       "      <td>False</td>\n",
       "      <td>False</td>\n",
       "    </tr>\n",
       "  </tbody>\n",
       "</table>\n",
       "<p>2 rows × 25 columns</p>\n",
       "</div>"
      ],
      "text/plain": [
       "        userId                     createdAt                lastConnection  \\\n",
       "0  12354401148  2019-03-02T10:23:33.0903001Z  2019-03-02T10:23:44.3283191Z   \n",
       "1  12354411487  2019-03-02T10:26:23.9016307Z  2020-09-24T06:16:46.8631984Z   \n",
       "\n",
       "  usedGenres listenedGenres  battleCreatedCount  battleLostCount  \\\n",
       "0         []             []                   0                0   \n",
       "1         []             []                   0                0   \n",
       "\n",
       "   battleRespondedCount  battleWonCount  friendCount  ...  mutualFollowCount  \\\n",
       "0                     0               0            0  ...                0.0   \n",
       "1                     0               0            0  ...                NaN   \n",
       "\n",
       "   overallBeatUsage PlaylistCount  prizeMoneyParticipationCount  \\\n",
       "0               0.0           NaN                             0   \n",
       "1               0.0           NaN                             0   \n",
       "\n",
       "   prizeMoneyWinner  sessionCount  shareCount  viewCount  isBeatmaker  \\\n",
       "0             False           2.0         NaN          0        False   \n",
       "1             False           8.0         NaN          0        False   \n",
       "\n",
       "   isSinger  \n",
       "0     False  \n",
       "1     False  \n",
       "\n",
       "[2 rows x 25 columns]"
      ]
     },
     "execution_count": 12,
     "metadata": {},
     "output_type": "execute_result"
    }
   ],
   "source": [
    "df_users.head(2)"
   ]
  },
  {
   "cell_type": "code",
   "execution_count": null,
   "id": "6588397a",
   "metadata": {},
   "outputs": [],
   "source": []
  },
  {
   "cell_type": "code",
   "execution_count": 13,
   "id": "5952670c",
   "metadata": {},
   "outputs": [
    {
     "data": {
      "text/html": [
       "<div>\n",
       "<style scoped>\n",
       "    .dataframe tbody tr th:only-of-type {\n",
       "        vertical-align: middle;\n",
       "    }\n",
       "\n",
       "    .dataframe tbody tr th {\n",
       "        vertical-align: top;\n",
       "    }\n",
       "\n",
       "    .dataframe thead th {\n",
       "        text-align: right;\n",
       "    }\n",
       "</style>\n",
       "<table border=\"1\" class=\"dataframe\">\n",
       "  <thead>\n",
       "    <tr style=\"text-align: right;\">\n",
       "      <th></th>\n",
       "      <th>battleCreatedCount</th>\n",
       "      <th>battleLostCount</th>\n",
       "      <th>battleRespondedCount</th>\n",
       "      <th>battleWonCount</th>\n",
       "      <th>friendCount</th>\n",
       "      <th>keakCount</th>\n",
       "      <th>keakrCoinGiven</th>\n",
       "      <th>likeCount</th>\n",
       "      <th>likeGivenCount</th>\n",
       "      <th>mutualFollowCount</th>\n",
       "      <th>overallBeatUsage</th>\n",
       "      <th>PlaylistCount</th>\n",
       "      <th>prizeMoneyParticipationCount</th>\n",
       "      <th>sessionCount</th>\n",
       "      <th>shareCount</th>\n",
       "      <th>viewCount</th>\n",
       "    </tr>\n",
       "  </thead>\n",
       "  <tbody>\n",
       "    <tr>\n",
       "      <th>count</th>\n",
       "      <td>1.162572e+06</td>\n",
       "      <td>1.162572e+06</td>\n",
       "      <td>1.162572e+06</td>\n",
       "      <td>1.162572e+06</td>\n",
       "      <td>1.162572e+06</td>\n",
       "      <td>1.162572e+06</td>\n",
       "      <td>1061.000000</td>\n",
       "      <td>1.162572e+06</td>\n",
       "      <td>1.159084e+06</td>\n",
       "      <td>601842.000000</td>\n",
       "      <td>837691.000000</td>\n",
       "      <td>346591.000000</td>\n",
       "      <td>1.162572e+06</td>\n",
       "      <td>1.158520e+06</td>\n",
       "      <td>29249.000000</td>\n",
       "      <td>1.162572e+06</td>\n",
       "    </tr>\n",
       "    <tr>\n",
       "      <th>mean</th>\n",
       "      <td>8.032191e-03</td>\n",
       "      <td>7.214177e-03</td>\n",
       "      <td>1.825263e-03</td>\n",
       "      <td>7.213317e-03</td>\n",
       "      <td>1.538281e+00</td>\n",
       "      <td>2.340199e-01</td>\n",
       "      <td>34.825636</td>\n",
       "      <td>3.333119e+00</td>\n",
       "      <td>3.648782e+00</td>\n",
       "      <td>3.916835</td>\n",
       "      <td>0.179752</td>\n",
       "      <td>0.438465</td>\n",
       "      <td>3.358072e-03</td>\n",
       "      <td>1.819358e+01</td>\n",
       "      <td>16.187801</td>\n",
       "      <td>5.347077e+01</td>\n",
       "    </tr>\n",
       "    <tr>\n",
       "      <th>std</th>\n",
       "      <td>2.250570e-01</td>\n",
       "      <td>2.941909e-01</td>\n",
       "      <td>1.066128e-01</td>\n",
       "      <td>2.042275e-01</td>\n",
       "      <td>4.399846e+01</td>\n",
       "      <td>4.046404e+00</td>\n",
       "      <td>194.273423</td>\n",
       "      <td>1.595598e+02</td>\n",
       "      <td>1.011568e+02</td>\n",
       "      <td>136.180003</td>\n",
       "      <td>10.370143</td>\n",
       "      <td>2.490397</td>\n",
       "      <td>7.528291e-02</td>\n",
       "      <td>1.708561e+02</td>\n",
       "      <td>381.342364</td>\n",
       "      <td>2.782418e+03</td>\n",
       "    </tr>\n",
       "    <tr>\n",
       "      <th>min</th>\n",
       "      <td>0.000000e+00</td>\n",
       "      <td>0.000000e+00</td>\n",
       "      <td>0.000000e+00</td>\n",
       "      <td>0.000000e+00</td>\n",
       "      <td>0.000000e+00</td>\n",
       "      <td>0.000000e+00</td>\n",
       "      <td>0.000000</td>\n",
       "      <td>-1.000000e+00</td>\n",
       "      <td>0.000000e+00</td>\n",
       "      <td>-1.000000</td>\n",
       "      <td>0.000000</td>\n",
       "      <td>0.000000</td>\n",
       "      <td>-1.000000e+00</td>\n",
       "      <td>0.000000e+00</td>\n",
       "      <td>0.000000</td>\n",
       "      <td>0.000000e+00</td>\n",
       "    </tr>\n",
       "    <tr>\n",
       "      <th>25%</th>\n",
       "      <td>0.000000e+00</td>\n",
       "      <td>0.000000e+00</td>\n",
       "      <td>0.000000e+00</td>\n",
       "      <td>0.000000e+00</td>\n",
       "      <td>0.000000e+00</td>\n",
       "      <td>0.000000e+00</td>\n",
       "      <td>0.000000</td>\n",
       "      <td>0.000000e+00</td>\n",
       "      <td>0.000000e+00</td>\n",
       "      <td>0.000000</td>\n",
       "      <td>0.000000</td>\n",
       "      <td>0.000000</td>\n",
       "      <td>0.000000e+00</td>\n",
       "      <td>1.000000e+00</td>\n",
       "      <td>0.000000</td>\n",
       "      <td>0.000000e+00</td>\n",
       "    </tr>\n",
       "    <tr>\n",
       "      <th>50%</th>\n",
       "      <td>0.000000e+00</td>\n",
       "      <td>0.000000e+00</td>\n",
       "      <td>0.000000e+00</td>\n",
       "      <td>0.000000e+00</td>\n",
       "      <td>0.000000e+00</td>\n",
       "      <td>0.000000e+00</td>\n",
       "      <td>0.000000</td>\n",
       "      <td>0.000000e+00</td>\n",
       "      <td>0.000000e+00</td>\n",
       "      <td>0.000000</td>\n",
       "      <td>0.000000</td>\n",
       "      <td>0.000000</td>\n",
       "      <td>0.000000e+00</td>\n",
       "      <td>3.000000e+00</td>\n",
       "      <td>0.000000</td>\n",
       "      <td>0.000000e+00</td>\n",
       "    </tr>\n",
       "    <tr>\n",
       "      <th>75%</th>\n",
       "      <td>0.000000e+00</td>\n",
       "      <td>0.000000e+00</td>\n",
       "      <td>0.000000e+00</td>\n",
       "      <td>0.000000e+00</td>\n",
       "      <td>0.000000e+00</td>\n",
       "      <td>0.000000e+00</td>\n",
       "      <td>10.000000</td>\n",
       "      <td>0.000000e+00</td>\n",
       "      <td>1.000000e+00</td>\n",
       "      <td>0.000000</td>\n",
       "      <td>0.000000</td>\n",
       "      <td>1.000000</td>\n",
       "      <td>0.000000e+00</td>\n",
       "      <td>8.000000e+00</td>\n",
       "      <td>0.000000</td>\n",
       "      <td>0.000000e+00</td>\n",
       "    </tr>\n",
       "    <tr>\n",
       "      <th>max</th>\n",
       "      <td>8.600000e+01</td>\n",
       "      <td>1.250000e+02</td>\n",
       "      <td>4.800000e+01</td>\n",
       "      <td>6.400000e+01</td>\n",
       "      <td>1.728100e+04</td>\n",
       "      <td>1.487000e+03</td>\n",
       "      <td>3810.000000</td>\n",
       "      <td>7.831000e+04</td>\n",
       "      <td>4.484600e+04</td>\n",
       "      <td>38268.000000</td>\n",
       "      <td>4135.000000</td>\n",
       "      <td>626.000000</td>\n",
       "      <td>1.300000e+01</td>\n",
       "      <td>5.768500e+04</td>\n",
       "      <td>49495.000000</td>\n",
       "      <td>1.124361e+06</td>\n",
       "    </tr>\n",
       "  </tbody>\n",
       "</table>\n",
       "</div>"
      ],
      "text/plain": [
       "       battleCreatedCount  battleLostCount  battleRespondedCount  \\\n",
       "count        1.162572e+06     1.162572e+06          1.162572e+06   \n",
       "mean         8.032191e-03     7.214177e-03          1.825263e-03   \n",
       "std          2.250570e-01     2.941909e-01          1.066128e-01   \n",
       "min          0.000000e+00     0.000000e+00          0.000000e+00   \n",
       "25%          0.000000e+00     0.000000e+00          0.000000e+00   \n",
       "50%          0.000000e+00     0.000000e+00          0.000000e+00   \n",
       "75%          0.000000e+00     0.000000e+00          0.000000e+00   \n",
       "max          8.600000e+01     1.250000e+02          4.800000e+01   \n",
       "\n",
       "       battleWonCount   friendCount     keakCount  keakrCoinGiven  \\\n",
       "count    1.162572e+06  1.162572e+06  1.162572e+06     1061.000000   \n",
       "mean     7.213317e-03  1.538281e+00  2.340199e-01       34.825636   \n",
       "std      2.042275e-01  4.399846e+01  4.046404e+00      194.273423   \n",
       "min      0.000000e+00  0.000000e+00  0.000000e+00        0.000000   \n",
       "25%      0.000000e+00  0.000000e+00  0.000000e+00        0.000000   \n",
       "50%      0.000000e+00  0.000000e+00  0.000000e+00        0.000000   \n",
       "75%      0.000000e+00  0.000000e+00  0.000000e+00       10.000000   \n",
       "max      6.400000e+01  1.728100e+04  1.487000e+03     3810.000000   \n",
       "\n",
       "          likeCount  likeGivenCount  mutualFollowCount  overallBeatUsage  \\\n",
       "count  1.162572e+06    1.159084e+06      601842.000000     837691.000000   \n",
       "mean   3.333119e+00    3.648782e+00           3.916835          0.179752   \n",
       "std    1.595598e+02    1.011568e+02         136.180003         10.370143   \n",
       "min   -1.000000e+00    0.000000e+00          -1.000000          0.000000   \n",
       "25%    0.000000e+00    0.000000e+00           0.000000          0.000000   \n",
       "50%    0.000000e+00    0.000000e+00           0.000000          0.000000   \n",
       "75%    0.000000e+00    1.000000e+00           0.000000          0.000000   \n",
       "max    7.831000e+04    4.484600e+04       38268.000000       4135.000000   \n",
       "\n",
       "       PlaylistCount  prizeMoneyParticipationCount  sessionCount  \\\n",
       "count  346591.000000                  1.162572e+06  1.158520e+06   \n",
       "mean        0.438465                  3.358072e-03  1.819358e+01   \n",
       "std         2.490397                  7.528291e-02  1.708561e+02   \n",
       "min         0.000000                 -1.000000e+00  0.000000e+00   \n",
       "25%         0.000000                  0.000000e+00  1.000000e+00   \n",
       "50%         0.000000                  0.000000e+00  3.000000e+00   \n",
       "75%         1.000000                  0.000000e+00  8.000000e+00   \n",
       "max       626.000000                  1.300000e+01  5.768500e+04   \n",
       "\n",
       "         shareCount     viewCount  \n",
       "count  29249.000000  1.162572e+06  \n",
       "mean      16.187801  5.347077e+01  \n",
       "std      381.342364  2.782418e+03  \n",
       "min        0.000000  0.000000e+00  \n",
       "25%        0.000000  0.000000e+00  \n",
       "50%        0.000000  0.000000e+00  \n",
       "75%        0.000000  0.000000e+00  \n",
       "max    49495.000000  1.124361e+06  "
      ]
     },
     "execution_count": 13,
     "metadata": {},
     "output_type": "execute_result"
    }
   ],
   "source": [
    "df_users.describe()"
   ]
  },
  {
   "cell_type": "code",
   "execution_count": 14,
   "id": "765f6e2a",
   "metadata": {},
   "outputs": [],
   "source": [
    "def numpy_filter(array, thresholds):\n",
    "    print(f\"threshold || #value\")\n",
    "    for threshold in thresholds :\n",
    "        test = array[array > threshold]\n",
    "        print(f\"{threshold} || {len(test)}\")"
   ]
  },
  {
   "cell_type": "code",
   "execution_count": 15,
   "id": "4b8f7dc0",
   "metadata": {},
   "outputs": [
    {
     "name": "stdout",
     "output_type": "stream",
     "text": [
      "threshold || #value\n",
      "10 || 236405\n",
      "100 || 28739\n",
      "500 || 5187\n",
      "1000 || 2163\n"
     ]
    },
    {
     "data": {
      "text/plain": [
       "(1, 1000000.0)"
      ]
     },
     "execution_count": 15,
     "metadata": {},
     "output_type": "execute_result"
    },
    {
     "data": {
      "image/png": "[encoded data removed]",
      "text/plain": [
       "<Figure size 432x288 with 1 Axes>"
      ]
     },
     "metadata": {
      "needs_background": "light"
     },
     "output_type": "display_data"
    }
   ],
   "source": [
    "df_users2 = df_users[df_users['sessionCount'].notnull()]\n",
    "\n",
    "sessioncount = np.sort(df_users2[\"sessionCount\"])[::-1]\n",
    "nb_user = np.arange(0, np.size(sessioncount))\n",
    "\n",
    "\n",
    "numpy_filter(sessioncount, [10, 100, 500, 1000])\n",
    "\n",
    "\n",
    "plt.figure() # tight_layout=True\n",
    "plt.plot(sessioncount, nb_user, 'b-')\n",
    "plt.plot([500, 500], [0.1, 1.0e6])\n",
    "plt.xscale('log')\n",
    "plt.yscale('log')\n",
    "plt.xlim([1, 1.0e5])\n",
    "plt.ylim([1, 1.0e6])"
   ]
  },
  {
   "cell_type": "code",
   "execution_count": 16,
   "id": "f5144351",
   "metadata": {},
   "outputs": [
    {
     "data": {
      "text/plain": [
       "Index(['userId', 'createdAt', 'lastConnection', 'usedGenres', 'listenedGenres',\n",
       "       'battleCreatedCount', 'battleLostCount', 'battleRespondedCount',\n",
       "       'battleWonCount', 'friendCount', 'keakCount', 'keakrCoinGiven',\n",
       "       'keakCoinReceived', 'likeCount', 'likeGivenCount', 'mutualFollowCount',\n",
       "       'overallBeatUsage', 'PlaylistCount', 'prizeMoneyParticipationCount',\n",
       "       'prizeMoneyWinner', 'sessionCount', 'shareCount', 'viewCount',\n",
       "       'isBeatmaker', 'isSinger'],\n",
       "      dtype='object')"
      ]
     },
     "execution_count": 16,
     "metadata": {},
     "output_type": "execute_result"
    }
   ],
   "source": [
    "df_users.columns"
   ]
  },
  {
   "cell_type": "code",
   "execution_count": 20,
   "id": "ea4dd953",
   "metadata": {},
   "outputs": [
    {
     "name": "stdout",
     "output_type": "stream",
     "text": [
      "(51636,) <class 'list'> [[{'genreId': '9920897532', 'count': 1}, {'genreId': '9920897543', 'count': 1}], [{'genreId': '9920897537', 'count': 1}]]\n"
     ]
    }
   ],
   "source": [
    "def loop_column(element):\n",
    "    if isinstance(element, list):\n",
    "        if len(element) > 0 :\n",
    "            return element\n",
    "    else:\n",
    "        return None\n",
    "\n",
    "\n",
    "used_genres = df_users[\"usedGenres\"].apply(lambda x: loop_column(x))\n",
    "used_genres = [element for element in used_genres if element is not None]\n",
    "\n",
    "print(np.shape(used_genres), type(used_genres[0]), used_genres[:2])\n",
    "\n"
   ]
  },
  {
   "cell_type": "code",
   "execution_count": 19,
   "id": "16509e18",
   "metadata": {},
   "outputs": [],
   "source": [
    "# df_users_reduced = df_users['userId', 'createdAt', 'lastConnection', 'usedGenres', 'listenedGenres', 'friendCount',\n",
    "#                             'keakCount', 'likeCount', 'likeGivenCount', 'mutualFollowCount', 'sessionCount', 'shareCount', 'viewCount',\n",
    "#                             'isBeatmaker', 'isSinger']"
   ]
  },
  {
   "cell_type": "code",
   "execution_count": 40,
   "id": "2ff423d7",
   "metadata": {},
   "outputs": [
    {
     "name": "stdout",
     "output_type": "stream",
     "text": [
      "11913 + 68216 = 80129\n"
     ]
    }
   ],
   "source": [
    "df_users.isBeatmaker = df_users.isBeatmaker.apply(lambda x: 1 if x==True else 0)\n",
    "df_users.isSinger = df_users.isSinger.apply(lambda x: 1 if x==True else 0)\n",
    "\n",
    "print(df_users.isBeatmaker.sum(), '+', df_users.isSinger.sum(), '=', df_users.isBeatmaker.sum()+df_users.isSinger.sum())"
   ]
  },
  {
   "cell_type": "code",
   "execution_count": 47,
   "id": "614f10f6",
   "metadata": {},
   "outputs": [
    {
     "name": "stdout",
     "output_type": "stream",
     "text": [
      "New shape is:  (28739, 25)\n",
      "isBeatmaker + isSinger:  3154 + 17707 = 20861\n"
     ]
    },
    {
     "name": "stderr",
     "output_type": "stream",
     "text": [
      "/tmp/ipykernel_7508/342176310.py:4: SettingWithCopyWarning: \n",
      "A value is trying to be set on a copy of a slice from a DataFrame.\n",
      "Try using .loc[row_indexer,col_indexer] = value instead\n",
      "\n",
      "See the caveats in the documentation: https://pandas.pydata.org/pandas-docs/stable/user_guide/indexing.html#returning-a-view-versus-a-copy\n",
      "  df_users_reduced.isBeatmaker = df_users_reduced.isBeatmaker.apply(lambda x: 1 if x==True else 0)\n",
      "/tmp/ipykernel_7508/342176310.py:5: SettingWithCopyWarning: \n",
      "A value is trying to be set on a copy of a slice from a DataFrame.\n",
      "Try using .loc[row_indexer,col_indexer] = value instead\n",
      "\n",
      "See the caveats in the documentation: https://pandas.pydata.org/pandas-docs/stable/user_guide/indexing.html#returning-a-view-versus-a-copy\n",
      "  df_users_reduced.isSinger = df_users_reduced.isSinger.apply(lambda x: 1 if x==True else 0)\n"
     ]
    }
   ],
   "source": [
    "df_users_reduced = df_users2.loc[(df_users2.sessionCount > 100)] # & (df_users2['column_name'] <= B)]\n",
    "print(\"New shape is: \", df_users_reduced.shape)\n",
    "\n",
    "df_users_reduced.isBeatmaker = df_users_reduced.isBeatmaker.apply(lambda x: 1 if x==True else 0)\n",
    "df_users_reduced.isSinger = df_users_reduced.isSinger.apply(lambda x: 1 if x==True else 0)\n",
    "\n",
    "# df_users_reduced.isBeatmaker.loc[(df_users_reduced.isBeatmaker == True)] = 1\n",
    "# df_users_reduced.isBeatmaker.loc[(df_users_reduced.isBeatmaker == False)] = 0\n",
    "# df_users_reduced.isSinger.loc[(df_users_reduced.isSinger == True)] = 1\n",
    "# df_users_reduced.isSinger.loc[(df_users_reduced.isSinger == False)] = 0\n",
    "\n",
    "print(\"isBeatmaker + isSinger: \", df_users_reduced.isBeatmaker.sum(), '+', df_users_reduced.isSinger.sum(), '=', df_users_reduced.isBeatmaker.sum()+df_users_reduced.isSinger.sum())\n"
   ]
  },
  {
   "cell_type": "code",
   "execution_count": 17,
   "id": "ec7b6f94",
   "metadata": {},
   "outputs": [],
   "source": []
  }
 ],
 "metadata": {
  "kernelspec": {
   "display_name": "Python 3 (ipykernel)",
   "language": "python",
   "name": "python3"
  },
  "language_info": {
   "codemirror_mode": {
    "name": "ipython",
    "version": 3
   },
   "file_extension": ".py",
   "mimetype": "text/x-python",
   "name": "python",
   "nbconvert_exporter": "python",
   "pygments_lexer": "ipython3",
   "version": "3.8.10"
  }
 },
 "nbformat": 4,
 "nbformat_minor": 5
}
